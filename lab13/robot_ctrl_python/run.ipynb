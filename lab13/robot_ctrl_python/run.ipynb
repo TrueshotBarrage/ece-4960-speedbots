{
 "cells": [
  {
   "cell_type": "code",
   "execution_count": 32,
   "id": "8dc7c631-ec98-4e67-b4da-8db8b6e30c10",
   "metadata": {},
   "outputs": [
    {
     "name": "stdout",
     "output_type": "stream",
     "text": [
      "The autoreload extension is already loaded. To reload it, use:\n",
      "  %reload_ext autoreload\n"
     ]
    }
   ],
   "source": [
    "%load_ext autoreload\n",
    "%autoreload 2\n",
    "\n",
    "from ble import get_ble_controller\n",
    "from base_ble import LOG\n",
    "from cmd_types import CMD\n",
    "import time\n",
    "import asyncio\n",
    "import numpy as np\n",
    "\n",
    "\n",
    "LOG.propagate = False"
   ]
  },
  {
   "cell_type": "code",
   "execution_count": 345,
   "id": "bf6504b1-8605-408a-aaf0-b91204e33609",
   "metadata": {},
   "outputs": [
    {
     "name": "stdout",
     "output_type": "stream",
     "text": [
      "2022-05-20 15:22:44,936 |\u001b[32m INFO     \u001b[0m|: Already connected to a BLE device\n"
     ]
    }
   ],
   "source": [
    "# Get ArtemisBLEController object\n",
    "ble = get_ble_controller()\n",
    "\n",
    "# Connect to the Artemis Device\n",
    "ble.connect()"
   ]
  },
  {
   "cell_type": "code",
   "execution_count": 346,
   "id": "42f4160d-4726-42f9-9ca3-d1befc042883",
   "metadata": {},
   "outputs": [],
   "source": [
    "# Instantiate RobotControl class (in controller.py)\n",
    "from controller import *"
   ]
  },
  {
   "cell_type": "code",
   "execution_count": 347,
   "id": "d5ec3148-e108-4b49-861a-144db6b60ab3",
   "metadata": {},
   "outputs": [
    {
     "ename": "ValueError",
     "evalue": "Characteristic notifications already started",
     "output_type": "error",
     "traceback": [
      "\u001b[0;31m---------------------------------------------------------------------------\u001b[0m",
      "\u001b[0;31mValueError\u001b[0m                                Traceback (most recent call last)",
      "Input \u001b[0;32mIn [347]\u001b[0m, in \u001b[0;36m<cell line: 1>\u001b[0;34m()\u001b[0m\n\u001b[0;32m----> 1\u001b[0m rc \u001b[38;5;241m=\u001b[39m \u001b[43mRobotControl\u001b[49m\u001b[43m(\u001b[49m\u001b[43mble\u001b[49m\u001b[43m)\u001b[49m\n",
      "File \u001b[0;32m~/Documents/git/fast-robots/lab13/robot_ctrl_python/controller.py:108\u001b[0m, in \u001b[0;36mRobotControl.__init__\u001b[0;34m(self, ble, max_length)\u001b[0m\n\u001b[1;32m    105\u001b[0m \u001b[38;5;28mself\u001b[39m\u001b[38;5;241m.\u001b[39msensor_arr \u001b[38;5;241m=\u001b[39m \u001b[38;5;28;01mNone\u001b[39;00m\n\u001b[1;32m    107\u001b[0m \u001b[38;5;66;03m# Activate notifications for each characteristic\u001b[39;00m\n\u001b[0;32m--> 108\u001b[0m \u001b[38;5;28;43mself\u001b[39;49m\u001b[38;5;241;43m.\u001b[39;49m\u001b[43msetup_notify\u001b[49m\u001b[43m(\u001b[49m\u001b[43m)\u001b[49m\n",
      "File \u001b[0;32m~/Documents/git/fast-robots/lab13/robot_ctrl_python/controller.py:114\u001b[0m, in \u001b[0;36mRobotControl.setup_notify\u001b[0;34m(self)\u001b[0m\n\u001b[1;32m    113\u001b[0m \u001b[38;5;28;01mdef\u001b[39;00m \u001b[38;5;21msetup_notify\u001b[39m(\u001b[38;5;28mself\u001b[39m):\n\u001b[0;32m--> 114\u001b[0m     \u001b[38;5;28;43mself\u001b[39;49m\u001b[38;5;241;43m.\u001b[39;49m\u001b[43mble\u001b[49m\u001b[38;5;241;43m.\u001b[39;49m\u001b[43mstart_notify\u001b[49m\u001b[43m(\u001b[49m\u001b[38;5;28;43mself\u001b[39;49m\u001b[38;5;241;43m.\u001b[39;49m\u001b[43mble\u001b[49m\u001b[38;5;241;43m.\u001b[39;49m\u001b[43muuid\u001b[49m\u001b[43m[\u001b[49m\u001b[43mtof_r_uuid_key\u001b[49m\u001b[43m]\u001b[49m\u001b[43m,\u001b[49m\n\u001b[1;32m    115\u001b[0m \u001b[43m                          \u001b[49m\u001b[38;5;28;43mself\u001b[39;49m\u001b[38;5;241;43m.\u001b[39;49m\u001b[43mright_tof_callback_handler\u001b[49m\u001b[43m)\u001b[49m\n\u001b[1;32m    116\u001b[0m     \u001b[38;5;28mself\u001b[39m\u001b[38;5;241m.\u001b[39mble\u001b[38;5;241m.\u001b[39mstart_notify(\u001b[38;5;28mself\u001b[39m\u001b[38;5;241m.\u001b[39mble\u001b[38;5;241m.\u001b[39muuid[tof_f_uuid_key],\n\u001b[1;32m    117\u001b[0m                           \u001b[38;5;28mself\u001b[39m\u001b[38;5;241m.\u001b[39mfront_tof_callback_handler)\n\u001b[1;32m    118\u001b[0m     \u001b[38;5;28mself\u001b[39m\u001b[38;5;241m.\u001b[39mble\u001b[38;5;241m.\u001b[39mstart_notify(\u001b[38;5;28mself\u001b[39m\u001b[38;5;241m.\u001b[39mble\u001b[38;5;241m.\u001b[39muuid[imu_uuid_key],\n\u001b[1;32m    119\u001b[0m                           \u001b[38;5;28mself\u001b[39m\u001b[38;5;241m.\u001b[39mimu_callback_handler)\n",
      "File \u001b[0;32m~/Documents/git/fast-robots/lab13/robot_ctrl_python/ble.py:89\u001b[0m, in \u001b[0;36mBaseBLEController.start_notify\u001b[0;34m(self, uuid, notification_handler)\u001b[0m\n\u001b[1;32m     88\u001b[0m \u001b[38;5;28;01mdef\u001b[39;00m \u001b[38;5;21mstart_notify\u001b[39m(\u001b[38;5;28mself\u001b[39m, uuid, notification_handler):\n\u001b[0;32m---> 89\u001b[0m     \u001b[38;5;28;43mself\u001b[39;49m\u001b[38;5;241;43m.\u001b[39;49m\u001b[43m_wait\u001b[49m\u001b[43m(\u001b[49m\u001b[38;5;28;43mself\u001b[39;49m\u001b[38;5;241;43m.\u001b[39;49m\u001b[43mdevice\u001b[49m\u001b[38;5;241;43m.\u001b[39;49m\u001b[43m_start_notify\u001b[49m\u001b[43m(\u001b[49m\u001b[43muuid\u001b[49m\u001b[43m,\u001b[49m\u001b[43m \u001b[49m\u001b[43mnotification_handler\u001b[49m\u001b[43m)\u001b[49m\u001b[43m)\u001b[49m\n",
      "File \u001b[0;32m~/Documents/git/fast-robots/lab13/robot_ctrl_python/base_ble.py:33\u001b[0m, in \u001b[0;36mwait_b\u001b[0;34m(coroutine)\u001b[0m\n\u001b[1;32m     32\u001b[0m \u001b[38;5;28;01mdef\u001b[39;00m \u001b[38;5;21mwait_b\u001b[39m(coroutine):\n\u001b[0;32m---> 33\u001b[0m     \u001b[38;5;28;01mreturn\u001b[39;00m \u001b[43masyncio\u001b[49m\u001b[38;5;241;43m.\u001b[39;49m\u001b[43mrun\u001b[49m\u001b[43m(\u001b[49m\u001b[43mcoroutine\u001b[49m\u001b[43m)\u001b[49m\n",
      "File \u001b[0;32m~/Documents/git/ece4960_sim/lib/python3.10/site-packages/nest_asyncio.py:35\u001b[0m, in \u001b[0;36m_patch_asyncio.<locals>.run\u001b[0;34m(main, debug)\u001b[0m\n\u001b[1;32m     33\u001b[0m task \u001b[38;5;241m=\u001b[39m asyncio\u001b[38;5;241m.\u001b[39mensure_future(main)\n\u001b[1;32m     34\u001b[0m \u001b[38;5;28;01mtry\u001b[39;00m:\n\u001b[0;32m---> 35\u001b[0m     \u001b[38;5;28;01mreturn\u001b[39;00m \u001b[43mloop\u001b[49m\u001b[38;5;241;43m.\u001b[39;49m\u001b[43mrun_until_complete\u001b[49m\u001b[43m(\u001b[49m\u001b[43mtask\u001b[49m\u001b[43m)\u001b[49m\n\u001b[1;32m     36\u001b[0m \u001b[38;5;28;01mfinally\u001b[39;00m:\n\u001b[1;32m     37\u001b[0m     \u001b[38;5;28;01mif\u001b[39;00m \u001b[38;5;129;01mnot\u001b[39;00m task\u001b[38;5;241m.\u001b[39mdone():\n",
      "File \u001b[0;32m~/Documents/git/ece4960_sim/lib/python3.10/site-packages/nest_asyncio.py:89\u001b[0m, in \u001b[0;36m_patch_loop.<locals>.run_until_complete\u001b[0;34m(self, future)\u001b[0m\n\u001b[1;32m     86\u001b[0m \u001b[38;5;28;01mif\u001b[39;00m \u001b[38;5;129;01mnot\u001b[39;00m f\u001b[38;5;241m.\u001b[39mdone():\n\u001b[1;32m     87\u001b[0m     \u001b[38;5;28;01mraise\u001b[39;00m \u001b[38;5;167;01mRuntimeError\u001b[39;00m(\n\u001b[1;32m     88\u001b[0m         \u001b[38;5;124m'\u001b[39m\u001b[38;5;124mEvent loop stopped before Future completed.\u001b[39m\u001b[38;5;124m'\u001b[39m)\n\u001b[0;32m---> 89\u001b[0m \u001b[38;5;28;01mreturn\u001b[39;00m \u001b[43mf\u001b[49m\u001b[38;5;241;43m.\u001b[39;49m\u001b[43mresult\u001b[49m\u001b[43m(\u001b[49m\u001b[43m)\u001b[49m\n",
      "File \u001b[0;32m/Library/Frameworks/Python.framework/Versions/3.10/lib/python3.10/asyncio/futures.py:201\u001b[0m, in \u001b[0;36mFuture.result\u001b[0;34m(self)\u001b[0m\n\u001b[1;32m    199\u001b[0m \u001b[38;5;28mself\u001b[39m\u001b[38;5;241m.\u001b[39m__log_traceback \u001b[38;5;241m=\u001b[39m \u001b[38;5;28;01mFalse\u001b[39;00m\n\u001b[1;32m    200\u001b[0m \u001b[38;5;28;01mif\u001b[39;00m \u001b[38;5;28mself\u001b[39m\u001b[38;5;241m.\u001b[39m_exception \u001b[38;5;129;01mis\u001b[39;00m \u001b[38;5;129;01mnot\u001b[39;00m \u001b[38;5;28;01mNone\u001b[39;00m:\n\u001b[0;32m--> 201\u001b[0m     \u001b[38;5;28;01mraise\u001b[39;00m \u001b[38;5;28mself\u001b[39m\u001b[38;5;241m.\u001b[39m_exception\n\u001b[1;32m    202\u001b[0m \u001b[38;5;28;01mreturn\u001b[39;00m \u001b[38;5;28mself\u001b[39m\u001b[38;5;241m.\u001b[39m_result\n",
      "File \u001b[0;32m/Library/Frameworks/Python.framework/Versions/3.10/lib/python3.10/asyncio/tasks.py:232\u001b[0m, in \u001b[0;36mTask.__step\u001b[0;34m(***failed resolving arguments***)\u001b[0m\n\u001b[1;32m    228\u001b[0m \u001b[38;5;28;01mtry\u001b[39;00m:\n\u001b[1;32m    229\u001b[0m     \u001b[38;5;28;01mif\u001b[39;00m exc \u001b[38;5;129;01mis\u001b[39;00m \u001b[38;5;28;01mNone\u001b[39;00m:\n\u001b[1;32m    230\u001b[0m         \u001b[38;5;66;03m# We use the `send` method directly, because coroutines\u001b[39;00m\n\u001b[1;32m    231\u001b[0m         \u001b[38;5;66;03m# don't have `__iter__` and `__next__` methods.\u001b[39;00m\n\u001b[0;32m--> 232\u001b[0m         result \u001b[38;5;241m=\u001b[39m \u001b[43mcoro\u001b[49m\u001b[38;5;241;43m.\u001b[39;49m\u001b[43msend\u001b[49m\u001b[43m(\u001b[49m\u001b[38;5;28;43;01mNone\u001b[39;49;00m\u001b[43m)\u001b[49m\n\u001b[1;32m    233\u001b[0m     \u001b[38;5;28;01melse\u001b[39;00m:\n\u001b[1;32m    234\u001b[0m         result \u001b[38;5;241m=\u001b[39m coro\u001b[38;5;241m.\u001b[39mthrow(exc)\n",
      "File \u001b[0;32m~/Documents/git/fast-robots/lab13/robot_ctrl_python/base_ble.py:123\u001b[0m, in \u001b[0;36mBLEAsyncDevice._start_notify\u001b[0;34m(self, uuid, notification_handler)\u001b[0m\n\u001b[1;32m    121\u001b[0m \u001b[38;5;28;01masync\u001b[39;00m \u001b[38;5;28;01mdef\u001b[39;00m \u001b[38;5;21m_start_notify\u001b[39m(\u001b[38;5;28mself\u001b[39m, uuid, notification_handler):\n\u001b[1;32m    122\u001b[0m     \u001b[38;5;28;01mif\u001b[39;00m \u001b[38;5;28mself\u001b[39m\u001b[38;5;241m.\u001b[39mclient \u001b[38;5;129;01mand\u001b[39;00m \u001b[38;5;28mself\u001b[39m\u001b[38;5;241m.\u001b[39mclient\u001b[38;5;241m.\u001b[39mis_connected:\n\u001b[0;32m--> 123\u001b[0m         \u001b[38;5;28;01mawait\u001b[39;00m \u001b[38;5;28mself\u001b[39m\u001b[38;5;241m.\u001b[39mclient\u001b[38;5;241m.\u001b[39mstart_notify(uuid, notification_handler)\n\u001b[1;32m    124\u001b[0m     \u001b[38;5;28;01melse\u001b[39;00m:\n\u001b[1;32m    125\u001b[0m         \u001b[38;5;28;01mraise\u001b[39;00m \u001b[38;5;167;01mException\u001b[39;00m(\u001b[38;5;124m\"\u001b[39m\u001b[38;5;124mNot connected to a BLE device\u001b[39m\u001b[38;5;124m\"\u001b[39m)\n",
      "File \u001b[0;32m~/Documents/git/ece4960_sim/lib/python3.10/site-packages/bleak/backends/corebluetooth/client.py:385\u001b[0m, in \u001b[0;36mBleakClientCoreBluetooth.start_notify\u001b[0;34m(self, char_specifier, callback, **kwargs)\u001b[0m\n\u001b[1;32m    382\u001b[0m \u001b[38;5;28;01mif\u001b[39;00m \u001b[38;5;129;01mnot\u001b[39;00m characteristic:\n\u001b[1;32m    383\u001b[0m     \u001b[38;5;28;01mraise\u001b[39;00m BleakError(\u001b[38;5;124m\"\u001b[39m\u001b[38;5;124mCharacteristic \u001b[39m\u001b[38;5;132;01m{0}\u001b[39;00m\u001b[38;5;124m not found!\u001b[39m\u001b[38;5;124m\"\u001b[39m\u001b[38;5;241m.\u001b[39mformat(char_specifier))\n\u001b[0;32m--> 385\u001b[0m \u001b[38;5;28;01mawait\u001b[39;00m \u001b[38;5;28mself\u001b[39m\u001b[38;5;241m.\u001b[39m_delegate\u001b[38;5;241m.\u001b[39mstart_notifications(characteristic\u001b[38;5;241m.\u001b[39mobj, bleak_callback)\n",
      "File \u001b[0;32m~/Documents/git/ece4960_sim/lib/python3.10/site-packages/bleak/backends/corebluetooth/PeripheralDelegate.py:206\u001b[0m, in \u001b[0;36mPeripheralDelegate.start_notifications\u001b[0;34m(self, characteristic, callback)\u001b[0m\n\u001b[1;32m    204\u001b[0m c_handle \u001b[38;5;241m=\u001b[39m characteristic\u001b[38;5;241m.\u001b[39mhandle()\n\u001b[1;32m    205\u001b[0m \u001b[38;5;28;01mif\u001b[39;00m c_handle \u001b[38;5;129;01min\u001b[39;00m \u001b[38;5;28mself\u001b[39m\u001b[38;5;241m.\u001b[39m_characteristic_notify_callbacks:\n\u001b[0;32m--> 206\u001b[0m     \u001b[38;5;28;01mraise\u001b[39;00m \u001b[38;5;167;01mValueError\u001b[39;00m(\u001b[38;5;124m\"\u001b[39m\u001b[38;5;124mCharacteristic notifications already started\u001b[39m\u001b[38;5;124m\"\u001b[39m)\n\u001b[1;32m    208\u001b[0m \u001b[38;5;28mself\u001b[39m\u001b[38;5;241m.\u001b[39m_characteristic_notify_callbacks[c_handle] \u001b[38;5;241m=\u001b[39m callback\n\u001b[1;32m    210\u001b[0m future \u001b[38;5;241m=\u001b[39m \u001b[38;5;28mself\u001b[39m\u001b[38;5;241m.\u001b[39m_event_loop\u001b[38;5;241m.\u001b[39mcreate_future()\n",
      "\u001b[0;31mValueError\u001b[0m: Characteristic notifications already started"
     ]
    }
   ],
   "source": [
    "rc = RobotControl(ble)"
   ]
  },
  {
   "cell_type": "code",
   "execution_count": 218,
   "id": "cd3a4fe9-091c-4048-af26-746007605309",
   "metadata": {},
   "outputs": [],
   "source": [
    "rc.start_pid()"
   ]
  },
  {
   "cell_type": "code",
   "execution_count": 219,
   "id": "c1228f0e-30e1-4113-b102-883bcbc2f2e7",
   "metadata": {},
   "outputs": [],
   "source": [
    "rc.stop_pid()"
   ]
  },
  {
   "cell_type": "code",
   "execution_count": 348,
   "id": "b4eb6a1a-bdcc-4538-8394-13949fbae7f7",
   "metadata": {},
   "outputs": [],
   "source": [
    "rc.stunt()"
   ]
  },
  {
   "cell_type": "code",
   "execution_count": 349,
   "id": "1503dfd4-f893-4e92-8050-ee28a17b858a",
   "metadata": {},
   "outputs": [],
   "source": [
    "rc.stop_recording()"
   ]
  },
  {
   "cell_type": "code",
   "execution_count": 250,
   "id": "a68879d9-0f25-471b-8125-4d903ed8f071",
   "metadata": {},
   "outputs": [
    {
     "data": {
      "text/plain": [
       "3717.0"
      ]
     },
     "execution_count": 250,
     "metadata": {},
     "output_type": "execute_result"
    }
   ],
   "source": [
    "rc.latest_front_tof_reading"
   ]
  },
  {
   "cell_type": "code",
   "execution_count": 204,
   "id": "cafd02c1-5de8-4c03-91b3-33202470b78d",
   "metadata": {},
   "outputs": [],
   "source": [
    "# Start spinning!\n",
    "rc.spin_360(95)"
   ]
  },
  {
   "cell_type": "code",
   "execution_count": 178,
   "id": "19fb0127-5a77-4f45-bf40-34238afa3675",
   "metadata": {},
   "outputs": [],
   "source": [
    "# Make sure to call this after the spin motion stops. This terminates data collection.\n",
    "rc.stop_recording()"
   ]
  },
  {
   "cell_type": "code",
   "execution_count": 191,
   "id": "1431be31-9fcf-4bc7-9c86-2976223ef0f3",
   "metadata": {
    "jupyter": {
     "source_hidden": true
    },
    "tags": []
   },
   "outputs": [],
   "source": [
    "sr = deque([\n",
    "       (200, '10.0'),\n",
    "       (200, '10.0'),\n",
    "       (200, '10.1'),\n",
    "       (200, '10.1'),\n",
    "       (200, '10.2'),\n",
    "       (200, '10.3'),\n",
    "       (200, '10.3'),\n",
    "       (200, '10.4'),\n",
    "       (200, '10.4'),\n",
    "       (200, '10.5'),\n",
    "       (200, '10.6'),\n",
    "       (200, '10.7'),\n",
    "       (200, '10.8'),\n",
    "       (200, '10.9'),\n",
    "       (200, '11.0'),\n",
    "       (200, '11.0'),\n",
    "       (200, '11.1'),\n",
    "       (200, '11.1'),\n",
    "       (200, '11.2'),\n",
    "       (200, '11.3'),\n",
    "       (200, '11.3'),\n",
    "       (200, '11.4'),\n",
    "       (200, '11.4'),\n",
    "       (200, '11.5'),\n",
    "       (200, '11.6'),\n",
    "       (200, '11.7'),\n",
    "       (200, '11.8'),\n",
    "       (200, '11.9'),\n",
    "       (200, '12.0'),\n",
    "       (200, '12.0'),\n",
    "       (200, '12.1'),\n",
    "       (200, '12.1'),\n",
    "       (200, '12.2'),\n",
    "       (-200, '12.3'),\n",
    "       (-200, '12.3'),\n",
    "       (-200, '12.4'),\n",
    "       (-200, '12.4'),\n",
    "       (-200, '12.5'),\n",
    "       (-200, '12.6'),\n",
    "       (-200, '12.7'),\n",
    "       (-200, '12.8'),\n",
    "       (-200, '12.9'),\n",
    "       (-200, '13.0'),\n",
    "       (-200, '13.1'),\n",
    "       (-200, '13.1'),\n",
    "       (-200, '13.2'),\n",
    "       (-200, '13.3'),\n",
    "       (0, '13.3'),\n",
    "       (0, '13.4'),\n",
    "       (0, '13.4'),\n",
    "       (0, '13.5'),\n",
    "       (0, '13.6'),\n",
    "       (0, '13.7'),\n",
    "       (0, '13.7'),\n",
    "       (0, '13.8'),\n",
    "       (-200, '13.8'),\n",
    "       (-200, '13.8'),\n",
    "       (-200, '13.9'),\n",
    "       (-200, '13.9'),\n",
    "       (-200, '14.0'),\n",
    "       (-200, '14.1'),\n",
    "       (-200, '14.1'),\n",
    "       (-200, '14.2')])"
   ]
  },
  {
   "cell_type": "code",
   "execution_count": 373,
   "id": "d60da659-1f8d-4308-a93b-9b798dfd64f0",
   "metadata": {
    "tags": []
   },
   "outputs": [
    {
     "data": {
      "image/png": "[encoded data removed]",
      "text/plain": [
       "<Figure size 432x288 with 1 Axes>"
      ]
     },
     "metadata": {
      "needs_background": "light"
     },
     "output_type": "display_data"
    }
   ],
   "source": [
    "# speed_readings = np.array([(float(r[1]), r[0] * 1.275) for r in sr])\n",
    "speed_readings = np.array([(float(r[1]), r[0]) for r in rc.speed_readings])\n",
    "\n",
    "def plot_speed(ndarr):\n",
    "    cols = [\"time\", \"speed\"]\n",
    "    # df = pd.DataFrame(ndarr[:, [0, 2, 8]], columns=cols)\n",
    "    df = pd.DataFrame(ndarr[:, :], columns=cols)\n",
    "    df.plot(x=cols[0], y=cols[1:], marker=\"o\")\n",
    "    plt.savefig('pwm_values.png', bbox_inches='tight')\n",
    "    plt.show()\n",
    "    \n",
    "    return df\n",
    "\n",
    "pwm = plot_speed(speed_readings)\n",
    "\n",
    "# Collect & display the full sensor data\n",
    "# speed_cols = [\n",
    "#     \"time\", \"speed\"\n",
    "# ]\n",
    "# speed_data = pd.DataFrame(rc.speed_readings, columns=cols)"
   ]
  },
  {
   "cell_type": "code",
   "execution_count": 374,
   "id": "6efc2972-09f3-4007-a680-743df42eac1a",
   "metadata": {
    "tags": []
   },
   "outputs": [
    {
     "data": {
      "text/html": [
       "<div>\n",
       "<style scoped>\n",
       "    .dataframe tbody tr th:only-of-type {\n",
       "        vertical-align: middle;\n",
       "    }\n",
       "\n",
       "    .dataframe tbody tr th {\n",
       "        vertical-align: top;\n",
       "    }\n",
       "\n",
       "    .dataframe thead th {\n",
       "        text-align: right;\n",
       "    }\n",
       "</style>\n",
       "<table border=\"1\" class=\"dataframe\">\n",
       "  <thead>\n",
       "    <tr style=\"text-align: right;\">\n",
       "      <th></th>\n",
       "      <th>time</th>\n",
       "      <th>speed</th>\n",
       "    </tr>\n",
       "  </thead>\n",
       "  <tbody>\n",
       "    <tr>\n",
       "      <th>0</th>\n",
       "      <td>401.8</td>\n",
       "      <td>120.0</td>\n",
       "    </tr>\n",
       "    <tr>\n",
       "      <th>1</th>\n",
       "      <td>402.1</td>\n",
       "      <td>120.0</td>\n",
       "    </tr>\n",
       "    <tr>\n",
       "      <th>2</th>\n",
       "      <td>402.3</td>\n",
       "      <td>120.0</td>\n",
       "    </tr>\n",
       "    <tr>\n",
       "      <th>3</th>\n",
       "      <td>402.6</td>\n",
       "      <td>120.0</td>\n",
       "    </tr>\n",
       "    <tr>\n",
       "      <th>4</th>\n",
       "      <td>402.9</td>\n",
       "      <td>120.0</td>\n",
       "    </tr>\n",
       "    <tr>\n",
       "      <th>5</th>\n",
       "      <td>403.2</td>\n",
       "      <td>0.0</td>\n",
       "    </tr>\n",
       "  </tbody>\n",
       "</table>\n",
       "</div>"
      ],
      "text/plain": [
       "    time  speed\n",
       "0  401.8  120.0\n",
       "1  402.1  120.0\n",
       "2  402.3  120.0\n",
       "3  402.6  120.0\n",
       "4  402.9  120.0\n",
       "5  403.2    0.0"
      ]
     },
     "execution_count": 374,
     "metadata": {},
     "output_type": "execute_result"
    }
   ],
   "source": [
    "pwm"
   ]
  },
  {
   "cell_type": "code",
   "execution_count": 351,
   "id": "6d9bc1ad-6c79-4c19-ad7b-6b9c1dcf3cd1",
   "metadata": {},
   "outputs": [],
   "source": [
    "# Collect & display the full sensor data\n",
    "cols = [\n",
    "    \"time\", \"dist_r\", \"dist_f\", \"acc_x\", \"acc_y\", \"acc_z\", \"gyr_x\",\n",
    "    \"gyr_y\", \"gyr_z\", \"mag_x\", \"mag_y\", \"mag_z\", \"temp\"\n",
    "]\n",
    "sensor_data = pd.DataFrame(rc.sensor_arr, columns=cols)"
   ]
  },
  {
   "cell_type": "code",
   "execution_count": 386,
   "id": "1a59d904-0d32-4060-8e19-0ba0021eb034",
   "metadata": {},
   "outputs": [
    {
     "data": {
      "text/html": [
       "<div>\n",
       "<style scoped>\n",
       "    .dataframe tbody tr th:only-of-type {\n",
       "        vertical-align: middle;\n",
       "    }\n",
       "\n",
       "    .dataframe tbody tr th {\n",
       "        vertical-align: top;\n",
       "    }\n",
       "\n",
       "    .dataframe thead th {\n",
       "        text-align: right;\n",
       "    }\n",
       "</style>\n",
       "<table border=\"1\" class=\"dataframe\">\n",
       "  <thead>\n",
       "    <tr style=\"text-align: right;\">\n",
       "      <th></th>\n",
       "      <th>time</th>\n",
       "      <th>dist_r</th>\n",
       "      <th>dist_f</th>\n",
       "      <th>acc_x</th>\n",
       "      <th>acc_y</th>\n",
       "      <th>acc_z</th>\n",
       "      <th>gyr_x</th>\n",
       "      <th>gyr_y</th>\n",
       "      <th>gyr_z</th>\n",
       "      <th>mag_x</th>\n",
       "      <th>mag_y</th>\n",
       "      <th>mag_z</th>\n",
       "      <th>temp</th>\n",
       "    </tr>\n",
       "  </thead>\n",
       "  <tbody>\n",
       "    <tr>\n",
       "      <th>0</th>\n",
       "      <td>401.652</td>\n",
       "      <td>451.0</td>\n",
       "      <td>2909.0</td>\n",
       "      <td>-20.507</td>\n",
       "      <td>-17.890</td>\n",
       "      <td>1072.265</td>\n",
       "      <td>1.633</td>\n",
       "      <td>0.633</td>\n",
       "      <td>1.700</td>\n",
       "      <td>271.350</td>\n",
       "      <td>-1135.349</td>\n",
       "      <td>159.449</td>\n",
       "      <td>28.508</td>\n",
       "    </tr>\n",
       "    <tr>\n",
       "      <th>1</th>\n",
       "      <td>401.893</td>\n",
       "      <td>450.0</td>\n",
       "      <td>2882.0</td>\n",
       "      <td>508.300</td>\n",
       "      <td>-28.320</td>\n",
       "      <td>806.640</td>\n",
       "      <td>-6.862</td>\n",
       "      <td>2.725</td>\n",
       "      <td>-4.992</td>\n",
       "      <td>336.299</td>\n",
       "      <td>-1163.250</td>\n",
       "      <td>238.199</td>\n",
       "      <td>28.413</td>\n",
       "    </tr>\n",
       "    <tr>\n",
       "      <th>2</th>\n",
       "      <td>402.178</td>\n",
       "      <td>452.0</td>\n",
       "      <td>2886.0</td>\n",
       "      <td>-365.722</td>\n",
       "      <td>450.683</td>\n",
       "      <td>1063.476</td>\n",
       "      <td>39.938</td>\n",
       "      <td>-12.977</td>\n",
       "      <td>11.549</td>\n",
       "      <td>247.500</td>\n",
       "      <td>-1098.150</td>\n",
       "      <td>219.000</td>\n",
       "      <td>28.317</td>\n",
       "    </tr>\n",
       "    <tr>\n",
       "      <th>3</th>\n",
       "      <td>402.433</td>\n",
       "      <td>448.0</td>\n",
       "      <td>2722.0</td>\n",
       "      <td>359.863</td>\n",
       "      <td>-916.503</td>\n",
       "      <td>-778.808</td>\n",
       "      <td>-6.755</td>\n",
       "      <td>2.267</td>\n",
       "      <td>5.931</td>\n",
       "      <td>297.149</td>\n",
       "      <td>-1098.449</td>\n",
       "      <td>108.750</td>\n",
       "      <td>28.700</td>\n",
       "    </tr>\n",
       "    <tr>\n",
       "      <th>4</th>\n",
       "      <td>402.718</td>\n",
       "      <td>398.0</td>\n",
       "      <td>2346.0</td>\n",
       "      <td>209.472</td>\n",
       "      <td>-1532.226</td>\n",
       "      <td>1999.938</td>\n",
       "      <td>8.366</td>\n",
       "      <td>-27.557</td>\n",
       "      <td>2.564</td>\n",
       "      <td>262.500</td>\n",
       "      <td>-1092.000</td>\n",
       "      <td>108.449</td>\n",
       "      <td>28.508</td>\n",
       "    </tr>\n",
       "    <tr>\n",
       "      <th>5</th>\n",
       "      <td>402.973</td>\n",
       "      <td>762.0</td>\n",
       "      <td>1912.0</td>\n",
       "      <td>-1493.652</td>\n",
       "      <td>1012.207</td>\n",
       "      <td>1999.938</td>\n",
       "      <td>76.419</td>\n",
       "      <td>70.694</td>\n",
       "      <td>55.786</td>\n",
       "      <td>222.449</td>\n",
       "      <td>-1092.750</td>\n",
       "      <td>142.949</td>\n",
       "      <td>28.508</td>\n",
       "    </tr>\n",
       "    <tr>\n",
       "      <th>6</th>\n",
       "      <td>403.228</td>\n",
       "      <td>893.0</td>\n",
       "      <td>1351.0</td>\n",
       "      <td>1288.574</td>\n",
       "      <td>152.343</td>\n",
       "      <td>-383.789</td>\n",
       "      <td>20.526</td>\n",
       "      <td>-29.366</td>\n",
       "      <td>33.969</td>\n",
       "      <td>249.600</td>\n",
       "      <td>-1097.550</td>\n",
       "      <td>114.900</td>\n",
       "      <td>28.221</td>\n",
       "    </tr>\n",
       "    <tr>\n",
       "      <th>7</th>\n",
       "      <td>403.468</td>\n",
       "      <td>547.0</td>\n",
       "      <td>783.0</td>\n",
       "      <td>-1302.246</td>\n",
       "      <td>570.312</td>\n",
       "      <td>-378.906</td>\n",
       "      <td>42.694</td>\n",
       "      <td>-50.885</td>\n",
       "      <td>-13.679</td>\n",
       "      <td>259.200</td>\n",
       "      <td>-1107.750</td>\n",
       "      <td>119.699</td>\n",
       "      <td>28.365</td>\n",
       "    </tr>\n",
       "    <tr>\n",
       "      <th>8</th>\n",
       "      <td>403.709</td>\n",
       "      <td>425.0</td>\n",
       "      <td>398.0</td>\n",
       "      <td>-2000.000</td>\n",
       "      <td>-2000.000</td>\n",
       "      <td>1999.938</td>\n",
       "      <td>220.961</td>\n",
       "      <td>-250.137</td>\n",
       "      <td>-37.419</td>\n",
       "      <td>268.500</td>\n",
       "      <td>-1101.599</td>\n",
       "      <td>139.500</td>\n",
       "      <td>28.317</td>\n",
       "    </tr>\n",
       "    <tr>\n",
       "      <th>9</th>\n",
       "      <td>403.933</td>\n",
       "      <td>649.0</td>\n",
       "      <td>59.0</td>\n",
       "      <td>1221.679</td>\n",
       "      <td>888.183</td>\n",
       "      <td>131.835</td>\n",
       "      <td>17.664</td>\n",
       "      <td>-26.145</td>\n",
       "      <td>-74.977</td>\n",
       "      <td>268.950</td>\n",
       "      <td>-1145.699</td>\n",
       "      <td>124.800</td>\n",
       "      <td>28.413</td>\n",
       "    </tr>\n",
       "    <tr>\n",
       "      <th>10</th>\n",
       "      <td>404.188</td>\n",
       "      <td>480.0</td>\n",
       "      <td>330.0</td>\n",
       "      <td>-563.964</td>\n",
       "      <td>283.203</td>\n",
       "      <td>763.183</td>\n",
       "      <td>-16.282</td>\n",
       "      <td>-8.530</td>\n",
       "      <td>8.381</td>\n",
       "      <td>266.700</td>\n",
       "      <td>-1141.650</td>\n",
       "      <td>102.900</td>\n",
       "      <td>28.413</td>\n",
       "    </tr>\n",
       "  </tbody>\n",
       "</table>\n",
       "</div>"
      ],
      "text/plain": [
       "       time  dist_r  dist_f     acc_x     acc_y     acc_z    gyr_x    gyr_y  \\\n",
       "0   401.652   451.0  2909.0   -20.507   -17.890  1072.265    1.633    0.633   \n",
       "1   401.893   450.0  2882.0   508.300   -28.320   806.640   -6.862    2.725   \n",
       "2   402.178   452.0  2886.0  -365.722   450.683  1063.476   39.938  -12.977   \n",
       "3   402.433   448.0  2722.0   359.863  -916.503  -778.808   -6.755    2.267   \n",
       "4   402.718   398.0  2346.0   209.472 -1532.226  1999.938    8.366  -27.557   \n",
       "5   402.973   762.0  1912.0 -1493.652  1012.207  1999.938   76.419   70.694   \n",
       "6   403.228   893.0  1351.0  1288.574   152.343  -383.789   20.526  -29.366   \n",
       "7   403.468   547.0   783.0 -1302.246   570.312  -378.906   42.694  -50.885   \n",
       "8   403.709   425.0   398.0 -2000.000 -2000.000  1999.938  220.961 -250.137   \n",
       "9   403.933   649.0    59.0  1221.679   888.183   131.835   17.664  -26.145   \n",
       "10  404.188   480.0   330.0  -563.964   283.203   763.183  -16.282   -8.530   \n",
       "\n",
       "     gyr_z    mag_x     mag_y    mag_z    temp  \n",
       "0    1.700  271.350 -1135.349  159.449  28.508  \n",
       "1   -4.992  336.299 -1163.250  238.199  28.413  \n",
       "2   11.549  247.500 -1098.150  219.000  28.317  \n",
       "3    5.931  297.149 -1098.449  108.750  28.700  \n",
       "4    2.564  262.500 -1092.000  108.449  28.508  \n",
       "5   55.786  222.449 -1092.750  142.949  28.508  \n",
       "6   33.969  249.600 -1097.550  114.900  28.221  \n",
       "7  -13.679  259.200 -1107.750  119.699  28.365  \n",
       "8  -37.419  268.500 -1101.599  139.500  28.317  \n",
       "9  -74.977  268.950 -1145.699  124.800  28.413  \n",
       "10   8.381  266.700 -1141.650  102.900  28.413  "
      ]
     },
     "execution_count": 386,
     "metadata": {},
     "output_type": "execute_result"
    }
   ],
   "source": [
    "sensor_data"
   ]
  },
  {
   "cell_type": "code",
   "execution_count": 367,
   "id": "8c8c3db8-9975-4f57-b4f9-ae801996f319",
   "metadata": {},
   "outputs": [
    {
     "data": {
      "image/png": "[encoded data removed]",
      "text/plain": [
       "<Figure size 432x288 with 1 Axes>"
      ]
     },
     "metadata": {
      "needs_background": "light"
     },
     "output_type": "display_data"
    }
   ],
   "source": [
    "# Currently, only configured to plot the \"gyr_z\" values\n",
    "# plot_sensor_data(rc.sensor_arr, save_path=\"front_tof_values.png\")\n",
    "dist_f = plot_sensor_data(rc.sensor_arr)"
   ]
  },
  {
   "cell_type": "code",
   "execution_count": 370,
   "id": "627c64af-9922-45ab-b691-f76d3636f948",
   "metadata": {},
   "outputs": [
    {
     "data": {
      "text/html": [
       "<div>\n",
       "<style scoped>\n",
       "    .dataframe tbody tr th:only-of-type {\n",
       "        vertical-align: middle;\n",
       "    }\n",
       "\n",
       "    .dataframe tbody tr th {\n",
       "        vertical-align: top;\n",
       "    }\n",
       "\n",
       "    .dataframe thead th {\n",
       "        text-align: right;\n",
       "    }\n",
       "</style>\n",
       "<table border=\"1\" class=\"dataframe\">\n",
       "  <thead>\n",
       "    <tr style=\"text-align: right;\">\n",
       "      <th></th>\n",
       "      <th>time</th>\n",
       "      <th>dist_f</th>\n",
       "    </tr>\n",
       "  </thead>\n",
       "  <tbody>\n",
       "    <tr>\n",
       "      <th>0</th>\n",
       "      <td>401.652</td>\n",
       "      <td>2909.0</td>\n",
       "    </tr>\n",
       "    <tr>\n",
       "      <th>1</th>\n",
       "      <td>401.893</td>\n",
       "      <td>2882.0</td>\n",
       "    </tr>\n",
       "    <tr>\n",
       "      <th>2</th>\n",
       "      <td>402.178</td>\n",
       "      <td>2886.0</td>\n",
       "    </tr>\n",
       "    <tr>\n",
       "      <th>3</th>\n",
       "      <td>402.433</td>\n",
       "      <td>2722.0</td>\n",
       "    </tr>\n",
       "    <tr>\n",
       "      <th>4</th>\n",
       "      <td>402.718</td>\n",
       "      <td>2346.0</td>\n",
       "    </tr>\n",
       "    <tr>\n",
       "      <th>5</th>\n",
       "      <td>402.973</td>\n",
       "      <td>1912.0</td>\n",
       "    </tr>\n",
       "    <tr>\n",
       "      <th>6</th>\n",
       "      <td>403.228</td>\n",
       "      <td>1351.0</td>\n",
       "    </tr>\n",
       "    <tr>\n",
       "      <th>7</th>\n",
       "      <td>403.468</td>\n",
       "      <td>783.0</td>\n",
       "    </tr>\n",
       "    <tr>\n",
       "      <th>8</th>\n",
       "      <td>403.709</td>\n",
       "      <td>398.0</td>\n",
       "    </tr>\n",
       "    <tr>\n",
       "      <th>9</th>\n",
       "      <td>403.933</td>\n",
       "      <td>59.0</td>\n",
       "    </tr>\n",
       "    <tr>\n",
       "      <th>10</th>\n",
       "      <td>404.188</td>\n",
       "      <td>330.0</td>\n",
       "    </tr>\n",
       "  </tbody>\n",
       "</table>\n",
       "</div>"
      ],
      "text/plain": [
       "       time  dist_f\n",
       "0   401.652  2909.0\n",
       "1   401.893  2882.0\n",
       "2   402.178  2886.0\n",
       "3   402.433  2722.0\n",
       "4   402.718  2346.0\n",
       "5   402.973  1912.0\n",
       "6   403.228  1351.0\n",
       "7   403.468   783.0\n",
       "8   403.709   398.0\n",
       "9   403.933    59.0\n",
       "10  404.188   330.0"
      ]
     },
     "execution_count": 370,
     "metadata": {},
     "output_type": "execute_result"
    }
   ],
   "source": [
    "dist_f"
   ]
  },
  {
   "cell_type": "code",
   "execution_count": 371,
   "id": "25b4d669-4af5-4476-bcc1-a12945270dc8",
   "metadata": {},
   "outputs": [
    {
     "data": {
      "image/png": "[encoded data removed]",
      "text/plain": [
       "<Figure size 432x288 with 1 Axes>"
      ]
     },
     "metadata": {
      "needs_background": "light"
     },
     "output_type": "display_data"
    }
   ],
   "source": [
    "plot_df(dist_f)"
   ]
  },
  {
   "cell_type": "code",
   "execution_count": 366,
   "id": "551bf3b2-275d-404f-8eb6-1bca13741271",
   "metadata": {},
   "outputs": [],
   "source": [
    "vel_f = convert_dist_to_vel(dist_f)"
   ]
  },
  {
   "cell_type": "code",
   "execution_count": 368,
   "id": "2a7c3f5c-6604-4bee-bb4c-0dee540f0e9f",
   "metadata": {},
   "outputs": [
    {
     "data": {
      "text/html": [
       "<div>\n",
       "<style scoped>\n",
       "    .dataframe tbody tr th:only-of-type {\n",
       "        vertical-align: middle;\n",
       "    }\n",
       "\n",
       "    .dataframe tbody tr th {\n",
       "        vertical-align: top;\n",
       "    }\n",
       "\n",
       "    .dataframe thead th {\n",
       "        text-align: right;\n",
       "    }\n",
       "</style>\n",
       "<table border=\"1\" class=\"dataframe\">\n",
       "  <thead>\n",
       "    <tr style=\"text-align: right;\">\n",
       "      <th></th>\n",
       "      <th>time</th>\n",
       "      <th>vel_f</th>\n",
       "    </tr>\n",
       "  </thead>\n",
       "  <tbody>\n",
       "    <tr>\n",
       "      <th>1</th>\n",
       "      <td>401.893</td>\n",
       "      <td>-112.033195</td>\n",
       "    </tr>\n",
       "    <tr>\n",
       "      <th>2</th>\n",
       "      <td>402.178</td>\n",
       "      <td>14.035088</td>\n",
       "    </tr>\n",
       "    <tr>\n",
       "      <th>3</th>\n",
       "      <td>402.433</td>\n",
       "      <td>-643.137255</td>\n",
       "    </tr>\n",
       "    <tr>\n",
       "      <th>4</th>\n",
       "      <td>402.718</td>\n",
       "      <td>-1319.298246</td>\n",
       "    </tr>\n",
       "    <tr>\n",
       "      <th>5</th>\n",
       "      <td>402.973</td>\n",
       "      <td>-1701.960784</td>\n",
       "    </tr>\n",
       "    <tr>\n",
       "      <th>6</th>\n",
       "      <td>403.228</td>\n",
       "      <td>-2200.000000</td>\n",
       "    </tr>\n",
       "    <tr>\n",
       "      <th>7</th>\n",
       "      <td>403.468</td>\n",
       "      <td>-2366.666667</td>\n",
       "    </tr>\n",
       "    <tr>\n",
       "      <th>8</th>\n",
       "      <td>403.709</td>\n",
       "      <td>-1597.510373</td>\n",
       "    </tr>\n",
       "    <tr>\n",
       "      <th>9</th>\n",
       "      <td>403.933</td>\n",
       "      <td>-1513.392857</td>\n",
       "    </tr>\n",
       "    <tr>\n",
       "      <th>10</th>\n",
       "      <td>404.188</td>\n",
       "      <td>1062.745098</td>\n",
       "    </tr>\n",
       "  </tbody>\n",
       "</table>\n",
       "</div>"
      ],
      "text/plain": [
       "       time        vel_f\n",
       "1   401.893  -112.033195\n",
       "2   402.178    14.035088\n",
       "3   402.433  -643.137255\n",
       "4   402.718 -1319.298246\n",
       "5   402.973 -1701.960784\n",
       "6   403.228 -2200.000000\n",
       "7   403.468 -2366.666667\n",
       "8   403.709 -1597.510373\n",
       "9   403.933 -1513.392857\n",
       "10  404.188  1062.745098"
      ]
     },
     "execution_count": 368,
     "metadata": {},
     "output_type": "execute_result"
    }
   ],
   "source": [
    "vel_f"
   ]
  },
  {
   "cell_type": "code",
   "execution_count": 369,
   "id": "11549520-7653-48bd-a98a-33374f35683e",
   "metadata": {},
   "outputs": [
    {
     "data": {
      "image/png": "[encoded data removed]",
      "text/plain": [
       "<Figure size 432x288 with 1 Axes>"
      ]
     },
     "metadata": {
      "needs_background": "light"
     },
     "output_type": "display_data"
    }
   ],
   "source": [
    "plot_df(vel_f)"
   ]
  },
  {
   "cell_type": "code",
   "execution_count": 375,
   "id": "e4736862-c10f-4a99-9a59-87ceead3ae30",
   "metadata": {},
   "outputs": [
    {
     "data": {
      "text/html": [
       "<div>\n",
       "<style scoped>\n",
       "    .dataframe tbody tr th:only-of-type {\n",
       "        vertical-align: middle;\n",
       "    }\n",
       "\n",
       "    .dataframe tbody tr th {\n",
       "        vertical-align: top;\n",
       "    }\n",
       "\n",
       "    .dataframe thead th {\n",
       "        text-align: right;\n",
       "    }\n",
       "</style>\n",
       "<table border=\"1\" class=\"dataframe\">\n",
       "  <thead>\n",
       "    <tr style=\"text-align: right;\">\n",
       "      <th></th>\n",
       "      <th>time</th>\n",
       "      <th>speed</th>\n",
       "    </tr>\n",
       "  </thead>\n",
       "  <tbody>\n",
       "    <tr>\n",
       "      <th>0</th>\n",
       "      <td>401.8</td>\n",
       "      <td>120.0</td>\n",
       "    </tr>\n",
       "    <tr>\n",
       "      <th>1</th>\n",
       "      <td>402.1</td>\n",
       "      <td>120.0</td>\n",
       "    </tr>\n",
       "    <tr>\n",
       "      <th>2</th>\n",
       "      <td>402.3</td>\n",
       "      <td>120.0</td>\n",
       "    </tr>\n",
       "    <tr>\n",
       "      <th>3</th>\n",
       "      <td>402.6</td>\n",
       "      <td>120.0</td>\n",
       "    </tr>\n",
       "    <tr>\n",
       "      <th>4</th>\n",
       "      <td>402.9</td>\n",
       "      <td>120.0</td>\n",
       "    </tr>\n",
       "    <tr>\n",
       "      <th>5</th>\n",
       "      <td>403.2</td>\n",
       "      <td>0.0</td>\n",
       "    </tr>\n",
       "  </tbody>\n",
       "</table>\n",
       "</div>"
      ],
      "text/plain": [
       "    time  speed\n",
       "0  401.8  120.0\n",
       "1  402.1  120.0\n",
       "2  402.3  120.0\n",
       "3  402.6  120.0\n",
       "4  402.9  120.0\n",
       "5  403.2    0.0"
      ]
     },
     "execution_count": 375,
     "metadata": {},
     "output_type": "execute_result"
    }
   ],
   "source": [
    "pwm"
   ]
  },
  {
   "cell_type": "code",
   "execution_count": 376,
   "id": "6dda0f9d-b649-422e-944f-4c79b5b27922",
   "metadata": {},
   "outputs": [
    {
     "data": {
      "image/png": "[encoded data removed]",
      "text/plain": [
       "<Figure size 432x288 with 1 Axes>"
      ]
     },
     "metadata": {
      "needs_background": "light"
     },
     "output_type": "display_data"
    }
   ],
   "source": [
    "plot_df(pwm)"
   ]
  },
  {
   "cell_type": "code",
   "execution_count": 381,
   "id": "11dcbd80-5f35-4c6a-b259-695903859a3a",
   "metadata": {},
   "outputs": [],
   "source": [
    "new_pwm = dist_f.copy()\n",
    "new_pwm[\"pwm\"] = new_pwm.apply(lambda row: 120.0 if row[\"time\"] < 403.2 else 0.0, axis=1)\n",
    "new_pwm.drop(columns=[\"dist_f\"], inplace=True)"
   ]
  },
  {
   "cell_type": "code",
   "execution_count": 384,
   "id": "be05252f-a943-4942-af90-4c2b1fe2d1be",
   "metadata": {},
   "outputs": [
    {
     "data": {
      "text/html": [
       "<div>\n",
       "<style scoped>\n",
       "    .dataframe tbody tr th:only-of-type {\n",
       "        vertical-align: middle;\n",
       "    }\n",
       "\n",
       "    .dataframe tbody tr th {\n",
       "        vertical-align: top;\n",
       "    }\n",
       "\n",
       "    .dataframe thead th {\n",
       "        text-align: right;\n",
       "    }\n",
       "</style>\n",
       "<table border=\"1\" class=\"dataframe\">\n",
       "  <thead>\n",
       "    <tr style=\"text-align: right;\">\n",
       "      <th></th>\n",
       "      <th>time</th>\n",
       "      <th>pwm</th>\n",
       "    </tr>\n",
       "  </thead>\n",
       "  <tbody>\n",
       "    <tr>\n",
       "      <th>0</th>\n",
       "      <td>401.652</td>\n",
       "      <td>120.0</td>\n",
       "    </tr>\n",
       "    <tr>\n",
       "      <th>1</th>\n",
       "      <td>401.893</td>\n",
       "      <td>120.0</td>\n",
       "    </tr>\n",
       "    <tr>\n",
       "      <th>2</th>\n",
       "      <td>402.178</td>\n",
       "      <td>120.0</td>\n",
       "    </tr>\n",
       "    <tr>\n",
       "      <th>3</th>\n",
       "      <td>402.433</td>\n",
       "      <td>120.0</td>\n",
       "    </tr>\n",
       "    <tr>\n",
       "      <th>4</th>\n",
       "      <td>402.718</td>\n",
       "      <td>120.0</td>\n",
       "    </tr>\n",
       "    <tr>\n",
       "      <th>5</th>\n",
       "      <td>402.973</td>\n",
       "      <td>120.0</td>\n",
       "    </tr>\n",
       "    <tr>\n",
       "      <th>6</th>\n",
       "      <td>403.228</td>\n",
       "      <td>0.0</td>\n",
       "    </tr>\n",
       "    <tr>\n",
       "      <th>7</th>\n",
       "      <td>403.468</td>\n",
       "      <td>0.0</td>\n",
       "    </tr>\n",
       "    <tr>\n",
       "      <th>8</th>\n",
       "      <td>403.709</td>\n",
       "      <td>0.0</td>\n",
       "    </tr>\n",
       "    <tr>\n",
       "      <th>9</th>\n",
       "      <td>403.933</td>\n",
       "      <td>0.0</td>\n",
       "    </tr>\n",
       "    <tr>\n",
       "      <th>10</th>\n",
       "      <td>404.188</td>\n",
       "      <td>0.0</td>\n",
       "    </tr>\n",
       "  </tbody>\n",
       "</table>\n",
       "</div>"
      ],
      "text/plain": [
       "       time    pwm\n",
       "0   401.652  120.0\n",
       "1   401.893  120.0\n",
       "2   402.178  120.0\n",
       "3   402.433  120.0\n",
       "4   402.718  120.0\n",
       "5   402.973  120.0\n",
       "6   403.228    0.0\n",
       "7   403.468    0.0\n",
       "8   403.709    0.0\n",
       "9   403.933    0.0\n",
       "10  404.188    0.0"
      ]
     },
     "execution_count": 384,
     "metadata": {},
     "output_type": "execute_result"
    }
   ],
   "source": [
    "new_pwm"
   ]
  },
  {
   "cell_type": "code",
   "execution_count": 385,
   "id": "9e93a3a8-2583-4e8e-b335-5debbb9b9a4c",
   "metadata": {},
   "outputs": [
    {
     "data": {
      "image/png": "[encoded data removed]",
      "text/plain": [
       "<Figure size 432x288 with 1 Axes>"
      ]
     },
     "metadata": {
      "needs_background": "light"
     },
     "output_type": "display_data"
    }
   ],
   "source": [
    "plot_df(new_pwm)"
   ]
  },
  {
   "cell_type": "code",
   "execution_count": 388,
   "id": "5de4fe28-e5f7-4ce2-9a9a-6a7ad5e845b3",
   "metadata": {},
   "outputs": [],
   "source": [
    "gyr_z = pd.DataFrame(rc.sensor_arr[:, [0, 8]], columns=[\"time\", \"gyr_z\"])"
   ]
  },
  {
   "cell_type": "code",
   "execution_count": 389,
   "id": "ecb9ec0a-8a0d-433c-b07e-08c5615695cb",
   "metadata": {},
   "outputs": [
    {
     "data": {
      "text/html": [
       "<div>\n",
       "<style scoped>\n",
       "    .dataframe tbody tr th:only-of-type {\n",
       "        vertical-align: middle;\n",
       "    }\n",
       "\n",
       "    .dataframe tbody tr th {\n",
       "        vertical-align: top;\n",
       "    }\n",
       "\n",
       "    .dataframe thead th {\n",
       "        text-align: right;\n",
       "    }\n",
       "</style>\n",
       "<table border=\"1\" class=\"dataframe\">\n",
       "  <thead>\n",
       "    <tr style=\"text-align: right;\">\n",
       "      <th></th>\n",
       "      <th>time</th>\n",
       "      <th>gyr_z</th>\n",
       "    </tr>\n",
       "  </thead>\n",
       "  <tbody>\n",
       "    <tr>\n",
       "      <th>0</th>\n",
       "      <td>401.652</td>\n",
       "      <td>1.700</td>\n",
       "    </tr>\n",
       "    <tr>\n",
       "      <th>1</th>\n",
       "      <td>401.893</td>\n",
       "      <td>-4.992</td>\n",
       "    </tr>\n",
       "    <tr>\n",
       "      <th>2</th>\n",
       "      <td>402.178</td>\n",
       "      <td>11.549</td>\n",
       "    </tr>\n",
       "    <tr>\n",
       "      <th>3</th>\n",
       "      <td>402.433</td>\n",
       "      <td>5.931</td>\n",
       "    </tr>\n",
       "    <tr>\n",
       "      <th>4</th>\n",
       "      <td>402.718</td>\n",
       "      <td>2.564</td>\n",
       "    </tr>\n",
       "    <tr>\n",
       "      <th>5</th>\n",
       "      <td>402.973</td>\n",
       "      <td>55.786</td>\n",
       "    </tr>\n",
       "    <tr>\n",
       "      <th>6</th>\n",
       "      <td>403.228</td>\n",
       "      <td>33.969</td>\n",
       "    </tr>\n",
       "    <tr>\n",
       "      <th>7</th>\n",
       "      <td>403.468</td>\n",
       "      <td>-13.679</td>\n",
       "    </tr>\n",
       "    <tr>\n",
       "      <th>8</th>\n",
       "      <td>403.709</td>\n",
       "      <td>-37.419</td>\n",
       "    </tr>\n",
       "    <tr>\n",
       "      <th>9</th>\n",
       "      <td>403.933</td>\n",
       "      <td>-74.977</td>\n",
       "    </tr>\n",
       "    <tr>\n",
       "      <th>10</th>\n",
       "      <td>404.188</td>\n",
       "      <td>8.381</td>\n",
       "    </tr>\n",
       "  </tbody>\n",
       "</table>\n",
       "</div>"
      ],
      "text/plain": [
       "       time   gyr_z\n",
       "0   401.652   1.700\n",
       "1   401.893  -4.992\n",
       "2   402.178  11.549\n",
       "3   402.433   5.931\n",
       "4   402.718   2.564\n",
       "5   402.973  55.786\n",
       "6   403.228  33.969\n",
       "7   403.468 -13.679\n",
       "8   403.709 -37.419\n",
       "9   403.933 -74.977\n",
       "10  404.188   8.381"
      ]
     },
     "execution_count": 389,
     "metadata": {},
     "output_type": "execute_result"
    }
   ],
   "source": [
    "gyr_z"
   ]
  },
  {
   "cell_type": "code",
   "execution_count": 390,
   "id": "a91b8239-1cbc-4bda-8e96-dc705a6318f8",
   "metadata": {},
   "outputs": [
    {
     "data": {
      "image/png": "[encoded data removed]",
      "text/plain": [
       "<Figure size 432x288 with 1 Axes>"
      ]
     },
     "metadata": {
      "needs_background": "light"
     },
     "output_type": "display_data"
    }
   ],
   "source": [
    "plot_df(gyr_z)"
   ]
  },
  {
   "cell_type": "code",
   "execution_count": 430,
   "id": "f555f145-fce0-4367-ac5f-465113bc4700",
   "metadata": {},
   "outputs": [
    {
     "data": {
      "text/plain": [
       "0.25360000000000016"
      ]
     },
     "execution_count": 430,
     "metadata": {},
     "output_type": "execute_result"
    },
    {
     "name": "stdout",
     "output_type": "stream",
     "text": [
      "2022-05-20 16:29:46,382 |\u001b[32m INFO     \u001b[0m|: Disconnected from C41C2988-2D80-83DC-22C0-8EF57D41E2E4\n"
     ]
    }
   ],
   "source": [
    "dist_f[\"time\"].diff().mean()"
   ]
  },
  {
   "cell_type": "code",
   "execution_count": 397,
   "id": "11c539a5-8d8e-4457-afe5-ba6e8fd12ffb",
   "metadata": {},
   "outputs": [],
   "source": [
    "# Initial state uncertainty \n",
    "sig = np.array([[5**2,0],[0,5**2]])\n",
    "\n",
    "d = 4e-4   # drag\n",
    "m = 2.61e-4 # mass\n",
    "\n",
    "# A, B, C matrices\n",
    "A = np.array([[0,1],[0,-d/m]])\n",
    "B = np.array([[0],[1/m]])\n",
    "C = np.array([[-1,0]])\n",
    "\n",
    "# Process and sensor noise\n",
    "sig_u = np.array([[10**2,0],[0,10**2]])\n",
    "sig_z = np.array([[20**2]])\n",
    "\n",
    "# Discretize A and B\n",
    "delta_t = dist_f[\"time\"].diff().mean()\n",
    "Ad = np.eye(2) + delta_t * A\n",
    "Bd = delta_t * B\n",
    "\n",
    "# Initial state\n",
    "x = np.array([[-dist_f[\"dist_f\"][0]],[0]])\n",
    "\n",
    "# KF estimation\n",
    "def kf(x,u,sig,y):\n",
    "    \n",
    "    x_p = Ad.dot(x) + Bd.dot(u)                      # predicted state\n",
    "    sig_p = Ad.dot(sig.dot(Ad.transpose())) + sig_u  # predicted state uncertainty\n",
    "    \n",
    "    y_m = y-C.dot(x_p)\n",
    "    sig_m = C.dot(sig_p.dot(C.transpose())) + sig_z\n",
    "    \n",
    "    kf_gain = sig_p.dot(C.transpose().dot(np.linalg.inv(sig_m)))  # KF gain\n",
    "\n",
    "    x_n   = x_p + kf_gain.dot(y_m)                   # new state \n",
    "    sig_n = (np.eye(2) - kf_gain.dot(C)).dot(sig_p)  # new state uncertainty\n",
    "\n",
    "    return x_n, sig_n"
   ]
  },
  {
   "cell_type": "code",
   "execution_count": 398,
   "id": "4ba6ed44-d327-47cb-add5-b7f689dbf822",
   "metadata": {},
   "outputs": [],
   "source": [
    "# Run code\n",
    "kf_state = []\n",
    "for u, d in zip(new_pwm[\"pwm\"], dist_f[\"dist_f\"]):\n",
    "    x, sig = kf(x, [[u/80]], sig, [[d]])\n",
    "    kf_state.append(x[:,0])"
   ]
  },
  {
   "cell_type": "code",
   "execution_count": 422,
   "id": "1ea5e89c-73c1-4565-9540-654551354448",
   "metadata": {},
   "outputs": [],
   "source": [
    "kf_df = dist_f.copy()\n",
    "kf_df.drop(columns=[\"dist_f\"], inplace=True)\n",
    "temp_kf_df = pd.DataFrame(kf_state, columns=[\"new_dist_f\", \"new_vel_f\"])\n",
    "kf_df = pd.concat((kf_df, temp_kf_df), axis=1)"
   ]
  },
  {
   "cell_type": "code",
   "execution_count": 423,
   "id": "43f2dd69-2366-4fb6-9aa4-b25bb76042c9",
   "metadata": {},
   "outputs": [
    {
     "data": {
      "text/html": [
       "<div>\n",
       "<style scoped>\n",
       "    .dataframe tbody tr th:only-of-type {\n",
       "        vertical-align: middle;\n",
       "    }\n",
       "\n",
       "    .dataframe tbody tr th {\n",
       "        vertical-align: top;\n",
       "    }\n",
       "\n",
       "    .dataframe thead th {\n",
       "        text-align: right;\n",
       "    }\n",
       "</style>\n",
       "<table border=\"1\" class=\"dataframe\">\n",
       "  <thead>\n",
       "    <tr style=\"text-align: right;\">\n",
       "      <th></th>\n",
       "      <th>time</th>\n",
       "      <th>new_dist_f</th>\n",
       "      <th>new_vel_f</th>\n",
       "    </tr>\n",
       "  </thead>\n",
       "  <tbody>\n",
       "    <tr>\n",
       "      <th>0</th>\n",
       "      <td>401.652</td>\n",
       "      <td>-2909.000000</td>\n",
       "      <td>1457.471264</td>\n",
       "    </tr>\n",
       "    <tr>\n",
       "      <th>1</th>\n",
       "      <td>401.893</td>\n",
       "      <td>-2655.362562</td>\n",
       "      <td>2337.860943</td>\n",
       "    </tr>\n",
       "    <tr>\n",
       "      <th>2</th>\n",
       "      <td>402.178</td>\n",
       "      <td>-2379.775148</td>\n",
       "      <td>2849.583834</td>\n",
       "    </tr>\n",
       "    <tr>\n",
       "      <th>3</th>\n",
       "      <td>402.433</td>\n",
       "      <td>-2089.064772</td>\n",
       "      <td>3145.029858</td>\n",
       "    </tr>\n",
       "    <tr>\n",
       "      <th>4</th>\n",
       "      <td>402.718</td>\n",
       "      <td>-1728.046975</td>\n",
       "      <td>3323.764277</td>\n",
       "    </tr>\n",
       "    <tr>\n",
       "      <th>5</th>\n",
       "      <td>402.973</td>\n",
       "      <td>-1313.658909</td>\n",
       "      <td>3433.715398</td>\n",
       "    </tr>\n",
       "    <tr>\n",
       "      <th>6</th>\n",
       "      <td>403.228</td>\n",
       "      <td>-823.000103</td>\n",
       "      <td>2049.686257</td>\n",
       "    </tr>\n",
       "    <tr>\n",
       "      <th>7</th>\n",
       "      <td>403.468</td>\n",
       "      <td>-504.267044</td>\n",
       "      <td>1226.881085</td>\n",
       "    </tr>\n",
       "    <tr>\n",
       "      <th>8</th>\n",
       "      <td>403.709</td>\n",
       "      <td>-279.019542</td>\n",
       "      <td>738.862671</td>\n",
       "    </tr>\n",
       "    <tr>\n",
       "      <th>9</th>\n",
       "      <td>403.933</td>\n",
       "      <td>-77.956310</td>\n",
       "      <td>453.478537</td>\n",
       "    </tr>\n",
       "    <tr>\n",
       "      <th>10</th>\n",
       "      <td>404.188</td>\n",
       "      <td>-116.864851</td>\n",
       "      <td>257.199181</td>\n",
       "    </tr>\n",
       "  </tbody>\n",
       "</table>\n",
       "</div>"
      ],
      "text/plain": [
       "       time   new_dist_f    new_vel_f\n",
       "0   401.652 -2909.000000  1457.471264\n",
       "1   401.893 -2655.362562  2337.860943\n",
       "2   402.178 -2379.775148  2849.583834\n",
       "3   402.433 -2089.064772  3145.029858\n",
       "4   402.718 -1728.046975  3323.764277\n",
       "5   402.973 -1313.658909  3433.715398\n",
       "6   403.228  -823.000103  2049.686257\n",
       "7   403.468  -504.267044  1226.881085\n",
       "8   403.709  -279.019542   738.862671\n",
       "9   403.933   -77.956310   453.478537\n",
       "10  404.188  -116.864851   257.199181"
      ]
     },
     "execution_count": 423,
     "metadata": {},
     "output_type": "execute_result"
    }
   ],
   "source": [
    "kf_df"
   ]
  },
  {
   "cell_type": "code",
   "execution_count": 424,
   "id": "75a9bc12-d60c-47cf-9b93-b55aefea273f",
   "metadata": {},
   "outputs": [],
   "source": [
    "kf_df.drop(columns=[\"time\"], inplace=True)\n",
    "new_kf_df = pd.concat((dist_f, kf_df), axis=1)\n",
    "new_kf_df[\"new_dist_f\"] *= -1"
   ]
  },
  {
   "cell_type": "code",
   "execution_count": 428,
   "id": "a289a8d0-ea6a-4d95-8161-d28585cebced",
   "metadata": {},
   "outputs": [],
   "source": [
    "# Optional to combine orig vel data\n",
    "new_kf_df.drop(columns=[\"time\"], inplace=True)\n",
    "new_kf_df = pd.concat((vel_f, new_kf_df), axis=1)\n",
    "new_kf_df[\"vel_f\"] *= -1"
   ]
  },
  {
   "cell_type": "code",
   "execution_count": 429,
   "id": "140d3b43-f646-4226-8917-1cdeb3c7f5c0",
   "metadata": {},
   "outputs": [
    {
     "data": {
      "image/png": "[encoded data removed]",
      "text/plain": [
       "<Figure size 432x288 with 1 Axes>"
      ]
     },
     "metadata": {
      "needs_background": "light"
     },
     "output_type": "display_data"
    }
   ],
   "source": [
    "plot_df(new_kf_df, \"kf_with_orig_dist_vel3.png\")"
   ]
  },
  {
   "cell_type": "code",
   "execution_count": 39,
   "id": "bdaec646-4cb6-4384-af19-d488579ae4f9",
   "metadata": {
    "jupyter": {
     "source_hidden": true
    },
    "tags": []
   },
   "outputs": [],
   "source": [
    "# This is where we do the polar plot stuff...\n",
    "import math\n",
    "from matplotlib import pyplot as plt"
   ]
  },
  {
   "cell_type": "code",
   "execution_count": 54,
   "id": "88068652-25d6-42dc-a820-56a94c247b3d",
   "metadata": {
    "collapsed": true,
    "jupyter": {
     "outputs_hidden": true,
     "source_hidden": true
    },
    "tags": []
   },
   "outputs": [
    {
     "name": "stdout",
     "output_type": "stream",
     "text": [
      "[0.         0.34906585 0.6981317  1.04719755 1.3962634  1.74532925\n",
      " 2.0943951  2.44346095 2.7925268  3.14159265 3.4906585  3.83972435\n",
      " 4.1887902  4.53785606 4.88692191 5.23598776 5.58505361 5.93411946]\n",
      "Actual number of data points (including the excluded latter points collected after spin stopped): 23\n",
      "\n",
      "Plot data:\n",
      "Time: [3.186, 3.877, 4.536, 5.122, 5.722, 6.307, 6.862, 7.462, 8.031, 8.617, 9.217, 9.786, 10.357, 10.941, 11.541, 12.126, 12.711, 13.267]\n",
      "Distance: [101.0, 110.0, 146.0, 150.0, 103.0, 83.0, 80.0, 96.0, 147.0, 219.0, 197.0, 195.0, 216.0, 283.0, 216.0, 174.0, 163.0, 179.0]\n",
      "Angle (rad):  ['0.00', '0.35', '0.70', '1.05', '1.40', '1.75', '2.09', '2.44', '2.79', '3.14', '3.49', '3.84', '4.19', '4.54', '4.89', '5.24', '5.59', '5.93']\n"
     ]
    },
    {
     "data": {
      "image/png": "[encoded data removed]",
      "text/plain": [
       "<Figure size 432x288 with 1 Axes>"
      ]
     },
     "metadata": {
      "needs_background": "light"
     },
     "output_type": "display_data"
    }
   ],
   "source": [
    "times = list(sensor_data[\"time\"][:18])\n",
    "tofs = sensor_data[\"dist_f\"][:18]\n",
    "ang_vels = list(sensor_data[\"gyr_z\"])\n",
    "# ang_vels = list(np.tile(np.array([22.5]), len(tofs)))\n",
    "num_points = len(ang_vels)\n",
    "\n",
    "# thetas = [0]\n",
    "# for i in range(1, num_points):\n",
    "#     thetas.append(thetas[i-1] + math.radians(ang_vels[i] * (times[i] - times[i-1])))\n",
    "thetas = np.linspace(0, 2 * np.pi, len(tofs), endpoint=False)\n",
    "print(thetas)\n",
    "\n",
    "xs = np.cos(thetas) * tofs\n",
    "ys = np.sin(thetas) * tofs\n",
    "\n",
    "r = np.array(tofs)\n",
    "theta = np.array(thetas)\n",
    "\n",
    "print(f\"Actual number of data points (including the excluded latter points collected after spin stopped): {num_points}\\n\")\n",
    "\n",
    "print(\"Plot data:\")\n",
    "print(f\"Time: {repr(times)}\")\n",
    "print(f\"Distance: {repr(list(r))}\")\n",
    "print(\"Angle (rad): \", [\"{:0.2f}\".format(x) for x in theta ])\n",
    "\n",
    "fig, ax = plt.subplots(subplot_kw={'projection': 'polar'})\n",
    "ax.plot(theta, r, 'o')\n",
    "# ax.set_rmax(2000)\n",
    "ax.set_rlabel_position(-22.5)  # Move radial labels away from plotted line\n",
    "ax.grid(True)\n",
    "\n",
    "ax.set_title(\"Map Polar Plot\", va='bottom')\n",
    "plt.show()"
   ]
  },
  {
   "cell_type": "code",
   "execution_count": 55,
   "id": "646a491a-5e99-4938-ab74-5b09c2b9f958",
   "metadata": {
    "collapsed": true,
    "jupyter": {
     "outputs_hidden": true,
     "source_hidden": true
    },
    "tags": []
   },
   "outputs": [
    {
     "data": {
      "image/png": "[encoded data removed]",
      "text/plain": [
       "<Figure size 432x288 with 1 Axes>"
      ]
     },
     "metadata": {
      "needs_background": "light"
     },
     "output_type": "display_data"
    }
   ],
   "source": [
    "df = pd.concat([xs.rename(\"x\"), ys.rename(\"y\")], axis=1)\n",
    "df.plot(x=\"x\", y=\"y\", marker=\"o\", linestyle='none')\n",
    "plt.show()"
   ]
  },
  {
   "cell_type": "code",
   "execution_count": 47,
   "id": "847319f9-0fbc-46c9-9682-40bfbfdbb517",
   "metadata": {},
   "outputs": [
    {
     "name": "stdout",
     "output_type": "stream",
     "text": [
      "2022-05-13 16:03:27,560 |\u001b[32m INFO     \u001b[0m|: Disconnected from B45C71B2-3BCA-639D-7AF3-3C14C2003C3E\n"
     ]
    }
   ],
   "source": [
    "ble.disconnect()"
   ]
  },
  {
   "cell_type": "code",
   "execution_count": 431,
   "id": "2ba397ca-106c-4637-96da-163ddbdbd5d0",
   "metadata": {},
   "outputs": [
    {
     "ename": "TypeError",
     "evalue": "Cannot pickle Objective-C objects",
     "output_type": "error",
     "traceback": [
      "\u001b[0;31m---------------------------------------------------------------------------\u001b[0m",
      "\u001b[0;31mTypeError\u001b[0m                                 Traceback (most recent call last)",
      "Input \u001b[0;32mIn [431]\u001b[0m, in \u001b[0;36m<cell line: 2>\u001b[0;34m()\u001b[0m\n\u001b[1;32m      1\u001b[0m \u001b[38;5;28;01mimport\u001b[39;00m \u001b[38;5;21;01mdill\u001b[39;00m\n\u001b[0;32m----> 2\u001b[0m \u001b[43mdill\u001b[49m\u001b[38;5;241;43m.\u001b[39;49m\u001b[43mdump_session\u001b[49m\u001b[43m(\u001b[49m\u001b[38;5;124;43m'\u001b[39;49m\u001b[38;5;124;43mnotebook_env.db\u001b[39;49m\u001b[38;5;124;43m'\u001b[39;49m\u001b[43m)\u001b[49m\n",
      "File \u001b[0;32m~/Documents/git/ece4960_sim/lib/python3.10/site-packages/dill/_dill.py:503\u001b[0m, in \u001b[0;36mdump_session\u001b[0;34m(filename, main, byref, **kwds)\u001b[0m\n\u001b[1;32m    501\u001b[0m     pickler\u001b[38;5;241m.\u001b[39m_first_pass \u001b[38;5;241m=\u001b[39m \u001b[38;5;28;01mTrue\u001b[39;00m\n\u001b[1;32m    502\u001b[0m     pickler\u001b[38;5;241m.\u001b[39m_main_modified \u001b[38;5;241m=\u001b[39m main \u001b[38;5;129;01mis\u001b[39;00m \u001b[38;5;129;01mnot\u001b[39;00m pickler\u001b[38;5;241m.\u001b[39m_original_main\n\u001b[0;32m--> 503\u001b[0m     \u001b[43mpickler\u001b[49m\u001b[38;5;241;43m.\u001b[39;49m\u001b[43mdump\u001b[49m\u001b[43m(\u001b[49m\u001b[43mmain\u001b[49m\u001b[43m)\u001b[49m\n\u001b[1;32m    504\u001b[0m \u001b[38;5;28;01mfinally\u001b[39;00m:\n\u001b[1;32m    505\u001b[0m     \u001b[38;5;28;01mif\u001b[39;00m f \u001b[38;5;129;01mis\u001b[39;00m \u001b[38;5;129;01mnot\u001b[39;00m filename:  \u001b[38;5;66;03m# If newly opened file\u001b[39;00m\n",
      "File \u001b[0;32m~/Documents/git/ece4960_sim/lib/python3.10/site-packages/dill/_dill.py:620\u001b[0m, in \u001b[0;36mPickler.dump\u001b[0;34m(self, obj)\u001b[0m\n\u001b[1;32m    618\u001b[0m     \u001b[38;5;28;01mraise\u001b[39;00m PicklingError(msg)\n\u001b[1;32m    619\u001b[0m \u001b[38;5;28;01melse\u001b[39;00m:\n\u001b[0;32m--> 620\u001b[0m     \u001b[43mStockPickler\u001b[49m\u001b[38;5;241;43m.\u001b[39;49m\u001b[43mdump\u001b[49m\u001b[43m(\u001b[49m\u001b[38;5;28;43mself\u001b[39;49m\u001b[43m,\u001b[49m\u001b[43m \u001b[49m\u001b[43mobj\u001b[49m\u001b[43m)\u001b[49m\n\u001b[1;32m    621\u001b[0m \u001b[38;5;28;01mreturn\u001b[39;00m\n",
      "File \u001b[0;32m/Library/Frameworks/Python.framework/Versions/3.10/lib/python3.10/pickle.py:487\u001b[0m, in \u001b[0;36m_Pickler.dump\u001b[0;34m(self, obj)\u001b[0m\n\u001b[1;32m    485\u001b[0m \u001b[38;5;28;01mif\u001b[39;00m \u001b[38;5;28mself\u001b[39m\u001b[38;5;241m.\u001b[39mproto \u001b[38;5;241m>\u001b[39m\u001b[38;5;241m=\u001b[39m \u001b[38;5;241m4\u001b[39m:\n\u001b[1;32m    486\u001b[0m     \u001b[38;5;28mself\u001b[39m\u001b[38;5;241m.\u001b[39mframer\u001b[38;5;241m.\u001b[39mstart_framing()\n\u001b[0;32m--> 487\u001b[0m \u001b[38;5;28;43mself\u001b[39;49m\u001b[38;5;241;43m.\u001b[39;49m\u001b[43msave\u001b[49m\u001b[43m(\u001b[49m\u001b[43mobj\u001b[49m\u001b[43m)\u001b[49m\n\u001b[1;32m    488\u001b[0m \u001b[38;5;28mself\u001b[39m\u001b[38;5;241m.\u001b[39mwrite(STOP)\n\u001b[1;32m    489\u001b[0m \u001b[38;5;28mself\u001b[39m\u001b[38;5;241m.\u001b[39mframer\u001b[38;5;241m.\u001b[39mend_framing()\n",
      "File \u001b[0;32m/Library/Frameworks/Python.framework/Versions/3.10/lib/python3.10/pickle.py:560\u001b[0m, in \u001b[0;36m_Pickler.save\u001b[0;34m(self, obj, save_persistent_id)\u001b[0m\n\u001b[1;32m    558\u001b[0m f \u001b[38;5;241m=\u001b[39m \u001b[38;5;28mself\u001b[39m\u001b[38;5;241m.\u001b[39mdispatch\u001b[38;5;241m.\u001b[39mget(t)\n\u001b[1;32m    559\u001b[0m \u001b[38;5;28;01mif\u001b[39;00m f \u001b[38;5;129;01mis\u001b[39;00m \u001b[38;5;129;01mnot\u001b[39;00m \u001b[38;5;28;01mNone\u001b[39;00m:\n\u001b[0;32m--> 560\u001b[0m     \u001b[43mf\u001b[49m\u001b[43m(\u001b[49m\u001b[38;5;28;43mself\u001b[39;49m\u001b[43m,\u001b[49m\u001b[43m \u001b[49m\u001b[43mobj\u001b[49m\u001b[43m)\u001b[49m  \u001b[38;5;66;03m# Call unbound method with explicit self\u001b[39;00m\n\u001b[1;32m    561\u001b[0m     \u001b[38;5;28;01mreturn\u001b[39;00m\n\u001b[1;32m    563\u001b[0m \u001b[38;5;66;03m# Check private dispatch table if any, or else\u001b[39;00m\n\u001b[1;32m    564\u001b[0m \u001b[38;5;66;03m# copyreg.dispatch_table\u001b[39;00m\n",
      "File \u001b[0;32m~/Documents/git/ece4960_sim/lib/python3.10/site-packages/dill/_dill.py:1765\u001b[0m, in \u001b[0;36msave_module\u001b[0;34m(pickler, obj)\u001b[0m\n\u001b[1;32m   1762\u001b[0m     _main_dict \u001b[38;5;241m=\u001b[39m obj\u001b[38;5;241m.\u001b[39m\u001b[38;5;18m__dict__\u001b[39m\u001b[38;5;241m.\u001b[39mcopy() \u001b[38;5;66;03m#XXX: better no copy? option to copy?\u001b[39;00m\n\u001b[1;32m   1763\u001b[0m     [_main_dict\u001b[38;5;241m.\u001b[39mpop(item, \u001b[38;5;28;01mNone\u001b[39;00m) \u001b[38;5;28;01mfor\u001b[39;00m item \u001b[38;5;129;01min\u001b[39;00m singletontypes\n\u001b[1;32m   1764\u001b[0m         \u001b[38;5;241m+\u001b[39m [\u001b[38;5;124m\"\u001b[39m\u001b[38;5;124m__builtins__\u001b[39m\u001b[38;5;124m\"\u001b[39m, \u001b[38;5;124m\"\u001b[39m\u001b[38;5;124m__loader__\u001b[39m\u001b[38;5;124m\"\u001b[39m]]\n\u001b[0;32m-> 1765\u001b[0m     \u001b[43mpickler\u001b[49m\u001b[38;5;241;43m.\u001b[39;49m\u001b[43msave_reduce\u001b[49m\u001b[43m(\u001b[49m\u001b[43m_import_module\u001b[49m\u001b[43m,\u001b[49m\u001b[43m \u001b[49m\u001b[43m(\u001b[49m\u001b[43mobj\u001b[49m\u001b[38;5;241;43m.\u001b[39;49m\u001b[38;5;18;43m__name__\u001b[39;49m\u001b[43m,\u001b[49m\u001b[43m)\u001b[49m\u001b[43m,\u001b[49m\u001b[43m \u001b[49m\u001b[43mobj\u001b[49m\u001b[38;5;241;43m=\u001b[39;49m\u001b[43mobj\u001b[49m\u001b[43m,\u001b[49m\n\u001b[1;32m   1766\u001b[0m \u001b[43m                        \u001b[49m\u001b[43mstate\u001b[49m\u001b[38;5;241;43m=\u001b[39;49m\u001b[43m_main_dict\u001b[49m\u001b[43m)\u001b[49m\n\u001b[1;32m   1767\u001b[0m     log\u001b[38;5;241m.\u001b[39minfo(\u001b[38;5;124m\"\u001b[39m\u001b[38;5;124m# M1\u001b[39m\u001b[38;5;124m\"\u001b[39m)\n\u001b[1;32m   1768\u001b[0m \u001b[38;5;28;01melif\u001b[39;00m PY3 \u001b[38;5;129;01mand\u001b[39;00m obj\u001b[38;5;241m.\u001b[39m\u001b[38;5;18m__name__\u001b[39m \u001b[38;5;241m==\u001b[39m \u001b[38;5;124m\"\u001b[39m\u001b[38;5;124mdill._dill\u001b[39m\u001b[38;5;124m\"\u001b[39m:\n",
      "File \u001b[0;32m/Library/Frameworks/Python.framework/Versions/3.10/lib/python3.10/pickle.py:717\u001b[0m, in \u001b[0;36m_Pickler.save_reduce\u001b[0;34m(self, func, args, state, listitems, dictitems, state_setter, obj)\u001b[0m\n\u001b[1;32m    715\u001b[0m \u001b[38;5;28;01mif\u001b[39;00m state \u001b[38;5;129;01mis\u001b[39;00m \u001b[38;5;129;01mnot\u001b[39;00m \u001b[38;5;28;01mNone\u001b[39;00m:\n\u001b[1;32m    716\u001b[0m     \u001b[38;5;28;01mif\u001b[39;00m state_setter \u001b[38;5;129;01mis\u001b[39;00m \u001b[38;5;28;01mNone\u001b[39;00m:\n\u001b[0;32m--> 717\u001b[0m         \u001b[43msave\u001b[49m\u001b[43m(\u001b[49m\u001b[43mstate\u001b[49m\u001b[43m)\u001b[49m\n\u001b[1;32m    718\u001b[0m         write(BUILD)\n\u001b[1;32m    719\u001b[0m     \u001b[38;5;28;01melse\u001b[39;00m:\n\u001b[1;32m    720\u001b[0m         \u001b[38;5;66;03m# If a state_setter is specified, call it instead of load_build\u001b[39;00m\n\u001b[1;32m    721\u001b[0m         \u001b[38;5;66;03m# to update obj's with its previous state.\u001b[39;00m\n\u001b[1;32m    722\u001b[0m         \u001b[38;5;66;03m# First, push state_setter and its tuple of expected arguments\u001b[39;00m\n\u001b[1;32m    723\u001b[0m         \u001b[38;5;66;03m# (obj, state) onto the stack.\u001b[39;00m\n",
      "File \u001b[0;32m/Library/Frameworks/Python.framework/Versions/3.10/lib/python3.10/pickle.py:560\u001b[0m, in \u001b[0;36m_Pickler.save\u001b[0;34m(self, obj, save_persistent_id)\u001b[0m\n\u001b[1;32m    558\u001b[0m f \u001b[38;5;241m=\u001b[39m \u001b[38;5;28mself\u001b[39m\u001b[38;5;241m.\u001b[39mdispatch\u001b[38;5;241m.\u001b[39mget(t)\n\u001b[1;32m    559\u001b[0m \u001b[38;5;28;01mif\u001b[39;00m f \u001b[38;5;129;01mis\u001b[39;00m \u001b[38;5;129;01mnot\u001b[39;00m \u001b[38;5;28;01mNone\u001b[39;00m:\n\u001b[0;32m--> 560\u001b[0m     \u001b[43mf\u001b[49m\u001b[43m(\u001b[49m\u001b[38;5;28;43mself\u001b[39;49m\u001b[43m,\u001b[49m\u001b[43m \u001b[49m\u001b[43mobj\u001b[49m\u001b[43m)\u001b[49m  \u001b[38;5;66;03m# Call unbound method with explicit self\u001b[39;00m\n\u001b[1;32m    561\u001b[0m     \u001b[38;5;28;01mreturn\u001b[39;00m\n\u001b[1;32m    563\u001b[0m \u001b[38;5;66;03m# Check private dispatch table if any, or else\u001b[39;00m\n\u001b[1;32m    564\u001b[0m \u001b[38;5;66;03m# copyreg.dispatch_table\u001b[39;00m\n",
      "File \u001b[0;32m~/Documents/git/ece4960_sim/lib/python3.10/site-packages/dill/_dill.py:1251\u001b[0m, in \u001b[0;36msave_module_dict\u001b[0;34m(pickler, obj)\u001b[0m\n\u001b[1;32m   1248\u001b[0m     \u001b[38;5;28;01mif\u001b[39;00m is_dill(pickler, child\u001b[38;5;241m=\u001b[39m\u001b[38;5;28;01mFalse\u001b[39;00m) \u001b[38;5;129;01mand\u001b[39;00m pickler\u001b[38;5;241m.\u001b[39m_session:\n\u001b[1;32m   1249\u001b[0m         \u001b[38;5;66;03m# we only care about session the first pass thru\u001b[39;00m\n\u001b[1;32m   1250\u001b[0m         pickler\u001b[38;5;241m.\u001b[39m_first_pass \u001b[38;5;241m=\u001b[39m \u001b[38;5;28;01mFalse\u001b[39;00m\n\u001b[0;32m-> 1251\u001b[0m     \u001b[43mStockPickler\u001b[49m\u001b[38;5;241;43m.\u001b[39;49m\u001b[43msave_dict\u001b[49m\u001b[43m(\u001b[49m\u001b[43mpickler\u001b[49m\u001b[43m,\u001b[49m\u001b[43m \u001b[49m\u001b[43mobj\u001b[49m\u001b[43m)\u001b[49m\n\u001b[1;32m   1252\u001b[0m     log\u001b[38;5;241m.\u001b[39minfo(\u001b[38;5;124m\"\u001b[39m\u001b[38;5;124m# D2\u001b[39m\u001b[38;5;124m\"\u001b[39m)\n\u001b[1;32m   1253\u001b[0m \u001b[38;5;28;01mreturn\u001b[39;00m\n",
      "File \u001b[0;32m/Library/Frameworks/Python.framework/Versions/3.10/lib/python3.10/pickle.py:972\u001b[0m, in \u001b[0;36m_Pickler.save_dict\u001b[0;34m(self, obj)\u001b[0m\n\u001b[1;32m    969\u001b[0m     \u001b[38;5;28mself\u001b[39m\u001b[38;5;241m.\u001b[39mwrite(MARK \u001b[38;5;241m+\u001b[39m DICT)\n\u001b[1;32m    971\u001b[0m \u001b[38;5;28mself\u001b[39m\u001b[38;5;241m.\u001b[39mmemoize(obj)\n\u001b[0;32m--> 972\u001b[0m \u001b[38;5;28;43mself\u001b[39;49m\u001b[38;5;241;43m.\u001b[39;49m\u001b[43m_batch_setitems\u001b[49m\u001b[43m(\u001b[49m\u001b[43mobj\u001b[49m\u001b[38;5;241;43m.\u001b[39;49m\u001b[43mitems\u001b[49m\u001b[43m(\u001b[49m\u001b[43m)\u001b[49m\u001b[43m)\u001b[49m\n",
      "File \u001b[0;32m/Library/Frameworks/Python.framework/Versions/3.10/lib/python3.10/pickle.py:998\u001b[0m, in \u001b[0;36m_Pickler._batch_setitems\u001b[0;34m(self, items)\u001b[0m\n\u001b[1;32m    996\u001b[0m     \u001b[38;5;28;01mfor\u001b[39;00m k, v \u001b[38;5;129;01min\u001b[39;00m tmp:\n\u001b[1;32m    997\u001b[0m         save(k)\n\u001b[0;32m--> 998\u001b[0m         \u001b[43msave\u001b[49m\u001b[43m(\u001b[49m\u001b[43mv\u001b[49m\u001b[43m)\u001b[49m\n\u001b[1;32m    999\u001b[0m     write(SETITEMS)\n\u001b[1;32m   1000\u001b[0m \u001b[38;5;28;01melif\u001b[39;00m n:\n",
      "File \u001b[0;32m/Library/Frameworks/Python.framework/Versions/3.10/lib/python3.10/pickle.py:603\u001b[0m, in \u001b[0;36m_Pickler.save\u001b[0;34m(self, obj, save_persistent_id)\u001b[0m\n\u001b[1;32m    599\u001b[0m     \u001b[38;5;28;01mraise\u001b[39;00m PicklingError(\u001b[38;5;124m\"\u001b[39m\u001b[38;5;124mTuple returned by \u001b[39m\u001b[38;5;132;01m%s\u001b[39;00m\u001b[38;5;124m must have \u001b[39m\u001b[38;5;124m\"\u001b[39m\n\u001b[1;32m    600\u001b[0m                         \u001b[38;5;124m\"\u001b[39m\u001b[38;5;124mtwo to six elements\u001b[39m\u001b[38;5;124m\"\u001b[39m \u001b[38;5;241m%\u001b[39m reduce)\n\u001b[1;32m    602\u001b[0m \u001b[38;5;66;03m# Save the reduce() output and finally memoize the object\u001b[39;00m\n\u001b[0;32m--> 603\u001b[0m \u001b[38;5;28;43mself\u001b[39;49m\u001b[38;5;241;43m.\u001b[39;49m\u001b[43msave_reduce\u001b[49m\u001b[43m(\u001b[49m\u001b[43mobj\u001b[49m\u001b[38;5;241;43m=\u001b[39;49m\u001b[43mobj\u001b[49m\u001b[43m,\u001b[49m\u001b[43m \u001b[49m\u001b[38;5;241;43m*\u001b[39;49m\u001b[43mrv\u001b[49m\u001b[43m)\u001b[49m\n",
      "File \u001b[0;32m/Library/Frameworks/Python.framework/Versions/3.10/lib/python3.10/pickle.py:717\u001b[0m, in \u001b[0;36m_Pickler.save_reduce\u001b[0;34m(self, func, args, state, listitems, dictitems, state_setter, obj)\u001b[0m\n\u001b[1;32m    715\u001b[0m \u001b[38;5;28;01mif\u001b[39;00m state \u001b[38;5;129;01mis\u001b[39;00m \u001b[38;5;129;01mnot\u001b[39;00m \u001b[38;5;28;01mNone\u001b[39;00m:\n\u001b[1;32m    716\u001b[0m     \u001b[38;5;28;01mif\u001b[39;00m state_setter \u001b[38;5;129;01mis\u001b[39;00m \u001b[38;5;28;01mNone\u001b[39;00m:\n\u001b[0;32m--> 717\u001b[0m         \u001b[43msave\u001b[49m\u001b[43m(\u001b[49m\u001b[43mstate\u001b[49m\u001b[43m)\u001b[49m\n\u001b[1;32m    718\u001b[0m         write(BUILD)\n\u001b[1;32m    719\u001b[0m     \u001b[38;5;28;01melse\u001b[39;00m:\n\u001b[1;32m    720\u001b[0m         \u001b[38;5;66;03m# If a state_setter is specified, call it instead of load_build\u001b[39;00m\n\u001b[1;32m    721\u001b[0m         \u001b[38;5;66;03m# to update obj's with its previous state.\u001b[39;00m\n\u001b[1;32m    722\u001b[0m         \u001b[38;5;66;03m# First, push state_setter and its tuple of expected arguments\u001b[39;00m\n\u001b[1;32m    723\u001b[0m         \u001b[38;5;66;03m# (obj, state) onto the stack.\u001b[39;00m\n",
      "File \u001b[0;32m/Library/Frameworks/Python.framework/Versions/3.10/lib/python3.10/pickle.py:560\u001b[0m, in \u001b[0;36m_Pickler.save\u001b[0;34m(self, obj, save_persistent_id)\u001b[0m\n\u001b[1;32m    558\u001b[0m f \u001b[38;5;241m=\u001b[39m \u001b[38;5;28mself\u001b[39m\u001b[38;5;241m.\u001b[39mdispatch\u001b[38;5;241m.\u001b[39mget(t)\n\u001b[1;32m    559\u001b[0m \u001b[38;5;28;01mif\u001b[39;00m f \u001b[38;5;129;01mis\u001b[39;00m \u001b[38;5;129;01mnot\u001b[39;00m \u001b[38;5;28;01mNone\u001b[39;00m:\n\u001b[0;32m--> 560\u001b[0m     \u001b[43mf\u001b[49m\u001b[43m(\u001b[49m\u001b[38;5;28;43mself\u001b[39;49m\u001b[43m,\u001b[49m\u001b[43m \u001b[49m\u001b[43mobj\u001b[49m\u001b[43m)\u001b[49m  \u001b[38;5;66;03m# Call unbound method with explicit self\u001b[39;00m\n\u001b[1;32m    561\u001b[0m     \u001b[38;5;28;01mreturn\u001b[39;00m\n\u001b[1;32m    563\u001b[0m \u001b[38;5;66;03m# Check private dispatch table if any, or else\u001b[39;00m\n\u001b[1;32m    564\u001b[0m \u001b[38;5;66;03m# copyreg.dispatch_table\u001b[39;00m\n",
      "File \u001b[0;32m~/Documents/git/ece4960_sim/lib/python3.10/site-packages/dill/_dill.py:1251\u001b[0m, in \u001b[0;36msave_module_dict\u001b[0;34m(pickler, obj)\u001b[0m\n\u001b[1;32m   1248\u001b[0m     \u001b[38;5;28;01mif\u001b[39;00m is_dill(pickler, child\u001b[38;5;241m=\u001b[39m\u001b[38;5;28;01mFalse\u001b[39;00m) \u001b[38;5;129;01mand\u001b[39;00m pickler\u001b[38;5;241m.\u001b[39m_session:\n\u001b[1;32m   1249\u001b[0m         \u001b[38;5;66;03m# we only care about session the first pass thru\u001b[39;00m\n\u001b[1;32m   1250\u001b[0m         pickler\u001b[38;5;241m.\u001b[39m_first_pass \u001b[38;5;241m=\u001b[39m \u001b[38;5;28;01mFalse\u001b[39;00m\n\u001b[0;32m-> 1251\u001b[0m     \u001b[43mStockPickler\u001b[49m\u001b[38;5;241;43m.\u001b[39;49m\u001b[43msave_dict\u001b[49m\u001b[43m(\u001b[49m\u001b[43mpickler\u001b[49m\u001b[43m,\u001b[49m\u001b[43m \u001b[49m\u001b[43mobj\u001b[49m\u001b[43m)\u001b[49m\n\u001b[1;32m   1252\u001b[0m     log\u001b[38;5;241m.\u001b[39minfo(\u001b[38;5;124m\"\u001b[39m\u001b[38;5;124m# D2\u001b[39m\u001b[38;5;124m\"\u001b[39m)\n\u001b[1;32m   1253\u001b[0m \u001b[38;5;28;01mreturn\u001b[39;00m\n",
      "File \u001b[0;32m/Library/Frameworks/Python.framework/Versions/3.10/lib/python3.10/pickle.py:972\u001b[0m, in \u001b[0;36m_Pickler.save_dict\u001b[0;34m(self, obj)\u001b[0m\n\u001b[1;32m    969\u001b[0m     \u001b[38;5;28mself\u001b[39m\u001b[38;5;241m.\u001b[39mwrite(MARK \u001b[38;5;241m+\u001b[39m DICT)\n\u001b[1;32m    971\u001b[0m \u001b[38;5;28mself\u001b[39m\u001b[38;5;241m.\u001b[39mmemoize(obj)\n\u001b[0;32m--> 972\u001b[0m \u001b[38;5;28;43mself\u001b[39;49m\u001b[38;5;241;43m.\u001b[39;49m\u001b[43m_batch_setitems\u001b[49m\u001b[43m(\u001b[49m\u001b[43mobj\u001b[49m\u001b[38;5;241;43m.\u001b[39;49m\u001b[43mitems\u001b[49m\u001b[43m(\u001b[49m\u001b[43m)\u001b[49m\u001b[43m)\u001b[49m\n",
      "File \u001b[0;32m/Library/Frameworks/Python.framework/Versions/3.10/lib/python3.10/pickle.py:998\u001b[0m, in \u001b[0;36m_Pickler._batch_setitems\u001b[0;34m(self, items)\u001b[0m\n\u001b[1;32m    996\u001b[0m     \u001b[38;5;28;01mfor\u001b[39;00m k, v \u001b[38;5;129;01min\u001b[39;00m tmp:\n\u001b[1;32m    997\u001b[0m         save(k)\n\u001b[0;32m--> 998\u001b[0m         \u001b[43msave\u001b[49m\u001b[43m(\u001b[49m\u001b[43mv\u001b[49m\u001b[43m)\u001b[49m\n\u001b[1;32m    999\u001b[0m     write(SETITEMS)\n\u001b[1;32m   1000\u001b[0m \u001b[38;5;28;01melif\u001b[39;00m n:\n",
      "File \u001b[0;32m/Library/Frameworks/Python.framework/Versions/3.10/lib/python3.10/pickle.py:603\u001b[0m, in \u001b[0;36m_Pickler.save\u001b[0;34m(self, obj, save_persistent_id)\u001b[0m\n\u001b[1;32m    599\u001b[0m     \u001b[38;5;28;01mraise\u001b[39;00m PicklingError(\u001b[38;5;124m\"\u001b[39m\u001b[38;5;124mTuple returned by \u001b[39m\u001b[38;5;132;01m%s\u001b[39;00m\u001b[38;5;124m must have \u001b[39m\u001b[38;5;124m\"\u001b[39m\n\u001b[1;32m    600\u001b[0m                         \u001b[38;5;124m\"\u001b[39m\u001b[38;5;124mtwo to six elements\u001b[39m\u001b[38;5;124m\"\u001b[39m \u001b[38;5;241m%\u001b[39m reduce)\n\u001b[1;32m    602\u001b[0m \u001b[38;5;66;03m# Save the reduce() output and finally memoize the object\u001b[39;00m\n\u001b[0;32m--> 603\u001b[0m \u001b[38;5;28;43mself\u001b[39;49m\u001b[38;5;241;43m.\u001b[39;49m\u001b[43msave_reduce\u001b[49m\u001b[43m(\u001b[49m\u001b[43mobj\u001b[49m\u001b[38;5;241;43m=\u001b[39;49m\u001b[43mobj\u001b[49m\u001b[43m,\u001b[49m\u001b[43m \u001b[49m\u001b[38;5;241;43m*\u001b[39;49m\u001b[43mrv\u001b[49m\u001b[43m)\u001b[49m\n",
      "File \u001b[0;32m/Library/Frameworks/Python.framework/Versions/3.10/lib/python3.10/pickle.py:717\u001b[0m, in \u001b[0;36m_Pickler.save_reduce\u001b[0;34m(self, func, args, state, listitems, dictitems, state_setter, obj)\u001b[0m\n\u001b[1;32m    715\u001b[0m \u001b[38;5;28;01mif\u001b[39;00m state \u001b[38;5;129;01mis\u001b[39;00m \u001b[38;5;129;01mnot\u001b[39;00m \u001b[38;5;28;01mNone\u001b[39;00m:\n\u001b[1;32m    716\u001b[0m     \u001b[38;5;28;01mif\u001b[39;00m state_setter \u001b[38;5;129;01mis\u001b[39;00m \u001b[38;5;28;01mNone\u001b[39;00m:\n\u001b[0;32m--> 717\u001b[0m         \u001b[43msave\u001b[49m\u001b[43m(\u001b[49m\u001b[43mstate\u001b[49m\u001b[43m)\u001b[49m\n\u001b[1;32m    718\u001b[0m         write(BUILD)\n\u001b[1;32m    719\u001b[0m     \u001b[38;5;28;01melse\u001b[39;00m:\n\u001b[1;32m    720\u001b[0m         \u001b[38;5;66;03m# If a state_setter is specified, call it instead of load_build\u001b[39;00m\n\u001b[1;32m    721\u001b[0m         \u001b[38;5;66;03m# to update obj's with its previous state.\u001b[39;00m\n\u001b[1;32m    722\u001b[0m         \u001b[38;5;66;03m# First, push state_setter and its tuple of expected arguments\u001b[39;00m\n\u001b[1;32m    723\u001b[0m         \u001b[38;5;66;03m# (obj, state) onto the stack.\u001b[39;00m\n",
      "File \u001b[0;32m/Library/Frameworks/Python.framework/Versions/3.10/lib/python3.10/pickle.py:560\u001b[0m, in \u001b[0;36m_Pickler.save\u001b[0;34m(self, obj, save_persistent_id)\u001b[0m\n\u001b[1;32m    558\u001b[0m f \u001b[38;5;241m=\u001b[39m \u001b[38;5;28mself\u001b[39m\u001b[38;5;241m.\u001b[39mdispatch\u001b[38;5;241m.\u001b[39mget(t)\n\u001b[1;32m    559\u001b[0m \u001b[38;5;28;01mif\u001b[39;00m f \u001b[38;5;129;01mis\u001b[39;00m \u001b[38;5;129;01mnot\u001b[39;00m \u001b[38;5;28;01mNone\u001b[39;00m:\n\u001b[0;32m--> 560\u001b[0m     \u001b[43mf\u001b[49m\u001b[43m(\u001b[49m\u001b[38;5;28;43mself\u001b[39;49m\u001b[43m,\u001b[49m\u001b[43m \u001b[49m\u001b[43mobj\u001b[49m\u001b[43m)\u001b[49m  \u001b[38;5;66;03m# Call unbound method with explicit self\u001b[39;00m\n\u001b[1;32m    561\u001b[0m     \u001b[38;5;28;01mreturn\u001b[39;00m\n\u001b[1;32m    563\u001b[0m \u001b[38;5;66;03m# Check private dispatch table if any, or else\u001b[39;00m\n\u001b[1;32m    564\u001b[0m \u001b[38;5;66;03m# copyreg.dispatch_table\u001b[39;00m\n",
      "File \u001b[0;32m~/Documents/git/ece4960_sim/lib/python3.10/site-packages/dill/_dill.py:1251\u001b[0m, in \u001b[0;36msave_module_dict\u001b[0;34m(pickler, obj)\u001b[0m\n\u001b[1;32m   1248\u001b[0m     \u001b[38;5;28;01mif\u001b[39;00m is_dill(pickler, child\u001b[38;5;241m=\u001b[39m\u001b[38;5;28;01mFalse\u001b[39;00m) \u001b[38;5;129;01mand\u001b[39;00m pickler\u001b[38;5;241m.\u001b[39m_session:\n\u001b[1;32m   1249\u001b[0m         \u001b[38;5;66;03m# we only care about session the first pass thru\u001b[39;00m\n\u001b[1;32m   1250\u001b[0m         pickler\u001b[38;5;241m.\u001b[39m_first_pass \u001b[38;5;241m=\u001b[39m \u001b[38;5;28;01mFalse\u001b[39;00m\n\u001b[0;32m-> 1251\u001b[0m     \u001b[43mStockPickler\u001b[49m\u001b[38;5;241;43m.\u001b[39;49m\u001b[43msave_dict\u001b[49m\u001b[43m(\u001b[49m\u001b[43mpickler\u001b[49m\u001b[43m,\u001b[49m\u001b[43m \u001b[49m\u001b[43mobj\u001b[49m\u001b[43m)\u001b[49m\n\u001b[1;32m   1252\u001b[0m     log\u001b[38;5;241m.\u001b[39minfo(\u001b[38;5;124m\"\u001b[39m\u001b[38;5;124m# D2\u001b[39m\u001b[38;5;124m\"\u001b[39m)\n\u001b[1;32m   1253\u001b[0m \u001b[38;5;28;01mreturn\u001b[39;00m\n",
      "File \u001b[0;32m/Library/Frameworks/Python.framework/Versions/3.10/lib/python3.10/pickle.py:972\u001b[0m, in \u001b[0;36m_Pickler.save_dict\u001b[0;34m(self, obj)\u001b[0m\n\u001b[1;32m    969\u001b[0m     \u001b[38;5;28mself\u001b[39m\u001b[38;5;241m.\u001b[39mwrite(MARK \u001b[38;5;241m+\u001b[39m DICT)\n\u001b[1;32m    971\u001b[0m \u001b[38;5;28mself\u001b[39m\u001b[38;5;241m.\u001b[39mmemoize(obj)\n\u001b[0;32m--> 972\u001b[0m \u001b[38;5;28;43mself\u001b[39;49m\u001b[38;5;241;43m.\u001b[39;49m\u001b[43m_batch_setitems\u001b[49m\u001b[43m(\u001b[49m\u001b[43mobj\u001b[49m\u001b[38;5;241;43m.\u001b[39;49m\u001b[43mitems\u001b[49m\u001b[43m(\u001b[49m\u001b[43m)\u001b[49m\u001b[43m)\u001b[49m\n",
      "File \u001b[0;32m/Library/Frameworks/Python.framework/Versions/3.10/lib/python3.10/pickle.py:998\u001b[0m, in \u001b[0;36m_Pickler._batch_setitems\u001b[0;34m(self, items)\u001b[0m\n\u001b[1;32m    996\u001b[0m     \u001b[38;5;28;01mfor\u001b[39;00m k, v \u001b[38;5;129;01min\u001b[39;00m tmp:\n\u001b[1;32m    997\u001b[0m         save(k)\n\u001b[0;32m--> 998\u001b[0m         \u001b[43msave\u001b[49m\u001b[43m(\u001b[49m\u001b[43mv\u001b[49m\u001b[43m)\u001b[49m\n\u001b[1;32m    999\u001b[0m     write(SETITEMS)\n\u001b[1;32m   1000\u001b[0m \u001b[38;5;28;01melif\u001b[39;00m n:\n",
      "File \u001b[0;32m/Library/Frameworks/Python.framework/Versions/3.10/lib/python3.10/pickle.py:603\u001b[0m, in \u001b[0;36m_Pickler.save\u001b[0;34m(self, obj, save_persistent_id)\u001b[0m\n\u001b[1;32m    599\u001b[0m     \u001b[38;5;28;01mraise\u001b[39;00m PicklingError(\u001b[38;5;124m\"\u001b[39m\u001b[38;5;124mTuple returned by \u001b[39m\u001b[38;5;132;01m%s\u001b[39;00m\u001b[38;5;124m must have \u001b[39m\u001b[38;5;124m\"\u001b[39m\n\u001b[1;32m    600\u001b[0m                         \u001b[38;5;124m\"\u001b[39m\u001b[38;5;124mtwo to six elements\u001b[39m\u001b[38;5;124m\"\u001b[39m \u001b[38;5;241m%\u001b[39m reduce)\n\u001b[1;32m    602\u001b[0m \u001b[38;5;66;03m# Save the reduce() output and finally memoize the object\u001b[39;00m\n\u001b[0;32m--> 603\u001b[0m \u001b[38;5;28;43mself\u001b[39;49m\u001b[38;5;241;43m.\u001b[39;49m\u001b[43msave_reduce\u001b[49m\u001b[43m(\u001b[49m\u001b[43mobj\u001b[49m\u001b[38;5;241;43m=\u001b[39;49m\u001b[43mobj\u001b[49m\u001b[43m,\u001b[49m\u001b[43m \u001b[49m\u001b[38;5;241;43m*\u001b[39;49m\u001b[43mrv\u001b[49m\u001b[43m)\u001b[49m\n",
      "File \u001b[0;32m/Library/Frameworks/Python.framework/Versions/3.10/lib/python3.10/pickle.py:717\u001b[0m, in \u001b[0;36m_Pickler.save_reduce\u001b[0;34m(self, func, args, state, listitems, dictitems, state_setter, obj)\u001b[0m\n\u001b[1;32m    715\u001b[0m \u001b[38;5;28;01mif\u001b[39;00m state \u001b[38;5;129;01mis\u001b[39;00m \u001b[38;5;129;01mnot\u001b[39;00m \u001b[38;5;28;01mNone\u001b[39;00m:\n\u001b[1;32m    716\u001b[0m     \u001b[38;5;28;01mif\u001b[39;00m state_setter \u001b[38;5;129;01mis\u001b[39;00m \u001b[38;5;28;01mNone\u001b[39;00m:\n\u001b[0;32m--> 717\u001b[0m         \u001b[43msave\u001b[49m\u001b[43m(\u001b[49m\u001b[43mstate\u001b[49m\u001b[43m)\u001b[49m\n\u001b[1;32m    718\u001b[0m         write(BUILD)\n\u001b[1;32m    719\u001b[0m     \u001b[38;5;28;01melse\u001b[39;00m:\n\u001b[1;32m    720\u001b[0m         \u001b[38;5;66;03m# If a state_setter is specified, call it instead of load_build\u001b[39;00m\n\u001b[1;32m    721\u001b[0m         \u001b[38;5;66;03m# to update obj's with its previous state.\u001b[39;00m\n\u001b[1;32m    722\u001b[0m         \u001b[38;5;66;03m# First, push state_setter and its tuple of expected arguments\u001b[39;00m\n\u001b[1;32m    723\u001b[0m         \u001b[38;5;66;03m# (obj, state) onto the stack.\u001b[39;00m\n",
      "File \u001b[0;32m/Library/Frameworks/Python.framework/Versions/3.10/lib/python3.10/pickle.py:560\u001b[0m, in \u001b[0;36m_Pickler.save\u001b[0;34m(self, obj, save_persistent_id)\u001b[0m\n\u001b[1;32m    558\u001b[0m f \u001b[38;5;241m=\u001b[39m \u001b[38;5;28mself\u001b[39m\u001b[38;5;241m.\u001b[39mdispatch\u001b[38;5;241m.\u001b[39mget(t)\n\u001b[1;32m    559\u001b[0m \u001b[38;5;28;01mif\u001b[39;00m f \u001b[38;5;129;01mis\u001b[39;00m \u001b[38;5;129;01mnot\u001b[39;00m \u001b[38;5;28;01mNone\u001b[39;00m:\n\u001b[0;32m--> 560\u001b[0m     \u001b[43mf\u001b[49m\u001b[43m(\u001b[49m\u001b[38;5;28;43mself\u001b[39;49m\u001b[43m,\u001b[49m\u001b[43m \u001b[49m\u001b[43mobj\u001b[49m\u001b[43m)\u001b[49m  \u001b[38;5;66;03m# Call unbound method with explicit self\u001b[39;00m\n\u001b[1;32m    561\u001b[0m     \u001b[38;5;28;01mreturn\u001b[39;00m\n\u001b[1;32m    563\u001b[0m \u001b[38;5;66;03m# Check private dispatch table if any, or else\u001b[39;00m\n\u001b[1;32m    564\u001b[0m \u001b[38;5;66;03m# copyreg.dispatch_table\u001b[39;00m\n",
      "File \u001b[0;32m~/Documents/git/ece4960_sim/lib/python3.10/site-packages/dill/_dill.py:1251\u001b[0m, in \u001b[0;36msave_module_dict\u001b[0;34m(pickler, obj)\u001b[0m\n\u001b[1;32m   1248\u001b[0m     \u001b[38;5;28;01mif\u001b[39;00m is_dill(pickler, child\u001b[38;5;241m=\u001b[39m\u001b[38;5;28;01mFalse\u001b[39;00m) \u001b[38;5;129;01mand\u001b[39;00m pickler\u001b[38;5;241m.\u001b[39m_session:\n\u001b[1;32m   1249\u001b[0m         \u001b[38;5;66;03m# we only care about session the first pass thru\u001b[39;00m\n\u001b[1;32m   1250\u001b[0m         pickler\u001b[38;5;241m.\u001b[39m_first_pass \u001b[38;5;241m=\u001b[39m \u001b[38;5;28;01mFalse\u001b[39;00m\n\u001b[0;32m-> 1251\u001b[0m     \u001b[43mStockPickler\u001b[49m\u001b[38;5;241;43m.\u001b[39;49m\u001b[43msave_dict\u001b[49m\u001b[43m(\u001b[49m\u001b[43mpickler\u001b[49m\u001b[43m,\u001b[49m\u001b[43m \u001b[49m\u001b[43mobj\u001b[49m\u001b[43m)\u001b[49m\n\u001b[1;32m   1252\u001b[0m     log\u001b[38;5;241m.\u001b[39minfo(\u001b[38;5;124m\"\u001b[39m\u001b[38;5;124m# D2\u001b[39m\u001b[38;5;124m\"\u001b[39m)\n\u001b[1;32m   1253\u001b[0m \u001b[38;5;28;01mreturn\u001b[39;00m\n",
      "File \u001b[0;32m/Library/Frameworks/Python.framework/Versions/3.10/lib/python3.10/pickle.py:972\u001b[0m, in \u001b[0;36m_Pickler.save_dict\u001b[0;34m(self, obj)\u001b[0m\n\u001b[1;32m    969\u001b[0m     \u001b[38;5;28mself\u001b[39m\u001b[38;5;241m.\u001b[39mwrite(MARK \u001b[38;5;241m+\u001b[39m DICT)\n\u001b[1;32m    971\u001b[0m \u001b[38;5;28mself\u001b[39m\u001b[38;5;241m.\u001b[39mmemoize(obj)\n\u001b[0;32m--> 972\u001b[0m \u001b[38;5;28;43mself\u001b[39;49m\u001b[38;5;241;43m.\u001b[39;49m\u001b[43m_batch_setitems\u001b[49m\u001b[43m(\u001b[49m\u001b[43mobj\u001b[49m\u001b[38;5;241;43m.\u001b[39;49m\u001b[43mitems\u001b[49m\u001b[43m(\u001b[49m\u001b[43m)\u001b[49m\u001b[43m)\u001b[49m\n",
      "File \u001b[0;32m/Library/Frameworks/Python.framework/Versions/3.10/lib/python3.10/pickle.py:998\u001b[0m, in \u001b[0;36m_Pickler._batch_setitems\u001b[0;34m(self, items)\u001b[0m\n\u001b[1;32m    996\u001b[0m     \u001b[38;5;28;01mfor\u001b[39;00m k, v \u001b[38;5;129;01min\u001b[39;00m tmp:\n\u001b[1;32m    997\u001b[0m         save(k)\n\u001b[0;32m--> 998\u001b[0m         \u001b[43msave\u001b[49m\u001b[43m(\u001b[49m\u001b[43mv\u001b[49m\u001b[43m)\u001b[49m\n\u001b[1;32m    999\u001b[0m     write(SETITEMS)\n\u001b[1;32m   1000\u001b[0m \u001b[38;5;28;01melif\u001b[39;00m n:\n",
      "File \u001b[0;32m/Library/Frameworks/Python.framework/Versions/3.10/lib/python3.10/pickle.py:578\u001b[0m, in \u001b[0;36m_Pickler.save\u001b[0;34m(self, obj, save_persistent_id)\u001b[0m\n\u001b[1;32m    576\u001b[0m reduce \u001b[38;5;241m=\u001b[39m \u001b[38;5;28mgetattr\u001b[39m(obj, \u001b[38;5;124m\"\u001b[39m\u001b[38;5;124m__reduce_ex__\u001b[39m\u001b[38;5;124m\"\u001b[39m, \u001b[38;5;28;01mNone\u001b[39;00m)\n\u001b[1;32m    577\u001b[0m \u001b[38;5;28;01mif\u001b[39;00m reduce \u001b[38;5;129;01mis\u001b[39;00m \u001b[38;5;129;01mnot\u001b[39;00m \u001b[38;5;28;01mNone\u001b[39;00m:\n\u001b[0;32m--> 578\u001b[0m     rv \u001b[38;5;241m=\u001b[39m \u001b[43mreduce\u001b[49m\u001b[43m(\u001b[49m\u001b[38;5;28;43mself\u001b[39;49m\u001b[38;5;241;43m.\u001b[39;49m\u001b[43mproto\u001b[49m\u001b[43m)\u001b[49m\n\u001b[1;32m    579\u001b[0m \u001b[38;5;28;01melse\u001b[39;00m:\n\u001b[1;32m    580\u001b[0m     reduce \u001b[38;5;241m=\u001b[39m \u001b[38;5;28mgetattr\u001b[39m(obj, \u001b[38;5;124m\"\u001b[39m\u001b[38;5;124m__reduce__\u001b[39m\u001b[38;5;124m\"\u001b[39m, \u001b[38;5;28;01mNone\u001b[39;00m)\n",
      "\u001b[0;31mTypeError\u001b[0m: Cannot pickle Objective-C objects"
     ]
    }
   ],
   "source": [
    "import dill\n",
    "dill.dump_session('notebook_env.db')"
   ]
  },
  {
   "cell_type": "code",
   "execution_count": null,
   "id": "82ddb44a-7178-4fae-8f39-c070a6f7b4b9",
   "metadata": {},
   "outputs": [],
   "source": []
  }
 ],
 "metadata": {
  "kernelspec": {
   "display_name": "Python 3 (ipykernel)",
   "language": "python",
   "name": "python3"
  },
  "language_info": {
   "codemirror_mode": {
    "name": "ipython",
    "version": 3
   },
   "file_extension": ".py",
   "mimetype": "text/x-python",
   "name": "python",
   "nbconvert_exporter": "python",
   "pygments_lexer": "ipython3",
   "version": "3.10.4"
  }
 },
 "nbformat": 4,
 "nbformat_minor": 5
}
