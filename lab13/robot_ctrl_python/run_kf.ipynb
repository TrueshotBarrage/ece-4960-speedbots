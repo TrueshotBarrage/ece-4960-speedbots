{
 "cells": [
  {
   "cell_type": "code",
   "execution_count": 1,
   "id": "8dc7c631-ec98-4e67-b4da-8db8b6e30c10",
   "metadata": {},
   "outputs": [],
   "source": [
    "%load_ext autoreload\n",
    "%autoreload 2\n",
    "\n",
    "from ble import get_ble_controller\n",
    "from base_ble import LOG\n",
    "from cmd_types import CMD\n",
    "import time\n",
    "import asyncio\n",
    "import numpy as np\n",
    "\n",
    "\n",
    "LOG.propagate = False"
   ]
  },
  {
   "cell_type": "code",
   "execution_count": 107,
   "id": "bf6504b1-8605-408a-aaf0-b91204e33609",
   "metadata": {},
   "outputs": [
    {
     "name": "stdout",
     "output_type": "stream",
     "text": [
      "2022-05-20 17:07:54,386 |\u001b[32m INFO     \u001b[0m|: Looking for Artemis Nano Peripheral Device: C0:83:A5:6D:02:3C\n",
      "2022-05-20 17:08:01,668 |\u001b[32m INFO     \u001b[0m|: Connected to C0:83:A5:6D:02:3C\n"
     ]
    }
   ],
   "source": [
    "# Get ArtemisBLEController object\n",
    "ble = get_ble_controller()\n",
    "\n",
    "# Connect to the Artemis Device\n",
    "ble.connect()"
   ]
  },
  {
   "cell_type": "code",
   "execution_count": 108,
   "id": "42f4160d-4726-42f9-9ca3-d1befc042883",
   "metadata": {},
   "outputs": [],
   "source": [
    "# Instantiate RobotControl class (in controller.py)\n",
    "from controller import *"
   ]
  },
  {
   "cell_type": "code",
   "execution_count": 109,
   "id": "d5ec3148-e108-4b49-861a-144db6b60ab3",
   "metadata": {},
   "outputs": [],
   "source": [
    "rc = RobotControl(ble)"
   ]
  },
  {
   "cell_type": "code",
   "execution_count": 110,
   "id": "cd3a4fe9-091c-4048-af26-746007605309",
   "metadata": {},
   "outputs": [],
   "source": [
    "rc.start_pid()"
   ]
  },
  {
   "cell_type": "code",
   "execution_count": 111,
   "id": "c1228f0e-30e1-4113-b102-883bcbc2f2e7",
   "metadata": {},
   "outputs": [
    {
     "name": "stdout",
     "output_type": "stream",
     "text": [
      "2022-05-20 17:09:28,766 |\u001b[32m INFO     \u001b[0m|: Disconnected from C41C2988-2D80-83DC-22C0-8EF57D41E2E4\n"
     ]
    }
   ],
   "source": [
    "rc.stop_pid()"
   ]
  },
  {
   "cell_type": "code",
   "execution_count": 348,
   "id": "b4eb6a1a-bdcc-4538-8394-13949fbae7f7",
   "metadata": {},
   "outputs": [],
   "source": [
    "rc.stunt()"
   ]
  },
  {
   "cell_type": "code",
   "execution_count": 11,
   "id": "1503dfd4-f893-4e92-8050-ee28a17b858a",
   "metadata": {},
   "outputs": [],
   "source": [
    "rc.stop_recording()"
   ]
  },
  {
   "cell_type": "code",
   "execution_count": 250,
   "id": "a68879d9-0f25-471b-8125-4d903ed8f071",
   "metadata": {},
   "outputs": [
    {
     "data": {
      "text/plain": [
       "3717.0"
      ]
     },
     "execution_count": 250,
     "metadata": {},
     "output_type": "execute_result"
    }
   ],
   "source": [
    "rc.latest_front_tof_reading"
   ]
  },
  {
   "cell_type": "code",
   "execution_count": 204,
   "id": "cafd02c1-5de8-4c03-91b3-33202470b78d",
   "metadata": {},
   "outputs": [],
   "source": [
    "# Start spinning!\n",
    "rc.spin_360(95)"
   ]
  },
  {
   "cell_type": "code",
   "execution_count": 178,
   "id": "19fb0127-5a77-4f45-bf40-34238afa3675",
   "metadata": {},
   "outputs": [],
   "source": [
    "# Make sure to call this after the spin motion stops. This terminates data collection.\n",
    "rc.stop_recording()"
   ]
  },
  {
   "cell_type": "code",
   "execution_count": 191,
   "id": "1431be31-9fcf-4bc7-9c86-2976223ef0f3",
   "metadata": {
    "jupyter": {
     "source_hidden": true
    },
    "tags": []
   },
   "outputs": [],
   "source": [
    "sr = deque([\n",
    "       (200, '10.0'),\n",
    "       (200, '10.0'),\n",
    "       (200, '10.1'),\n",
    "       (200, '10.1'),\n",
    "       (200, '10.2'),\n",
    "       (200, '10.3'),\n",
    "       (200, '10.3'),\n",
    "       (200, '10.4'),\n",
    "       (200, '10.4'),\n",
    "       (200, '10.5'),\n",
    "       (200, '10.6'),\n",
    "       (200, '10.7'),\n",
    "       (200, '10.8'),\n",
    "       (200, '10.9'),\n",
    "       (200, '11.0'),\n",
    "       (200, '11.0'),\n",
    "       (200, '11.1'),\n",
    "       (200, '11.1'),\n",
    "       (200, '11.2'),\n",
    "       (200, '11.3'),\n",
    "       (200, '11.3'),\n",
    "       (200, '11.4'),\n",
    "       (200, '11.4'),\n",
    "       (200, '11.5'),\n",
    "       (200, '11.6'),\n",
    "       (200, '11.7'),\n",
    "       (200, '11.8'),\n",
    "       (200, '11.9'),\n",
    "       (200, '12.0'),\n",
    "       (200, '12.0'),\n",
    "       (200, '12.1'),\n",
    "       (200, '12.1'),\n",
    "       (200, '12.2'),\n",
    "       (-200, '12.3'),\n",
    "       (-200, '12.3'),\n",
    "       (-200, '12.4'),\n",
    "       (-200, '12.4'),\n",
    "       (-200, '12.5'),\n",
    "       (-200, '12.6'),\n",
    "       (-200, '12.7'),\n",
    "       (-200, '12.8'),\n",
    "       (-200, '12.9'),\n",
    "       (-200, '13.0'),\n",
    "       (-200, '13.1'),\n",
    "       (-200, '13.1'),\n",
    "       (-200, '13.2'),\n",
    "       (-200, '13.3'),\n",
    "       (0, '13.3'),\n",
    "       (0, '13.4'),\n",
    "       (0, '13.4'),\n",
    "       (0, '13.5'),\n",
    "       (0, '13.6'),\n",
    "       (0, '13.7'),\n",
    "       (0, '13.7'),\n",
    "       (0, '13.8'),\n",
    "       (-200, '13.8'),\n",
    "       (-200, '13.8'),\n",
    "       (-200, '13.9'),\n",
    "       (-200, '13.9'),\n",
    "       (-200, '14.0'),\n",
    "       (-200, '14.1'),\n",
    "       (-200, '14.1'),\n",
    "       (-200, '14.2')])"
   ]
  },
  {
   "cell_type": "code",
   "execution_count": 20,
   "id": "d60da659-1f8d-4308-a93b-9b798dfd64f0",
   "metadata": {
    "tags": []
   },
   "outputs": [
    {
     "data": {
      "image/png": "[encoded data removed]",
      "text/plain": [
       "<Figure size 432x288 with 1 Axes>"
      ]
     },
     "metadata": {
      "needs_background": "light"
     },
     "output_type": "display_data"
    }
   ],
   "source": [
    "# speed_readings = np.array([(float(r[1]), r[0] * 1.275) for r in sr])\n",
    "speed_readings = np.array([(float(r[1]), r[0]) for r in rc.speed_readings])\n",
    "\n",
    "def plot_speed(ndarr):\n",
    "    cols = [\"time\", \"speed\"]\n",
    "    # df = pd.DataFrame(ndarr[:, [0, 2, 8]], columns=cols)\n",
    "    df = pd.DataFrame(ndarr[:, :], columns=cols)\n",
    "    df.plot(x=cols[0], y=cols[1:], marker=\"o\")\n",
    "    plt.savefig('pwm_values.png', bbox_inches='tight')\n",
    "    plt.show()\n",
    "    \n",
    "    return df\n",
    "\n",
    "pwm = plot_speed(speed_readings)\n",
    "\n",
    "# Collect & display the full sensor data\n",
    "# speed_cols = [\n",
    "#     \"time\", \"speed\"\n",
    "# ]\n",
    "# speed_data = pd.DataFrame(rc.speed_readings, columns=cols)"
   ]
  },
  {
   "cell_type": "code",
   "execution_count": 21,
   "id": "6efc2972-09f3-4007-a680-743df42eac1a",
   "metadata": {
    "tags": []
   },
   "outputs": [
    {
     "data": {
      "text/html": [
       "<div>\n",
       "<style scoped>\n",
       "    .dataframe tbody tr th:only-of-type {\n",
       "        vertical-align: middle;\n",
       "    }\n",
       "\n",
       "    .dataframe tbody tr th {\n",
       "        vertical-align: top;\n",
       "    }\n",
       "\n",
       "    .dataframe thead th {\n",
       "        text-align: right;\n",
       "    }\n",
       "</style>\n",
       "<table border=\"1\" class=\"dataframe\">\n",
       "  <thead>\n",
       "    <tr style=\"text-align: right;\">\n",
       "      <th></th>\n",
       "      <th>time</th>\n",
       "      <th>speed</th>\n",
       "    </tr>\n",
       "  </thead>\n",
       "  <tbody>\n",
       "    <tr>\n",
       "      <th>0</th>\n",
       "      <td>140.4</td>\n",
       "      <td>120.0</td>\n",
       "    </tr>\n",
       "    <tr>\n",
       "      <th>1</th>\n",
       "      <td>140.6</td>\n",
       "      <td>120.0</td>\n",
       "    </tr>\n",
       "    <tr>\n",
       "      <th>2</th>\n",
       "      <td>140.9</td>\n",
       "      <td>120.0</td>\n",
       "    </tr>\n",
       "    <tr>\n",
       "      <th>3</th>\n",
       "      <td>141.1</td>\n",
       "      <td>120.0</td>\n",
       "    </tr>\n",
       "    <tr>\n",
       "      <th>4</th>\n",
       "      <td>141.3</td>\n",
       "      <td>120.0</td>\n",
       "    </tr>\n",
       "    <tr>\n",
       "      <th>5</th>\n",
       "      <td>141.6</td>\n",
       "      <td>120.0</td>\n",
       "    </tr>\n",
       "    <tr>\n",
       "      <th>6</th>\n",
       "      <td>141.9</td>\n",
       "      <td>120.0</td>\n",
       "    </tr>\n",
       "    <tr>\n",
       "      <th>7</th>\n",
       "      <td>142.1</td>\n",
       "      <td>120.0</td>\n",
       "    </tr>\n",
       "    <tr>\n",
       "      <th>8</th>\n",
       "      <td>142.4</td>\n",
       "      <td>120.0</td>\n",
       "    </tr>\n",
       "    <tr>\n",
       "      <th>9</th>\n",
       "      <td>142.6</td>\n",
       "      <td>120.0</td>\n",
       "    </tr>\n",
       "    <tr>\n",
       "      <th>10</th>\n",
       "      <td>142.8</td>\n",
       "      <td>120.0</td>\n",
       "    </tr>\n",
       "    <tr>\n",
       "      <th>11</th>\n",
       "      <td>143.1</td>\n",
       "      <td>26298.0</td>\n",
       "    </tr>\n",
       "    <tr>\n",
       "      <th>12</th>\n",
       "      <td>143.1</td>\n",
       "      <td>0.0</td>\n",
       "    </tr>\n",
       "  </tbody>\n",
       "</table>\n",
       "</div>"
      ],
      "text/plain": [
       "     time    speed\n",
       "0   140.4    120.0\n",
       "1   140.6    120.0\n",
       "2   140.9    120.0\n",
       "3   141.1    120.0\n",
       "4   141.3    120.0\n",
       "5   141.6    120.0\n",
       "6   141.9    120.0\n",
       "7   142.1    120.0\n",
       "8   142.4    120.0\n",
       "9   142.6    120.0\n",
       "10  142.8    120.0\n",
       "11  143.1  26298.0\n",
       "12  143.1      0.0"
      ]
     },
     "execution_count": 21,
     "metadata": {},
     "output_type": "execute_result"
    }
   ],
   "source": [
    "pwm"
   ]
  },
  {
   "cell_type": "code",
   "execution_count": 22,
   "id": "6d9bc1ad-6c79-4c19-ad7b-6b9c1dcf3cd1",
   "metadata": {},
   "outputs": [],
   "source": [
    "# Collect & display the full sensor data\n",
    "cols = [\n",
    "    \"time\", \"dist_r\", \"dist_f\", \"acc_x\", \"acc_y\", \"acc_z\", \"gyr_x\",\n",
    "    \"gyr_y\", \"gyr_z\", \"mag_x\", \"mag_y\", \"mag_z\", \"temp\"\n",
    "]\n",
    "sensor_data = pd.DataFrame(rc.sensor_arr, columns=cols)"
   ]
  },
  {
   "cell_type": "code",
   "execution_count": 23,
   "id": "1a59d904-0d32-4060-8e19-0ba0021eb034",
   "metadata": {},
   "outputs": [
    {
     "data": {
      "text/html": [
       "<div>\n",
       "<style scoped>\n",
       "    .dataframe tbody tr th:only-of-type {\n",
       "        vertical-align: middle;\n",
       "    }\n",
       "\n",
       "    .dataframe tbody tr th {\n",
       "        vertical-align: top;\n",
       "    }\n",
       "\n",
       "    .dataframe thead th {\n",
       "        text-align: right;\n",
       "    }\n",
       "</style>\n",
       "<table border=\"1\" class=\"dataframe\">\n",
       "  <thead>\n",
       "    <tr style=\"text-align: right;\">\n",
       "      <th></th>\n",
       "      <th>time</th>\n",
       "      <th>dist_r</th>\n",
       "      <th>dist_f</th>\n",
       "      <th>acc_x</th>\n",
       "      <th>acc_y</th>\n",
       "      <th>acc_z</th>\n",
       "      <th>gyr_x</th>\n",
       "      <th>gyr_y</th>\n",
       "      <th>gyr_z</th>\n",
       "      <th>mag_x</th>\n",
       "      <th>mag_y</th>\n",
       "      <th>mag_z</th>\n",
       "      <th>temp</th>\n",
       "    </tr>\n",
       "  </thead>\n",
       "  <tbody>\n",
       "    <tr>\n",
       "      <th>0</th>\n",
       "      <td>140.039</td>\n",
       "      <td>1215.0</td>\n",
       "      <td>2847.0</td>\n",
       "      <td>-25.390</td>\n",
       "      <td>-48.828</td>\n",
       "      <td>1060.580</td>\n",
       "      <td>1.297</td>\n",
       "      <td>0.145</td>\n",
       "      <td>1.220</td>\n",
       "      <td>227.550</td>\n",
       "      <td>-1087.500</td>\n",
       "      <td>121.800</td>\n",
       "      <td>28.604</td>\n",
       "    </tr>\n",
       "    <tr>\n",
       "      <th>1</th>\n",
       "      <td>140.234</td>\n",
       "      <td>1217.0</td>\n",
       "      <td>2826.0</td>\n",
       "      <td>-41.992</td>\n",
       "      <td>-34.179</td>\n",
       "      <td>1049.316</td>\n",
       "      <td>-1.244</td>\n",
       "      <td>2.129</td>\n",
       "      <td>-1.190</td>\n",
       "      <td>228.000</td>\n",
       "      <td>-1088.250</td>\n",
       "      <td>121.500</td>\n",
       "      <td>28.365</td>\n",
       "    </tr>\n",
       "    <tr>\n",
       "      <th>2</th>\n",
       "      <td>140.474</td>\n",
       "      <td>1217.0</td>\n",
       "      <td>2842.0</td>\n",
       "      <td>-451.171</td>\n",
       "      <td>577.636</td>\n",
       "      <td>48.339</td>\n",
       "      <td>-10.778</td>\n",
       "      <td>-49.488</td>\n",
       "      <td>7.656</td>\n",
       "      <td>192.899</td>\n",
       "      <td>-1080.750</td>\n",
       "      <td>138.000</td>\n",
       "      <td>28.556</td>\n",
       "    </tr>\n",
       "    <tr>\n",
       "      <th>3</th>\n",
       "      <td>140.713</td>\n",
       "      <td>1221.0</td>\n",
       "      <td>2821.0</td>\n",
       "      <td>-541.503</td>\n",
       "      <td>477.539</td>\n",
       "      <td>456.540</td>\n",
       "      <td>-16.984</td>\n",
       "      <td>-38.220</td>\n",
       "      <td>-4.923</td>\n",
       "      <td>291.149</td>\n",
       "      <td>-1122.750</td>\n",
       "      <td>108.150</td>\n",
       "      <td>28.556</td>\n",
       "    </tr>\n",
       "    <tr>\n",
       "      <th>4</th>\n",
       "      <td>140.939</td>\n",
       "      <td>1271.0</td>\n",
       "      <td>2664.0</td>\n",
       "      <td>-923.828</td>\n",
       "      <td>-684.820</td>\n",
       "      <td>1808.105</td>\n",
       "      <td>49.969</td>\n",
       "      <td>-13.300</td>\n",
       "      <td>12.351</td>\n",
       "      <td>252.600</td>\n",
       "      <td>-1127.990</td>\n",
       "      <td>175.649</td>\n",
       "      <td>28.413</td>\n",
       "    </tr>\n",
       "    <tr>\n",
       "      <th>5</th>\n",
       "      <td>141.179</td>\n",
       "      <td>998.0</td>\n",
       "      <td>2371.0</td>\n",
       "      <td>429.199</td>\n",
       "      <td>169.433</td>\n",
       "      <td>-731.933</td>\n",
       "      <td>15.877</td>\n",
       "      <td>-71.923</td>\n",
       "      <td>3.984</td>\n",
       "      <td>186.149</td>\n",
       "      <td>-1116.750</td>\n",
       "      <td>181.949</td>\n",
       "      <td>28.604</td>\n",
       "    </tr>\n",
       "    <tr>\n",
       "      <th>6</th>\n",
       "      <td>141.420</td>\n",
       "      <td>934.0</td>\n",
       "      <td>1989.0</td>\n",
       "      <td>-1573.242</td>\n",
       "      <td>-1249.511</td>\n",
       "      <td>1999.938</td>\n",
       "      <td>-59.832</td>\n",
       "      <td>-16.801</td>\n",
       "      <td>-9.877</td>\n",
       "      <td>212.100</td>\n",
       "      <td>-1083.300</td>\n",
       "      <td>160.649</td>\n",
       "      <td>28.604</td>\n",
       "    </tr>\n",
       "    <tr>\n",
       "      <th>7</th>\n",
       "      <td>141.689</td>\n",
       "      <td>2041.0</td>\n",
       "      <td>1515.0</td>\n",
       "      <td>1192.382</td>\n",
       "      <td>260.253</td>\n",
       "      <td>-1095.703</td>\n",
       "      <td>-50.000</td>\n",
       "      <td>50.129</td>\n",
       "      <td>-5.793</td>\n",
       "      <td>204.750</td>\n",
       "      <td>-1087.500</td>\n",
       "      <td>187.800</td>\n",
       "      <td>28.508</td>\n",
       "    </tr>\n",
       "    <tr>\n",
       "      <th>8</th>\n",
       "      <td>141.929</td>\n",
       "      <td>1080.0</td>\n",
       "      <td>953.0</td>\n",
       "      <td>-1102.539</td>\n",
       "      <td>1999.938</td>\n",
       "      <td>-630.371</td>\n",
       "      <td>3.251</td>\n",
       "      <td>-25.412</td>\n",
       "      <td>-10.870</td>\n",
       "      <td>241.500</td>\n",
       "      <td>-1081.949</td>\n",
       "      <td>163.500</td>\n",
       "      <td>28.700</td>\n",
       "    </tr>\n",
       "    <tr>\n",
       "      <th>9</th>\n",
       "      <td>142.184</td>\n",
       "      <td>232.0</td>\n",
       "      <td>206.0</td>\n",
       "      <td>-612.304</td>\n",
       "      <td>-91.308</td>\n",
       "      <td>-120.605</td>\n",
       "      <td>-196.587</td>\n",
       "      <td>-250.137</td>\n",
       "      <td>-250.137</td>\n",
       "      <td>237.750</td>\n",
       "      <td>-1114.500</td>\n",
       "      <td>232.199</td>\n",
       "      <td>28.508</td>\n",
       "    </tr>\n",
       "    <tr>\n",
       "      <th>10</th>\n",
       "      <td>142.454</td>\n",
       "      <td>1558.0</td>\n",
       "      <td>1084.0</td>\n",
       "      <td>312.110</td>\n",
       "      <td>-504.394</td>\n",
       "      <td>343.750</td>\n",
       "      <td>-6.580</td>\n",
       "      <td>-12.160</td>\n",
       "      <td>-130.381</td>\n",
       "      <td>205.800</td>\n",
       "      <td>-1134.300</td>\n",
       "      <td>190.800</td>\n",
       "      <td>28.700</td>\n",
       "    </tr>\n",
       "    <tr>\n",
       "      <th>11</th>\n",
       "      <td>142.679</td>\n",
       "      <td>1603.0</td>\n",
       "      <td>2717.0</td>\n",
       "      <td>-691.894</td>\n",
       "      <td>250.000</td>\n",
       "      <td>996.582</td>\n",
       "      <td>-3.137</td>\n",
       "      <td>-27.679</td>\n",
       "      <td>1.297</td>\n",
       "      <td>264.299</td>\n",
       "      <td>-1156.800</td>\n",
       "      <td>209.550</td>\n",
       "      <td>28.413</td>\n",
       "    </tr>\n",
       "  </tbody>\n",
       "</table>\n",
       "</div>"
      ],
      "text/plain": [
       "       time  dist_r  dist_f     acc_x     acc_y     acc_z    gyr_x    gyr_y  \\\n",
       "0   140.039  1215.0  2847.0   -25.390   -48.828  1060.580    1.297    0.145   \n",
       "1   140.234  1217.0  2826.0   -41.992   -34.179  1049.316   -1.244    2.129   \n",
       "2   140.474  1217.0  2842.0  -451.171   577.636    48.339  -10.778  -49.488   \n",
       "3   140.713  1221.0  2821.0  -541.503   477.539   456.540  -16.984  -38.220   \n",
       "4   140.939  1271.0  2664.0  -923.828  -684.820  1808.105   49.969  -13.300   \n",
       "5   141.179   998.0  2371.0   429.199   169.433  -731.933   15.877  -71.923   \n",
       "6   141.420   934.0  1989.0 -1573.242 -1249.511  1999.938  -59.832  -16.801   \n",
       "7   141.689  2041.0  1515.0  1192.382   260.253 -1095.703  -50.000   50.129   \n",
       "8   141.929  1080.0   953.0 -1102.539  1999.938  -630.371    3.251  -25.412   \n",
       "9   142.184   232.0   206.0  -612.304   -91.308  -120.605 -196.587 -250.137   \n",
       "10  142.454  1558.0  1084.0   312.110  -504.394   343.750   -6.580  -12.160   \n",
       "11  142.679  1603.0  2717.0  -691.894   250.000   996.582   -3.137  -27.679   \n",
       "\n",
       "      gyr_z    mag_x     mag_y    mag_z    temp  \n",
       "0     1.220  227.550 -1087.500  121.800  28.604  \n",
       "1    -1.190  228.000 -1088.250  121.500  28.365  \n",
       "2     7.656  192.899 -1080.750  138.000  28.556  \n",
       "3    -4.923  291.149 -1122.750  108.150  28.556  \n",
       "4    12.351  252.600 -1127.990  175.649  28.413  \n",
       "5     3.984  186.149 -1116.750  181.949  28.604  \n",
       "6    -9.877  212.100 -1083.300  160.649  28.604  \n",
       "7    -5.793  204.750 -1087.500  187.800  28.508  \n",
       "8   -10.870  241.500 -1081.949  163.500  28.700  \n",
       "9  -250.137  237.750 -1114.500  232.199  28.508  \n",
       "10 -130.381  205.800 -1134.300  190.800  28.700  \n",
       "11    1.297  264.299 -1156.800  209.550  28.413  "
      ]
     },
     "execution_count": 23,
     "metadata": {},
     "output_type": "execute_result"
    }
   ],
   "source": [
    "sensor_data"
   ]
  },
  {
   "cell_type": "code",
   "execution_count": 47,
   "id": "8c8c3db8-9975-4f57-b4f9-ae801996f319",
   "metadata": {},
   "outputs": [
    {
     "data": {
      "image/png": "[encoded data removed]",
      "text/plain": [
       "<Figure size 432x288 with 1 Axes>"
      ]
     },
     "metadata": {
      "needs_background": "light"
     },
     "output_type": "display_data"
    }
   ],
   "source": [
    "# Currently, only configured to plot the \"gyr_z\" values\n",
    "# plot_sensor_data(rc.sensor_arr, save_path=\"front_tof_values.png\")\n",
    "dist_f = plot_sensor_data(rc.sensor_arr, \"dist_f4.png\")"
   ]
  },
  {
   "cell_type": "code",
   "execution_count": 48,
   "id": "627c64af-9922-45ab-b691-f76d3636f948",
   "metadata": {},
   "outputs": [
    {
     "data": {
      "text/html": [
       "<div>\n",
       "<style scoped>\n",
       "    .dataframe tbody tr th:only-of-type {\n",
       "        vertical-align: middle;\n",
       "    }\n",
       "\n",
       "    .dataframe tbody tr th {\n",
       "        vertical-align: top;\n",
       "    }\n",
       "\n",
       "    .dataframe thead th {\n",
       "        text-align: right;\n",
       "    }\n",
       "</style>\n",
       "<table border=\"1\" class=\"dataframe\">\n",
       "  <thead>\n",
       "    <tr style=\"text-align: right;\">\n",
       "      <th></th>\n",
       "      <th>time</th>\n",
       "      <th>dist_f</th>\n",
       "    </tr>\n",
       "  </thead>\n",
       "  <tbody>\n",
       "    <tr>\n",
       "      <th>0</th>\n",
       "      <td>140.039</td>\n",
       "      <td>2847.0</td>\n",
       "    </tr>\n",
       "    <tr>\n",
       "      <th>1</th>\n",
       "      <td>140.234</td>\n",
       "      <td>2826.0</td>\n",
       "    </tr>\n",
       "    <tr>\n",
       "      <th>2</th>\n",
       "      <td>140.474</td>\n",
       "      <td>2842.0</td>\n",
       "    </tr>\n",
       "    <tr>\n",
       "      <th>3</th>\n",
       "      <td>140.713</td>\n",
       "      <td>2821.0</td>\n",
       "    </tr>\n",
       "    <tr>\n",
       "      <th>4</th>\n",
       "      <td>140.939</td>\n",
       "      <td>2664.0</td>\n",
       "    </tr>\n",
       "    <tr>\n",
       "      <th>5</th>\n",
       "      <td>141.179</td>\n",
       "      <td>2371.0</td>\n",
       "    </tr>\n",
       "    <tr>\n",
       "      <th>6</th>\n",
       "      <td>141.420</td>\n",
       "      <td>1989.0</td>\n",
       "    </tr>\n",
       "    <tr>\n",
       "      <th>7</th>\n",
       "      <td>141.689</td>\n",
       "      <td>1515.0</td>\n",
       "    </tr>\n",
       "    <tr>\n",
       "      <th>8</th>\n",
       "      <td>141.929</td>\n",
       "      <td>953.0</td>\n",
       "    </tr>\n",
       "    <tr>\n",
       "      <th>9</th>\n",
       "      <td>142.184</td>\n",
       "      <td>206.0</td>\n",
       "    </tr>\n",
       "    <tr>\n",
       "      <th>10</th>\n",
       "      <td>142.454</td>\n",
       "      <td>1084.0</td>\n",
       "    </tr>\n",
       "    <tr>\n",
       "      <th>11</th>\n",
       "      <td>142.679</td>\n",
       "      <td>2717.0</td>\n",
       "    </tr>\n",
       "  </tbody>\n",
       "</table>\n",
       "</div>"
      ],
      "text/plain": [
       "       time  dist_f\n",
       "0   140.039  2847.0\n",
       "1   140.234  2826.0\n",
       "2   140.474  2842.0\n",
       "3   140.713  2821.0\n",
       "4   140.939  2664.0\n",
       "5   141.179  2371.0\n",
       "6   141.420  1989.0\n",
       "7   141.689  1515.0\n",
       "8   141.929   953.0\n",
       "9   142.184   206.0\n",
       "10  142.454  1084.0\n",
       "11  142.679  2717.0"
      ]
     },
     "execution_count": 48,
     "metadata": {},
     "output_type": "execute_result"
    }
   ],
   "source": [
    "dist_f"
   ]
  },
  {
   "cell_type": "code",
   "execution_count": 49,
   "id": "25b4d669-4af5-4476-bcc1-a12945270dc8",
   "metadata": {},
   "outputs": [
    {
     "data": {
      "image/png": "[encoded data removed]",
      "text/plain": [
       "<Figure size 432x288 with 1 Axes>"
      ]
     },
     "metadata": {
      "needs_background": "light"
     },
     "output_type": "display_data"
    }
   ],
   "source": [
    "plot_df(dist_f)"
   ]
  },
  {
   "cell_type": "code",
   "execution_count": 50,
   "id": "551bf3b2-275d-404f-8eb6-1bca13741271",
   "metadata": {},
   "outputs": [],
   "source": [
    "vel_f = convert_dist_to_vel(dist_f)"
   ]
  },
  {
   "cell_type": "code",
   "execution_count": 51,
   "id": "2a7c3f5c-6604-4bee-bb4c-0dee540f0e9f",
   "metadata": {},
   "outputs": [
    {
     "data": {
      "text/html": [
       "<div>\n",
       "<style scoped>\n",
       "    .dataframe tbody tr th:only-of-type {\n",
       "        vertical-align: middle;\n",
       "    }\n",
       "\n",
       "    .dataframe tbody tr th {\n",
       "        vertical-align: top;\n",
       "    }\n",
       "\n",
       "    .dataframe thead th {\n",
       "        text-align: right;\n",
       "    }\n",
       "</style>\n",
       "<table border=\"1\" class=\"dataframe\">\n",
       "  <thead>\n",
       "    <tr style=\"text-align: right;\">\n",
       "      <th></th>\n",
       "      <th>time</th>\n",
       "      <th>dist_f</th>\n",
       "      <th>vel_f</th>\n",
       "    </tr>\n",
       "  </thead>\n",
       "  <tbody>\n",
       "    <tr>\n",
       "      <th>0</th>\n",
       "      <td>140.039</td>\n",
       "      <td>2847.0</td>\n",
       "      <td>NaN</td>\n",
       "    </tr>\n",
       "    <tr>\n",
       "      <th>1</th>\n",
       "      <td>140.234</td>\n",
       "      <td>2826.0</td>\n",
       "      <td>-107.692308</td>\n",
       "    </tr>\n",
       "    <tr>\n",
       "      <th>2</th>\n",
       "      <td>140.474</td>\n",
       "      <td>2842.0</td>\n",
       "      <td>66.666667</td>\n",
       "    </tr>\n",
       "    <tr>\n",
       "      <th>3</th>\n",
       "      <td>140.713</td>\n",
       "      <td>2821.0</td>\n",
       "      <td>-87.866109</td>\n",
       "    </tr>\n",
       "    <tr>\n",
       "      <th>4</th>\n",
       "      <td>140.939</td>\n",
       "      <td>2664.0</td>\n",
       "      <td>-694.690265</td>\n",
       "    </tr>\n",
       "    <tr>\n",
       "      <th>5</th>\n",
       "      <td>141.179</td>\n",
       "      <td>2371.0</td>\n",
       "      <td>-1220.833333</td>\n",
       "    </tr>\n",
       "    <tr>\n",
       "      <th>6</th>\n",
       "      <td>141.420</td>\n",
       "      <td>1989.0</td>\n",
       "      <td>-1585.062241</td>\n",
       "    </tr>\n",
       "    <tr>\n",
       "      <th>7</th>\n",
       "      <td>141.689</td>\n",
       "      <td>1515.0</td>\n",
       "      <td>-1762.081784</td>\n",
       "    </tr>\n",
       "    <tr>\n",
       "      <th>8</th>\n",
       "      <td>141.929</td>\n",
       "      <td>953.0</td>\n",
       "      <td>-2341.666667</td>\n",
       "    </tr>\n",
       "    <tr>\n",
       "      <th>9</th>\n",
       "      <td>142.184</td>\n",
       "      <td>206.0</td>\n",
       "      <td>-2929.411765</td>\n",
       "    </tr>\n",
       "    <tr>\n",
       "      <th>10</th>\n",
       "      <td>142.454</td>\n",
       "      <td>1084.0</td>\n",
       "      <td>3251.851852</td>\n",
       "    </tr>\n",
       "    <tr>\n",
       "      <th>11</th>\n",
       "      <td>142.679</td>\n",
       "      <td>2717.0</td>\n",
       "      <td>7257.777778</td>\n",
       "    </tr>\n",
       "  </tbody>\n",
       "</table>\n",
       "</div>"
      ],
      "text/plain": [
       "       time  dist_f        vel_f\n",
       "0   140.039  2847.0          NaN\n",
       "1   140.234  2826.0  -107.692308\n",
       "2   140.474  2842.0    66.666667\n",
       "3   140.713  2821.0   -87.866109\n",
       "4   140.939  2664.0  -694.690265\n",
       "5   141.179  2371.0 -1220.833333\n",
       "6   141.420  1989.0 -1585.062241\n",
       "7   141.689  1515.0 -1762.081784\n",
       "8   141.929   953.0 -2341.666667\n",
       "9   142.184   206.0 -2929.411765\n",
       "10  142.454  1084.0  3251.851852\n",
       "11  142.679  2717.0  7257.777778"
      ]
     },
     "execution_count": 51,
     "metadata": {},
     "output_type": "execute_result"
    }
   ],
   "source": [
    "vel_f"
   ]
  },
  {
   "cell_type": "code",
   "execution_count": 52,
   "id": "11549520-7653-48bd-a98a-33374f35683e",
   "metadata": {},
   "outputs": [
    {
     "data": {
      "image/png": "[encoded data removed]",
      "text/plain": [
       "<Figure size 432x288 with 1 Axes>"
      ]
     },
     "metadata": {
      "needs_background": "light"
     },
     "output_type": "display_data"
    }
   ],
   "source": [
    "plot_df(vel_f, \"vel_f4.png\")"
   ]
  },
  {
   "cell_type": "code",
   "execution_count": 53,
   "id": "e4736862-c10f-4a99-9a59-87ceead3ae30",
   "metadata": {},
   "outputs": [
    {
     "data": {
      "text/html": [
       "<div>\n",
       "<style scoped>\n",
       "    .dataframe tbody tr th:only-of-type {\n",
       "        vertical-align: middle;\n",
       "    }\n",
       "\n",
       "    .dataframe tbody tr th {\n",
       "        vertical-align: top;\n",
       "    }\n",
       "\n",
       "    .dataframe thead th {\n",
       "        text-align: right;\n",
       "    }\n",
       "</style>\n",
       "<table border=\"1\" class=\"dataframe\">\n",
       "  <thead>\n",
       "    <tr style=\"text-align: right;\">\n",
       "      <th></th>\n",
       "      <th>time</th>\n",
       "      <th>speed</th>\n",
       "    </tr>\n",
       "  </thead>\n",
       "  <tbody>\n",
       "    <tr>\n",
       "      <th>0</th>\n",
       "      <td>140.4</td>\n",
       "      <td>120.0</td>\n",
       "    </tr>\n",
       "    <tr>\n",
       "      <th>1</th>\n",
       "      <td>140.6</td>\n",
       "      <td>120.0</td>\n",
       "    </tr>\n",
       "    <tr>\n",
       "      <th>2</th>\n",
       "      <td>140.9</td>\n",
       "      <td>120.0</td>\n",
       "    </tr>\n",
       "    <tr>\n",
       "      <th>3</th>\n",
       "      <td>141.1</td>\n",
       "      <td>120.0</td>\n",
       "    </tr>\n",
       "    <tr>\n",
       "      <th>4</th>\n",
       "      <td>141.3</td>\n",
       "      <td>120.0</td>\n",
       "    </tr>\n",
       "    <tr>\n",
       "      <th>5</th>\n",
       "      <td>141.6</td>\n",
       "      <td>120.0</td>\n",
       "    </tr>\n",
       "    <tr>\n",
       "      <th>6</th>\n",
       "      <td>141.9</td>\n",
       "      <td>120.0</td>\n",
       "    </tr>\n",
       "    <tr>\n",
       "      <th>7</th>\n",
       "      <td>142.1</td>\n",
       "      <td>120.0</td>\n",
       "    </tr>\n",
       "    <tr>\n",
       "      <th>8</th>\n",
       "      <td>142.4</td>\n",
       "      <td>120.0</td>\n",
       "    </tr>\n",
       "    <tr>\n",
       "      <th>9</th>\n",
       "      <td>142.6</td>\n",
       "      <td>120.0</td>\n",
       "    </tr>\n",
       "    <tr>\n",
       "      <th>10</th>\n",
       "      <td>142.8</td>\n",
       "      <td>120.0</td>\n",
       "    </tr>\n",
       "    <tr>\n",
       "      <th>11</th>\n",
       "      <td>143.1</td>\n",
       "      <td>26298.0</td>\n",
       "    </tr>\n",
       "    <tr>\n",
       "      <th>12</th>\n",
       "      <td>143.1</td>\n",
       "      <td>0.0</td>\n",
       "    </tr>\n",
       "  </tbody>\n",
       "</table>\n",
       "</div>"
      ],
      "text/plain": [
       "     time    speed\n",
       "0   140.4    120.0\n",
       "1   140.6    120.0\n",
       "2   140.9    120.0\n",
       "3   141.1    120.0\n",
       "4   141.3    120.0\n",
       "5   141.6    120.0\n",
       "6   141.9    120.0\n",
       "7   142.1    120.0\n",
       "8   142.4    120.0\n",
       "9   142.6    120.0\n",
       "10  142.8    120.0\n",
       "11  143.1  26298.0\n",
       "12  143.1      0.0"
      ]
     },
     "execution_count": 53,
     "metadata": {},
     "output_type": "execute_result"
    }
   ],
   "source": [
    "pwm"
   ]
  },
  {
   "cell_type": "code",
   "execution_count": 54,
   "id": "6dda0f9d-b649-422e-944f-4c79b5b27922",
   "metadata": {},
   "outputs": [
    {
     "data": {
      "image/png": "[encoded data removed]",
      "text/plain": [
       "<Figure size 432x288 with 1 Axes>"
      ]
     },
     "metadata": {
      "needs_background": "light"
     },
     "output_type": "display_data"
    }
   ],
   "source": [
    "plot_df(pwm, \"pwm4.png\")"
   ]
  },
  {
   "cell_type": "code",
   "execution_count": 56,
   "id": "11dcbd80-5f35-4c6a-b259-695903859a3a",
   "metadata": {},
   "outputs": [],
   "source": [
    "new_pwm = dist_f.copy()\n",
    "new_pwm[\"pwm\"] = new_pwm.apply(lambda row: 120.0 if row[\"time\"] < 143.1 else 0.0, axis=1)\n",
    "new_pwm.drop(columns=[\"dist_f\", \"vel_f\"], inplace=True)"
   ]
  },
  {
   "cell_type": "code",
   "execution_count": 57,
   "id": "be05252f-a943-4942-af90-4c2b1fe2d1be",
   "metadata": {},
   "outputs": [
    {
     "data": {
      "text/html": [
       "<div>\n",
       "<style scoped>\n",
       "    .dataframe tbody tr th:only-of-type {\n",
       "        vertical-align: middle;\n",
       "    }\n",
       "\n",
       "    .dataframe tbody tr th {\n",
       "        vertical-align: top;\n",
       "    }\n",
       "\n",
       "    .dataframe thead th {\n",
       "        text-align: right;\n",
       "    }\n",
       "</style>\n",
       "<table border=\"1\" class=\"dataframe\">\n",
       "  <thead>\n",
       "    <tr style=\"text-align: right;\">\n",
       "      <th></th>\n",
       "      <th>time</th>\n",
       "      <th>pwm</th>\n",
       "    </tr>\n",
       "  </thead>\n",
       "  <tbody>\n",
       "    <tr>\n",
       "      <th>0</th>\n",
       "      <td>140.039</td>\n",
       "      <td>120.0</td>\n",
       "    </tr>\n",
       "    <tr>\n",
       "      <th>1</th>\n",
       "      <td>140.234</td>\n",
       "      <td>120.0</td>\n",
       "    </tr>\n",
       "    <tr>\n",
       "      <th>2</th>\n",
       "      <td>140.474</td>\n",
       "      <td>120.0</td>\n",
       "    </tr>\n",
       "    <tr>\n",
       "      <th>3</th>\n",
       "      <td>140.713</td>\n",
       "      <td>120.0</td>\n",
       "    </tr>\n",
       "    <tr>\n",
       "      <th>4</th>\n",
       "      <td>140.939</td>\n",
       "      <td>120.0</td>\n",
       "    </tr>\n",
       "    <tr>\n",
       "      <th>5</th>\n",
       "      <td>141.179</td>\n",
       "      <td>120.0</td>\n",
       "    </tr>\n",
       "    <tr>\n",
       "      <th>6</th>\n",
       "      <td>141.420</td>\n",
       "      <td>120.0</td>\n",
       "    </tr>\n",
       "    <tr>\n",
       "      <th>7</th>\n",
       "      <td>141.689</td>\n",
       "      <td>120.0</td>\n",
       "    </tr>\n",
       "    <tr>\n",
       "      <th>8</th>\n",
       "      <td>141.929</td>\n",
       "      <td>120.0</td>\n",
       "    </tr>\n",
       "    <tr>\n",
       "      <th>9</th>\n",
       "      <td>142.184</td>\n",
       "      <td>120.0</td>\n",
       "    </tr>\n",
       "    <tr>\n",
       "      <th>10</th>\n",
       "      <td>142.454</td>\n",
       "      <td>120.0</td>\n",
       "    </tr>\n",
       "    <tr>\n",
       "      <th>11</th>\n",
       "      <td>142.679</td>\n",
       "      <td>120.0</td>\n",
       "    </tr>\n",
       "  </tbody>\n",
       "</table>\n",
       "</div>"
      ],
      "text/plain": [
       "       time    pwm\n",
       "0   140.039  120.0\n",
       "1   140.234  120.0\n",
       "2   140.474  120.0\n",
       "3   140.713  120.0\n",
       "4   140.939  120.0\n",
       "5   141.179  120.0\n",
       "6   141.420  120.0\n",
       "7   141.689  120.0\n",
       "8   141.929  120.0\n",
       "9   142.184  120.0\n",
       "10  142.454  120.0\n",
       "11  142.679  120.0"
      ]
     },
     "execution_count": 57,
     "metadata": {},
     "output_type": "execute_result"
    }
   ],
   "source": [
    "new_pwm"
   ]
  },
  {
   "cell_type": "code",
   "execution_count": 58,
   "id": "9e93a3a8-2583-4e8e-b335-5debbb9b9a4c",
   "metadata": {},
   "outputs": [
    {
     "data": {
      "image/png": "[encoded data removed]",
      "text/plain": [
       "<Figure size 432x288 with 1 Axes>"
      ]
     },
     "metadata": {
      "needs_background": "light"
     },
     "output_type": "display_data"
    }
   ],
   "source": [
    "plot_df(new_pwm, \"pwm4.png\")"
   ]
  },
  {
   "cell_type": "code",
   "execution_count": 59,
   "id": "5de4fe28-e5f7-4ce2-9a9a-6a7ad5e845b3",
   "metadata": {},
   "outputs": [],
   "source": [
    "gyr_z = pd.DataFrame(rc.sensor_arr[:, [0, 8]], columns=[\"time\", \"gyr_z\"])"
   ]
  },
  {
   "cell_type": "code",
   "execution_count": 60,
   "id": "ecb9ec0a-8a0d-433c-b07e-08c5615695cb",
   "metadata": {},
   "outputs": [
    {
     "data": {
      "text/html": [
       "<div>\n",
       "<style scoped>\n",
       "    .dataframe tbody tr th:only-of-type {\n",
       "        vertical-align: middle;\n",
       "    }\n",
       "\n",
       "    .dataframe tbody tr th {\n",
       "        vertical-align: top;\n",
       "    }\n",
       "\n",
       "    .dataframe thead th {\n",
       "        text-align: right;\n",
       "    }\n",
       "</style>\n",
       "<table border=\"1\" class=\"dataframe\">\n",
       "  <thead>\n",
       "    <tr style=\"text-align: right;\">\n",
       "      <th></th>\n",
       "      <th>time</th>\n",
       "      <th>gyr_z</th>\n",
       "    </tr>\n",
       "  </thead>\n",
       "  <tbody>\n",
       "    <tr>\n",
       "      <th>0</th>\n",
       "      <td>140.039</td>\n",
       "      <td>1.220</td>\n",
       "    </tr>\n",
       "    <tr>\n",
       "      <th>1</th>\n",
       "      <td>140.234</td>\n",
       "      <td>-1.190</td>\n",
       "    </tr>\n",
       "    <tr>\n",
       "      <th>2</th>\n",
       "      <td>140.474</td>\n",
       "      <td>7.656</td>\n",
       "    </tr>\n",
       "    <tr>\n",
       "      <th>3</th>\n",
       "      <td>140.713</td>\n",
       "      <td>-4.923</td>\n",
       "    </tr>\n",
       "    <tr>\n",
       "      <th>4</th>\n",
       "      <td>140.939</td>\n",
       "      <td>12.351</td>\n",
       "    </tr>\n",
       "    <tr>\n",
       "      <th>5</th>\n",
       "      <td>141.179</td>\n",
       "      <td>3.984</td>\n",
       "    </tr>\n",
       "    <tr>\n",
       "      <th>6</th>\n",
       "      <td>141.420</td>\n",
       "      <td>-9.877</td>\n",
       "    </tr>\n",
       "    <tr>\n",
       "      <th>7</th>\n",
       "      <td>141.689</td>\n",
       "      <td>-5.793</td>\n",
       "    </tr>\n",
       "    <tr>\n",
       "      <th>8</th>\n",
       "      <td>141.929</td>\n",
       "      <td>-10.870</td>\n",
       "    </tr>\n",
       "    <tr>\n",
       "      <th>9</th>\n",
       "      <td>142.184</td>\n",
       "      <td>-250.137</td>\n",
       "    </tr>\n",
       "    <tr>\n",
       "      <th>10</th>\n",
       "      <td>142.454</td>\n",
       "      <td>-130.381</td>\n",
       "    </tr>\n",
       "    <tr>\n",
       "      <th>11</th>\n",
       "      <td>142.679</td>\n",
       "      <td>1.297</td>\n",
       "    </tr>\n",
       "  </tbody>\n",
       "</table>\n",
       "</div>"
      ],
      "text/plain": [
       "       time    gyr_z\n",
       "0   140.039    1.220\n",
       "1   140.234   -1.190\n",
       "2   140.474    7.656\n",
       "3   140.713   -4.923\n",
       "4   140.939   12.351\n",
       "5   141.179    3.984\n",
       "6   141.420   -9.877\n",
       "7   141.689   -5.793\n",
       "8   141.929  -10.870\n",
       "9   142.184 -250.137\n",
       "10  142.454 -130.381\n",
       "11  142.679    1.297"
      ]
     },
     "execution_count": 60,
     "metadata": {},
     "output_type": "execute_result"
    }
   ],
   "source": [
    "gyr_z"
   ]
  },
  {
   "cell_type": "code",
   "execution_count": 61,
   "id": "a91b8239-1cbc-4bda-8e96-dc705a6318f8",
   "metadata": {},
   "outputs": [
    {
     "data": {
      "image/png": "[encoded data removed]",
      "text/plain": [
       "<Figure size 432x288 with 1 Axes>"
      ]
     },
     "metadata": {
      "needs_background": "light"
     },
     "output_type": "display_data"
    }
   ],
   "source": [
    "plot_df(gyr_z)"
   ]
  },
  {
   "cell_type": "code",
   "execution_count": 62,
   "id": "f555f145-fce0-4367-ac5f-465113bc4700",
   "metadata": {},
   "outputs": [
    {
     "data": {
      "text/plain": [
       "0.24000000000000135"
      ]
     },
     "execution_count": 62,
     "metadata": {},
     "output_type": "execute_result"
    }
   ],
   "source": [
    "dist_f[\"time\"].diff().mean()"
   ]
  },
  {
   "cell_type": "code",
   "execution_count": 73,
   "id": "11c539a5-8d8e-4457-afe5-ba6e8fd12ffb",
   "metadata": {},
   "outputs": [],
   "source": [
    "# Initial state uncertainty \n",
    "sig = np.array([[5**2,0],[0,5**2]])\n",
    "\n",
    "d = 4e-4   # drag\n",
    "m = 2.61e-4 # mass\n",
    "\n",
    "# A, B, C matrices\n",
    "A = np.array([[0,1],[0,-d/m]])\n",
    "B = np.array([[0],[1/m]])\n",
    "C = np.array([[-1,0]])\n",
    "\n",
    "# Process and sensor noise\n",
    "sig_u = np.array([[10**2,0],[0,10**2]])\n",
    "sig_z = np.array([[20**2]])\n",
    "\n",
    "# Discretize A and B\n",
    "delta_t = dist_f[\"time\"].diff().mean()\n",
    "Ad = np.eye(2) + delta_t * A\n",
    "Bd = delta_t * B\n",
    "\n",
    "# Initial state\n",
    "x = np.array([[-dist_f[\"dist_f\"][0]],[0]])\n",
    "\n",
    "# KF estimation\n",
    "def kf(x,u,sig,y):\n",
    "    \n",
    "    x_p = Ad.dot(x) + Bd.dot(u)                      # predicted state\n",
    "    sig_p = Ad.dot(sig.dot(Ad.transpose())) + sig_u  # predicted state uncertainty\n",
    "    \n",
    "    y_m = y-C.dot(x_p)\n",
    "    sig_m = C.dot(sig_p.dot(C.transpose())) + sig_z\n",
    "    \n",
    "    kf_gain = sig_p.dot(C.transpose().dot(np.linalg.inv(sig_m)))  # KF gain\n",
    "\n",
    "    x_n   = x_p + kf_gain.dot(y_m)                   # new state \n",
    "    sig_n = (np.eye(2) - kf_gain.dot(C)).dot(sig_p)  # new state uncertainty\n",
    "\n",
    "    return x_n, sig_n"
   ]
  },
  {
   "cell_type": "code",
   "execution_count": 74,
   "id": "4ba6ed44-d327-47cb-add5-b7f689dbf822",
   "metadata": {},
   "outputs": [],
   "source": [
    "# Run code\n",
    "kf_state = []\n",
    "for u, d in zip(new_pwm[\"pwm\"], dist_f[\"dist_f\"]):\n",
    "    x, sig = kf(x, [[u/80]], sig, [[d]])\n",
    "    kf_state.append(x[:,0])"
   ]
  },
  {
   "cell_type": "code",
   "execution_count": 91,
   "id": "1ea5e89c-73c1-4565-9540-654551354448",
   "metadata": {},
   "outputs": [],
   "source": [
    "kf_df = dist_f.copy()\n",
    "kf_df.drop(columns=[\"dist_f\", \"vel_f\"], inplace=True)\n",
    "temp_kf_df = pd.DataFrame(kf_state, columns=[\"new_dist_f\", \"new_vel_f\"])\n",
    "kf_df = pd.concat((dist_f, temp_kf_df), axis=1)"
   ]
  },
  {
   "cell_type": "code",
   "execution_count": 92,
   "id": "43f2dd69-2366-4fb6-9aa4-b25bb76042c9",
   "metadata": {},
   "outputs": [
    {
     "data": {
      "text/html": [
       "<div>\n",
       "<style scoped>\n",
       "    .dataframe tbody tr th:only-of-type {\n",
       "        vertical-align: middle;\n",
       "    }\n",
       "\n",
       "    .dataframe tbody tr th {\n",
       "        vertical-align: top;\n",
       "    }\n",
       "\n",
       "    .dataframe thead th {\n",
       "        text-align: right;\n",
       "    }\n",
       "</style>\n",
       "<table border=\"1\" class=\"dataframe\">\n",
       "  <thead>\n",
       "    <tr style=\"text-align: right;\">\n",
       "      <th></th>\n",
       "      <th>time</th>\n",
       "      <th>dist_f</th>\n",
       "      <th>vel_f</th>\n",
       "      <th>new_dist_f</th>\n",
       "      <th>new_vel_f</th>\n",
       "    </tr>\n",
       "  </thead>\n",
       "  <tbody>\n",
       "    <tr>\n",
       "      <th>0</th>\n",
       "      <td>140.039</td>\n",
       "      <td>2847.0</td>\n",
       "      <td>NaN</td>\n",
       "      <td>-2847.000000</td>\n",
       "      <td>1379.310345</td>\n",
       "    </tr>\n",
       "    <tr>\n",
       "      <th>1</th>\n",
       "      <td>140.234</td>\n",
       "      <td>2826.0</td>\n",
       "      <td>-107.692308</td>\n",
       "      <td>-2620.607418</td>\n",
       "      <td>2241.785554</td>\n",
       "    </tr>\n",
       "    <tr>\n",
       "      <th>2</th>\n",
       "      <td>140.474</td>\n",
       "      <td>2842.0</td>\n",
       "      <td>66.666667</td>\n",
       "      <td>-2374.052242</td>\n",
       "      <td>2762.014206</td>\n",
       "    </tr>\n",
       "    <tr>\n",
       "      <th>3</th>\n",
       "      <td>140.713</td>\n",
       "      <td>2821.0</td>\n",
       "      <td>-87.866109</td>\n",
       "      <td>-2159.632408</td>\n",
       "      <td>3067.282528</td>\n",
       "    </tr>\n",
       "    <tr>\n",
       "      <th>4</th>\n",
       "      <td>140.939</td>\n",
       "      <td>2664.0</td>\n",
       "      <td>-694.690265</td>\n",
       "      <td>-1935.285464</td>\n",
       "      <td>3249.907415</td>\n",
       "    </tr>\n",
       "    <tr>\n",
       "      <th>5</th>\n",
       "      <td>141.179</td>\n",
       "      <td>2371.0</td>\n",
       "      <td>-1220.833333</td>\n",
       "      <td>-1661.069208</td>\n",
       "      <td>3365.429052</td>\n",
       "    </tr>\n",
       "    <tr>\n",
       "      <th>6</th>\n",
       "      <td>141.420</td>\n",
       "      <td>1989.0</td>\n",
       "      <td>-1585.062241</td>\n",
       "      <td>-1327.384958</td>\n",
       "      <td>3442.534318</td>\n",
       "    </tr>\n",
       "    <tr>\n",
       "      <th>7</th>\n",
       "      <td>141.689</td>\n",
       "      <td>1515.0</td>\n",
       "      <td>-1762.081784</td>\n",
       "      <td>-924.896167</td>\n",
       "      <td>3498.052037</td>\n",
       "    </tr>\n",
       "    <tr>\n",
       "      <th>8</th>\n",
       "      <td>141.929</td>\n",
       "      <td>953.0</td>\n",
       "      <td>-2341.666667</td>\n",
       "      <td>-448.163853</td>\n",
       "      <td>3541.416513</td>\n",
       "    </tr>\n",
       "    <tr>\n",
       "      <th>9</th>\n",
       "      <td>142.184</td>\n",
       "      <td>206.0</td>\n",
       "      <td>-2929.411765</td>\n",
       "      <td>147.589059</td>\n",
       "      <td>3583.591150</td>\n",
       "    </tr>\n",
       "    <tr>\n",
       "      <th>10</th>\n",
       "      <td>142.454</td>\n",
       "      <td>1084.0</td>\n",
       "      <td>3251.851852</td>\n",
       "      <td>132.811438</td>\n",
       "      <td>3525.904242</td>\n",
       "    </tr>\n",
       "    <tr>\n",
       "      <th>11</th>\n",
       "      <td>142.679</td>\n",
       "      <td>2717.0</td>\n",
       "      <td>7257.777778</td>\n",
       "      <td>-566.884527</td>\n",
       "      <td>3398.236288</td>\n",
       "    </tr>\n",
       "  </tbody>\n",
       "</table>\n",
       "</div>"
      ],
      "text/plain": [
       "       time  dist_f        vel_f   new_dist_f    new_vel_f\n",
       "0   140.039  2847.0          NaN -2847.000000  1379.310345\n",
       "1   140.234  2826.0  -107.692308 -2620.607418  2241.785554\n",
       "2   140.474  2842.0    66.666667 -2374.052242  2762.014206\n",
       "3   140.713  2821.0   -87.866109 -2159.632408  3067.282528\n",
       "4   140.939  2664.0  -694.690265 -1935.285464  3249.907415\n",
       "5   141.179  2371.0 -1220.833333 -1661.069208  3365.429052\n",
       "6   141.420  1989.0 -1585.062241 -1327.384958  3442.534318\n",
       "7   141.689  1515.0 -1762.081784  -924.896167  3498.052037\n",
       "8   141.929   953.0 -2341.666667  -448.163853  3541.416513\n",
       "9   142.184   206.0 -2929.411765   147.589059  3583.591150\n",
       "10  142.454  1084.0  3251.851852   132.811438  3525.904242\n",
       "11  142.679  2717.0  7257.777778  -566.884527  3398.236288"
      ]
     },
     "execution_count": 92,
     "metadata": {},
     "output_type": "execute_result"
    }
   ],
   "source": [
    "kf_df"
   ]
  },
  {
   "cell_type": "code",
   "execution_count": 95,
   "id": "8b3a7466-8c1e-46b6-b909-291ab57721b3",
   "metadata": {},
   "outputs": [
    {
     "data": {
      "image/png": "[encoded data removed]",
      "text/plain": [
       "<Figure size 432x288 with 1 Axes>"
      ]
     },
     "metadata": {
      "needs_background": "light"
     },
     "output_type": "display_data"
    }
   ],
   "source": [
    "kf_df[\"new_dist_f\"] *= -1\n",
    "kf_df[\"new_vel_f\"] *= -1\n",
    "plot_df(kf_df, \"kf4.png\")"
   ]
  },
  {
   "cell_type": "code",
   "execution_count": 77,
   "id": "75a9bc12-d60c-47cf-9b93-b55aefea273f",
   "metadata": {},
   "outputs": [],
   "source": [
    "kf_df.drop(columns=[\"time\"], inplace=True)\n",
    "new_kf_df = pd.concat((dist_f, kf_df), axis=1)\n",
    "new_kf_df[\"new_dist_f\"] *= -1"
   ]
  },
  {
   "cell_type": "code",
   "execution_count": 78,
   "id": "a289a8d0-ea6a-4d95-8161-d28585cebced",
   "metadata": {},
   "outputs": [],
   "source": [
    "# Optional to combine orig vel data\n",
    "new_kf_df.drop(columns=[\"time\"], inplace=True)\n",
    "new_kf_df = pd.concat((vel_f, new_kf_df), axis=1)\n",
    "new_kf_df[\"vel_f\"] *= -1"
   ]
  },
  {
   "cell_type": "code",
   "execution_count": 79,
   "id": "140d3b43-f646-4226-8917-1cdeb3c7f5c0",
   "metadata": {},
   "outputs": [
    {
     "data": {
      "image/png": "[encoded data removed]",
      "text/plain": [
       "<Figure size 432x288 with 1 Axes>"
      ]
     },
     "metadata": {
      "needs_background": "light"
     },
     "output_type": "display_data"
    }
   ],
   "source": [
    "plot_df(new_kf_df, \"kf_with_orig_dist_vel3.png\")"
   ]
  },
  {
   "cell_type": "code",
   "execution_count": 39,
   "id": "bdaec646-4cb6-4384-af19-d488579ae4f9",
   "metadata": {
    "jupyter": {
     "source_hidden": true
    },
    "tags": []
   },
   "outputs": [],
   "source": [
    "# This is where we do the polar plot stuff...\n",
    "import math\n",
    "from matplotlib import pyplot as plt"
   ]
  },
  {
   "cell_type": "code",
   "execution_count": 54,
   "id": "88068652-25d6-42dc-a820-56a94c247b3d",
   "metadata": {
    "collapsed": true,
    "jupyter": {
     "outputs_hidden": true,
     "source_hidden": true
    },
    "tags": []
   },
   "outputs": [
    {
     "name": "stdout",
     "output_type": "stream",
     "text": [
      "[0.         0.34906585 0.6981317  1.04719755 1.3962634  1.74532925\n",
      " 2.0943951  2.44346095 2.7925268  3.14159265 3.4906585  3.83972435\n",
      " 4.1887902  4.53785606 4.88692191 5.23598776 5.58505361 5.93411946]\n",
      "Actual number of data points (including the excluded latter points collected after spin stopped): 23\n",
      "\n",
      "Plot data:\n",
      "Time: [3.186, 3.877, 4.536, 5.122, 5.722, 6.307, 6.862, 7.462, 8.031, 8.617, 9.217, 9.786, 10.357, 10.941, 11.541, 12.126, 12.711, 13.267]\n",
      "Distance: [101.0, 110.0, 146.0, 150.0, 103.0, 83.0, 80.0, 96.0, 147.0, 219.0, 197.0, 195.0, 216.0, 283.0, 216.0, 174.0, 163.0, 179.0]\n",
      "Angle (rad):  ['0.00', '0.35', '0.70', '1.05', '1.40', '1.75', '2.09', '2.44', '2.79', '3.14', '3.49', '3.84', '4.19', '4.54', '4.89', '5.24', '5.59', '5.93']\n"
     ]
    },
    {
     "data": {
      "image/png": "[encoded data removed]",
      "text/plain": [
       "<Figure size 432x288 with 1 Axes>"
      ]
     },
     "metadata": {
      "needs_background": "light"
     },
     "output_type": "display_data"
    }
   ],
   "source": [
    "times = list(sensor_data[\"time\"][:18])\n",
    "tofs = sensor_data[\"dist_f\"][:18]\n",
    "ang_vels = list(sensor_data[\"gyr_z\"])\n",
    "# ang_vels = list(np.tile(np.array([22.5]), len(tofs)))\n",
    "num_points = len(ang_vels)\n",
    "\n",
    "# thetas = [0]\n",
    "# for i in range(1, num_points):\n",
    "#     thetas.append(thetas[i-1] + math.radians(ang_vels[i] * (times[i] - times[i-1])))\n",
    "thetas = np.linspace(0, 2 * np.pi, len(tofs), endpoint=False)\n",
    "print(thetas)\n",
    "\n",
    "xs = np.cos(thetas) * tofs\n",
    "ys = np.sin(thetas) * tofs\n",
    "\n",
    "r = np.array(tofs)\n",
    "theta = np.array(thetas)\n",
    "\n",
    "print(f\"Actual number of data points (including the excluded latter points collected after spin stopped): {num_points}\\n\")\n",
    "\n",
    "print(\"Plot data:\")\n",
    "print(f\"Time: {repr(times)}\")\n",
    "print(f\"Distance: {repr(list(r))}\")\n",
    "print(\"Angle (rad): \", [\"{:0.2f}\".format(x) for x in theta ])\n",
    "\n",
    "fig, ax = plt.subplots(subplot_kw={'projection': 'polar'})\n",
    "ax.plot(theta, r, 'o')\n",
    "# ax.set_rmax(2000)\n",
    "ax.set_rlabel_position(-22.5)  # Move radial labels away from plotted line\n",
    "ax.grid(True)\n",
    "\n",
    "ax.set_title(\"Map Polar Plot\", va='bottom')\n",
    "plt.show()"
   ]
  },
  {
   "cell_type": "code",
   "execution_count": 55,
   "id": "646a491a-5e99-4938-ab74-5b09c2b9f958",
   "metadata": {
    "collapsed": true,
    "jupyter": {
     "outputs_hidden": true,
     "source_hidden": true
    },
    "tags": []
   },
   "outputs": [
    {
     "data": {
      "image/png": "[encoded data removed]",
      "text/plain": [
       "<Figure size 432x288 with 1 Axes>"
      ]
     },
     "metadata": {
      "needs_background": "light"
     },
     "output_type": "display_data"
    }
   ],
   "source": [
    "df = pd.concat([xs.rename(\"x\"), ys.rename(\"y\")], axis=1)\n",
    "df.plot(x=\"x\", y=\"y\", marker=\"o\", linestyle='none')\n",
    "plt.show()"
   ]
  },
  {
   "cell_type": "code",
   "execution_count": 47,
   "id": "847319f9-0fbc-46c9-9682-40bfbfdbb517",
   "metadata": {},
   "outputs": [
    {
     "name": "stdout",
     "output_type": "stream",
     "text": [
      "2022-05-13 16:03:27,560 |\u001b[32m INFO     \u001b[0m|: Disconnected from B45C71B2-3BCA-639D-7AF3-3C14C2003C3E\n"
     ]
    }
   ],
   "source": [
    "ble.disconnect()"
   ]
  },
  {
   "cell_type": "code",
   "execution_count": null,
   "id": "82ddb44a-7178-4fae-8f39-c070a6f7b4b9",
   "metadata": {},
   "outputs": [],
   "source": []
  }
 ],
 "metadata": {
  "kernelspec": {
   "display_name": "Python 3 (ipykernel)",
   "language": "python",
   "name": "python3"
  },
  "language_info": {
   "codemirror_mode": {
    "name": "ipython",
    "version": 3
   },
   "file_extension": ".py",
   "mimetype": "text/x-python",
   "name": "python",
   "nbconvert_exporter": "python",
   "pygments_lexer": "ipython3",
   "version": "3.10.4"
  }
 },
 "nbformat": 4,
 "nbformat_minor": 5
}
