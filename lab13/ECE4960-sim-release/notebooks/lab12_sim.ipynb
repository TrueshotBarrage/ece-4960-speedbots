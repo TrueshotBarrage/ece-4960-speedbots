{
 "cells": [
  {
   "cell_type": "markdown",
   "metadata": {},
   "source": [
    "# Lab 12: Grid Localization using Bayes Filter (Virtual Robot)\n",
    "\n",
    "### <span style=\"color:rgb(0,150,0)\">It is recommended that you close any heavy-duty applications running on your system while working on this lab.</span>\n",
    "\n",
    "<hr>\n"
   ]
  },
  {
   "cell_type": "code",
   "execution_count": 1,
   "metadata": {},
   "outputs": [
    {
     "name": "stdout",
     "output_type": "stream",
     "text": [
      "2022-05-18 14:30:16,540 |\u001b[32m INFO     \u001b[0m|: Logger demo_notebook.log initialized.\n"
     ]
    },
    {
     "data": {
      "application/vnd.jupyter.widget-view+json": {
       "model_id": "06180448b2dd4a7097d2cb5aa6b623ce",
       "version_major": 2,
       "version_minor": 0
      },
      "text/plain": [
       "TwoByTwoLayout(children=(Label(value='Simulator', layout=Layout(grid_area='top-left', width='80px')), HBox(chi…"
      ]
     },
     "metadata": {},
     "output_type": "display_data"
    }
   ],
   "source": [
    "%load_ext autoreload\n",
    "%autoreload 2\n",
    "\n",
    "import traceback\n",
    "from notebook_utils import *\n",
    "from Traj import *\n",
    "import asyncio\n",
    "from localization_extras import Localization\n",
    "\n",
    "# Setup Logger\n",
    "LOG = get_logger('demo_notebook.log')\n",
    "\n",
    "# Init GUI and Commander\n",
    "gui = GET_GUI()\n",
    "cmdr = gui.launcher.commander\n",
    "\n",
    "gui.show()\n",
    "\n",
    "import nest_asyncio\n",
    "nest_asyncio.apply()\n",
    "\n",
    "# Start the simulator\n",
    "START_SIM()\n",
    "\n",
    "# Start the plotter\n",
    "START_PLOTTER()"
   ]
  },
  {
   "cell_type": "code",
   "execution_count": 2,
   "metadata": {},
   "outputs": [
    {
     "name": "stdout",
     "output_type": "stream",
     "text": [
      "2022-05-18 14:30:20,534 |\u001b[32m INFO     \u001b[0m|:  | Number of observations per grid cell: 18\n",
      "2022-05-18 14:30:20,537 |\u001b[32m INFO     \u001b[0m|:  | Precaching Views...\n"
     ]
    },
    {
     "name": "stderr",
     "output_type": "stream",
     "text": [
      "/Users/trueshot/Documents/git/fast-robots/lab13/ECE4960-sim-release/localization.py:144: RuntimeWarning: All-NaN slice encountered\n",
      "  return np.nanmin(distance_intersections_tt), intersections_tt[\n"
     ]
    },
    {
     "name": "stdout",
     "output_type": "stream",
     "text": [
      "2022-05-18 14:30:26,060 |\u001b[32m INFO     \u001b[0m|:  | Precaching Time: 5.521 secs\n",
      "2022-05-18 14:30:26,061 |\u001b[32m INFO     \u001b[0m|: Initializing beliefs with a Uniform Distribution\n",
      "2022-05-18 14:30:26,062 |\u001b[32m INFO     \u001b[0m|: Uniform Belief with each cell value: 0.00051440329218107\n"
     ]
    }
   ],
   "source": [
    "# Initialize Robot to communicate with the virtual robot and plotter\n",
    "robot = VirtualRobot(cmdr)\n",
    "\n",
    "# Initialize mapper\n",
    "# Requires a VirtualRobot object as a parameter\n",
    "mapper = Mapper(robot)\n",
    "\n",
    "# Initialize your BaseLocalization object\n",
    "# Requires a VirtualRobot object and a Mapper object as parameters\n",
    "loc = Localization(robot, mapper)\n",
    "\n",
    "## Plot Map\n",
    "cmdr.plot_map()"
   ]
  },
  {
   "cell_type": "markdown",
   "metadata": {},
   "source": [
    "# Run the Bayes Filter\n",
    "The cells below utilizes the member functions of class **Localization** (defined in [localization_extras.py](../localization_extras.py)) in each iteration of the Bayes filter algorithm to localize the robot in the grid map. <br>"
   ]
  },
  {
   "cell_type": "code",
   "execution_count": 3,
   "metadata": {},
   "outputs": [
    {
     "name": "stdout",
     "output_type": "stream",
     "text": [
      "2022-05-18 14:30:28,646 |\u001b[32m INFO     \u001b[0m|: Initializing beliefs with a Uniform Distribution\n",
      "2022-05-18 14:30:28,647 |\u001b[32m INFO     \u001b[0m|: Uniform Belief with each cell value: 0.00051440329218107\n",
      "2022-05-18 14:30:31,560 |\u001b[32m INFO     \u001b[0m|: Update Step\n",
      "2022-05-18 14:30:31,565 |\u001b[32m INFO     \u001b[0m|:      | Update Time: 0.003 secs\n",
      "2022-05-18 14:30:31,566 |\u001b[32m INFO     \u001b[0m|: ---------- UPDATE STATS -----------\n",
      "2022-05-18 14:30:31,571 |\u001b[32m INFO     \u001b[0m|: GT index      : (6, 4, 9)\n",
      "2022-05-18 14:30:31,572 |\u001b[32m INFO     \u001b[0m|: Bel index     : (5, 3, 9) with prob = 0.9986121\n",
      "2022-05-18 14:30:31,574 |\u001b[32m INFO     \u001b[0m|: Bel_bar prob at index = 0.00051440329218107\n",
      "2022-05-18 14:30:31,577 |\u001b[32m INFO     \u001b[0m|: GT            : (0.000, 0.000, 360.000)\n",
      "2022-05-18 14:30:31,580 |\u001b[32m INFO     \u001b[0m|: Belief        : (0.000, -0.305, 10.000)\n",
      "2022-05-18 14:30:31,581 |\u001b[32m INFO     \u001b[0m|: POS ERROR     : (-0.000, 0.305, 350.000)\n",
      "2022-05-18 14:30:31,584 |\u001b[32m INFO     \u001b[0m|: ---------- UPDATE STATS -----------\n"
     ]
    }
   ],
   "source": [
    "# Reset Robot and Plots\n",
    "robot.reset()\n",
    "cmdr.reset_plotter()\n",
    "\n",
    "# Init Uniform Belief\n",
    "loc.init_grid_beliefs()\n",
    "\n",
    "# Get Observation Data by executing a 360 degree rotation motion\n",
    "loc.get_observation_data()\n",
    "\n",
    "# Run Update Step\n",
    "loc.update_step()\n",
    "loc.print_update_stats(plot_data=True)\n",
    "\n",
    "# Plot Odom and GT\n",
    "current_odom, current_gt = robot.get_pose()\n",
    "cmdr.plot_gt(current_gt[0], current_gt[1])\n",
    "cmdr.plot_odom(current_odom[0], current_odom[1])"
   ]
  },
  {
   "cell_type": "code",
   "execution_count": 4,
   "metadata": {},
   "outputs": [
    {
     "data": {
      "text/plain": [
       "1944"
      ]
     },
     "execution_count": 4,
     "metadata": {},
     "output_type": "execute_result"
    }
   ],
   "source": [
    "np.count_nonzero(loc.bel[loc.bel>0.0001])"
   ]
  },
  {
   "cell_type": "code",
   "execution_count": 5,
   "metadata": {},
   "outputs": [
    {
     "data": {
      "text/plain": [
       "array([0.0005144])"
      ]
     },
     "execution_count": 5,
     "metadata": {},
     "output_type": "execute_result"
    }
   ],
   "source": [
    "np.unique(loc.bel)"
   ]
  },
  {
   "cell_type": "code",
   "execution_count": 4,
   "metadata": {},
   "outputs": [
    {
     "name": "stdout",
     "output_type": "stream",
     "text": [
      "\n",
      "\n",
      "----------------- 0 -----------------\n",
      "2022-05-18 14:30:37,292 |\u001b[32m INFO     \u001b[0m|: Prediction Step\n",
      "2022-05-18 14:30:37,433 |\u001b[32m INFO     \u001b[0m|:  | Prediction Time: 0.139 secs\n",
      "2022-05-18 14:30:37,444 |\u001b[32m INFO     \u001b[0m|: ---------- PREDICTION STATS -----------\n",
      "2022-05-18 14:30:37,454 |\u001b[32m INFO     \u001b[0m|: GT index         : (6, 3, 7)\n",
      "2022-05-18 14:30:37,455 |\u001b[32m INFO     \u001b[0m|: Prior Bel index  : (5, 5, 8) with prob = 0.0992426\n",
      "2022-05-18 14:30:37,457 |\u001b[32m INFO     \u001b[0m|: POS ERROR        : (0.267, -0.389, -12.059)\n",
      "2022-05-18 14:30:37,460 |\u001b[32m INFO     \u001b[0m|: ---------- PREDICTION STATS -----------\n",
      "2022-05-18 14:30:40,436 |\u001b[32m INFO     \u001b[0m|: Update Step\n",
      "2022-05-18 14:30:40,440 |\u001b[32m INFO     \u001b[0m|:      | Update Time: 0.003 secs\n",
      "2022-05-18 14:30:40,441 |\u001b[32m INFO     \u001b[0m|: ---------- UPDATE STATS -----------\n",
      "2022-05-18 14:30:40,449 |\u001b[32m INFO     \u001b[0m|: GT index      : (6, 3, 7)\n",
      "2022-05-18 14:30:40,452 |\u001b[32m INFO     \u001b[0m|: Bel index     : (6, 4, 7) with prob = 1.0\n",
      "2022-05-18 14:30:40,455 |\u001b[32m INFO     \u001b[0m|: Bel_bar prob at index = 0.0004770035688837416\n",
      "2022-05-18 14:30:40,457 |\u001b[32m INFO     \u001b[0m|: GT            : (0.267, -0.084, 337.941)\n",
      "2022-05-18 14:30:40,458 |\u001b[32m INFO     \u001b[0m|: Belief        : (0.305, 0.000, -30.000)\n",
      "2022-05-18 14:30:40,461 |\u001b[32m INFO     \u001b[0m|: POS ERROR     : (-0.038, -0.084, 367.941)\n",
      "2022-05-18 14:30:40,463 |\u001b[32m INFO     \u001b[0m|: ---------- UPDATE STATS -----------\n",
      "-------------------------------------\n",
      "\n",
      "\n",
      "----------------- 1 -----------------\n",
      "2022-05-18 14:30:42,687 |\u001b[32m INFO     \u001b[0m|: Prediction Step\n",
      "2022-05-18 14:30:42,791 |\u001b[32m INFO     \u001b[0m|:  | Prediction Time: 0.099 secs\n",
      "2022-05-18 14:30:42,793 |\u001b[32m INFO     \u001b[0m|: ---------- PREDICTION STATS -----------\n",
      "2022-05-18 14:30:42,802 |\u001b[32m INFO     \u001b[0m|: GT index         : (8, 2, 6)\n",
      "2022-05-18 14:30:42,804 |\u001b[32m INFO     \u001b[0m|: Prior Bel index  : (8, 4, 7) with prob = 0.0777199\n",
      "2022-05-18 14:30:42,805 |\u001b[32m INFO     \u001b[0m|: POS ERROR        : (-0.302, -0.434, 344.641)\n",
      "2022-05-18 14:30:42,807 |\u001b[32m INFO     \u001b[0m|: ---------- PREDICTION STATS -----------\n",
      "2022-05-18 14:30:45,766 |\u001b[32m INFO     \u001b[0m|: Update Step\n",
      "2022-05-18 14:30:45,771 |\u001b[32m INFO     \u001b[0m|:      | Update Time: 0.005 secs\n",
      "2022-05-18 14:30:45,772 |\u001b[32m INFO     \u001b[0m|: ---------- UPDATE STATS -----------\n",
      "2022-05-18 14:30:45,782 |\u001b[32m INFO     \u001b[0m|: GT index      : (8, 2, 6)\n",
      "2022-05-18 14:30:45,784 |\u001b[32m INFO     \u001b[0m|: Bel index     : (7, 2, 6) with prob = 1.0\n",
      "2022-05-18 14:30:45,788 |\u001b[32m INFO     \u001b[0m|: Bel_bar prob at index = 2.3855881262598833e-06\n",
      "2022-05-18 14:30:45,791 |\u001b[32m INFO     \u001b[0m|: GT            : (0.613, -0.434, 674.641)\n",
      "2022-05-18 14:30:45,793 |\u001b[32m INFO     \u001b[0m|: Belief        : (0.610, -0.610, -50.000)\n",
      "2022-05-18 14:30:45,795 |\u001b[32m INFO     \u001b[0m|: POS ERROR     : (0.003, 0.176, 724.641)\n",
      "2022-05-18 14:30:45,799 |\u001b[32m INFO     \u001b[0m|: ---------- UPDATE STATS -----------\n",
      "-------------------------------------\n",
      "\n",
      "\n",
      "----------------- 2 -----------------\n"
     ]
    },
    {
     "ename": "KeyboardInterrupt",
     "evalue": "",
     "output_type": "error",
     "traceback": [
      "\u001b[0;31m---------------------------------------------------------------------------\u001b[0m",
      "\u001b[0;31mKeyboardInterrupt\u001b[0m                         Traceback (most recent call last)",
      "Input \u001b[0;32mIn [4]\u001b[0m, in \u001b[0;36m<cell line: 5>\u001b[0;34m()\u001b[0m\n\u001b[1;32m      5\u001b[0m \u001b[38;5;28;01mfor\u001b[39;00m t \u001b[38;5;129;01min\u001b[39;00m \u001b[38;5;28mrange\u001b[39m(\u001b[38;5;241m0\u001b[39m, traj\u001b[38;5;241m.\u001b[39mtotal_time_steps):\n\u001b[1;32m      6\u001b[0m     \u001b[38;5;28mprint\u001b[39m(\u001b[38;5;124m\"\u001b[39m\u001b[38;5;130;01m\\n\u001b[39;00m\u001b[38;5;130;01m\\n\u001b[39;00m\u001b[38;5;124m-----------------\u001b[39m\u001b[38;5;124m\"\u001b[39m, t, \u001b[38;5;124m\"\u001b[39m\u001b[38;5;124m-----------------\u001b[39m\u001b[38;5;124m\"\u001b[39m)\n\u001b[0;32m----> 8\u001b[0m     prev_odom, current_odom, prev_gt, current_gt \u001b[38;5;241m=\u001b[39m \u001b[43mtraj\u001b[49m\u001b[38;5;241;43m.\u001b[39;49m\u001b[43mexecute_time_step\u001b[49m\u001b[43m(\u001b[49m\u001b[43mt\u001b[49m\u001b[43m)\u001b[49m\n\u001b[1;32m     10\u001b[0m     \u001b[38;5;66;03m# Prediction Step\u001b[39;00m\n\u001b[1;32m     11\u001b[0m     loc\u001b[38;5;241m.\u001b[39mprediction_step(current_odom, prev_odom)\n",
      "File \u001b[0;32m~/Documents/git/fast-robots/lab13/ECE4960-sim-release/Traj.py:83\u001b[0m, in \u001b[0;36mTrajectory.execute_time_step\u001b[0;34m(self, t)\u001b[0m\n\u001b[1;32m     80\u001b[0m prev_odom, prev_gt \u001b[38;5;241m=\u001b[39m \u001b[38;5;28mself\u001b[39m\u001b[38;5;241m.\u001b[39mrobot\u001b[38;5;241m.\u001b[39mget_pose()\n\u001b[1;32m     82\u001b[0m \u001b[38;5;66;03m# Perform Motion\u001b[39;00m\n\u001b[0;32m---> 83\u001b[0m \u001b[38;5;28;43mself\u001b[39;49m\u001b[38;5;241;43m.\u001b[39;49m\u001b[43mperform_motion\u001b[49m\u001b[43m(\u001b[49m\u001b[43mt\u001b[49m\u001b[43m)\u001b[49m\n\u001b[1;32m     85\u001b[0m \u001b[38;5;66;03m# Record Odom and GT after motion\u001b[39;00m\n\u001b[1;32m     86\u001b[0m current_odom, current_gt \u001b[38;5;241m=\u001b[39m \u001b[38;5;28mself\u001b[39m\u001b[38;5;241m.\u001b[39mrobot\u001b[38;5;241m.\u001b[39mget_pose()\n",
      "File \u001b[0;32m~/Documents/git/fast-robots/lab13/ECE4960-sim-release/Traj.py:52\u001b[0m, in \u001b[0;36mTrajectory.perform_motion\u001b[0;34m(self, t)\u001b[0m\n\u001b[1;32m     50\u001b[0m \u001b[38;5;28;01mif\u001b[39;00m(vel_cmd[\u001b[38;5;241m0\u001b[39m]):\n\u001b[1;32m     51\u001b[0m     \u001b[38;5;28mself\u001b[39m\u001b[38;5;241m.\u001b[39mrobot\u001b[38;5;241m.\u001b[39mset_vel(\u001b[38;5;241m0.0\u001b[39m, vel_cmd[\u001b[38;5;241m0\u001b[39m])\n\u001b[0;32m---> 52\u001b[0m     \u001b[43mtime\u001b[49m\u001b[38;5;241;43m.\u001b[39;49m\u001b[43msleep\u001b[49m\u001b[43m(\u001b[49m\u001b[43mduration\u001b[49m\u001b[43m)\u001b[49m\n\u001b[1;32m     53\u001b[0m     \u001b[38;5;28mself\u001b[39m\u001b[38;5;241m.\u001b[39mrobot\u001b[38;5;241m.\u001b[39mset_vel(\u001b[38;5;241m0.0\u001b[39m, \u001b[38;5;241m0.0\u001b[39m)\n\u001b[1;32m     55\u001b[0m \u001b[38;5;66;03m# Trans\u001b[39;00m\n",
      "\u001b[0;31mKeyboardInterrupt\u001b[0m: "
     ]
    },
    {
     "name": "stdout",
     "output_type": "stream",
     "text": [
      "Loading Flatland...\n",
      "Initializing pygame framework...\n"
     ]
    }
   ],
   "source": [
    "# Initialize the Trajectory object\n",
    "traj = Trajectory(loc)\n",
    "\n",
    "# Run through each motion steps\n",
    "for t in range(0, traj.total_time_steps):\n",
    "    print(\"\\n\\n-----------------\", t, \"-----------------\")\n",
    "    \n",
    "    prev_odom, current_odom, prev_gt, current_gt = traj.execute_time_step(t)\n",
    "        \n",
    "    # Prediction Step\n",
    "    loc.prediction_step(current_odom, prev_odom)\n",
    "    loc.print_prediction_stats(plot_data=True)\n",
    "    \n",
    "    # Get Observation Data by executing a 360 degree rotation motion\n",
    "    loc.get_observation_data()\n",
    "    \n",
    "    # Update Step\n",
    "    loc.update_step()\n",
    "    loc.print_update_stats(plot_data=True)\n",
    "\n",
    "# Uncomment the below line to wait for keyboard input between each iteration.\n",
    "#   input(\"Press Enter to Continue\")\n",
    "        \n",
    "    print(\"-------------------------------------\")"
   ]
  },
  {
   "cell_type": "code",
   "execution_count": null,
   "metadata": {},
   "outputs": [],
   "source": []
  }
 ],
 "metadata": {
  "kernelspec": {
   "display_name": "Python 3 (ipykernel)",
   "language": "python",
   "name": "python3"
  },
  "language_info": {
   "codemirror_mode": {
    "name": "ipython",
    "version": 3
   },
   "file_extension": ".py",
   "mimetype": "text/x-python",
   "name": "python",
   "nbconvert_exporter": "python",
   "pygments_lexer": "ipython3",
   "version": "3.10.4"
  }
 },
 "nbformat": 4,
 "nbformat_minor": 4
}
