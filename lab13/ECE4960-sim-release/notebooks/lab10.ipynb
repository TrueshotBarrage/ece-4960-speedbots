{
 "cells": [
  {
   "cell_type": "code",
   "execution_count": 1,
   "metadata": {},
   "outputs": [
    {
     "name": "stdout",
     "output_type": "stream",
     "text": [
      "2022-05-02 21:53:49,170 |\u001b[32m INFO     \u001b[0m|: Logger demo_notebook.log initialized.\n"
     ]
    }
   ],
   "source": [
    "%load_ext autoreload\n",
    "%autoreload 2\n",
    "\n",
    "import traceback\n",
    "import random\n",
    "from notebook_utils import *\n",
    "import asyncio\n",
    "\n",
    "# Setup Logger\n",
    "LOG = get_logger('demo_notebook.log')\n",
    "\n",
    "# Init GUI and Commander\n",
    "gui = GET_GUI()\n",
    "cmdr = gui.launcher.commander"
   ]
  },
  {
   "cell_type": "markdown",
   "metadata": {},
   "source": [
    "# Start/Stop the Simulator and Plotter"
   ]
  },
  {
   "cell_type": "markdown",
   "metadata": {},
   "source": [
    "### OPTION 1: GUI\n",
    "- You can use a GUI to start, stop and track the running status of the simulator and plotter.\n",
    "- Run the below cell **only once** to render the GUI. You can then interact with the GUI using your mouse.\n",
    "- The GUI will not respond when the notebook's kernel is busy, just like any other cell."
   ]
  },
  {
   "cell_type": "code",
   "execution_count": 2,
   "metadata": {},
   "outputs": [
    {
     "data": {
      "application/vnd.jupyter.widget-view+json": {
       "model_id": "2d879c1fdb5047c791b9f214f573548f",
       "version_major": 2,
       "version_minor": 0
      },
      "text/plain": [
       "TwoByTwoLayout(children=(Label(value='Simulator', layout=Layout(grid_area='top-left', width='80px')), HBox(chi…"
      ]
     },
     "metadata": {},
     "output_type": "display_data"
    }
   ],
   "source": [
    "gui.show()"
   ]
  },
  {
   "cell_type": "markdown",
   "metadata": {},
   "source": [
    "### OPTION 2: Programmatically\n",
    "You can also use functions to do the same."
   ]
  },
  {
   "cell_type": "code",
   "execution_count": 25,
   "metadata": {},
   "outputs": [
    {
     "name": "stdout",
     "output_type": "stream",
     "text": [
      "2022-05-03 14:50:24,046 |\u001b[32m INFO     \u001b[0m|: Creating New Simulator Process\n",
      "2022-05-03 14:50:24,686 |\u001b[32m INFO     \u001b[0m|: Creating New Plotter Process\n"
     ]
    }
   ],
   "source": [
    "# Start the simulator\n",
    "START_SIM()\n",
    "\n",
    "# Start the plotter\n",
    "START_PLOTTER()"
   ]
  },
  {
   "cell_type": "code",
   "execution_count": 28,
   "metadata": {},
   "outputs": [
    {
     "name": "stdout",
     "output_type": "stream",
     "text": [
      "Loading Flatland...\n",
      "Initializing pygame framework...\n",
      "2022-05-03 15:35:00,077 |\u001b[32m INFO     \u001b[0m|: Simulator is stopped\n",
      "2022-05-03 15:35:00,082 |\u001b[32m INFO     \u001b[0m|: Plotter is stopped\n"
     ]
    }
   ],
   "source": [
    "# Start the simulator\n",
    "STOP_SIM()\n",
    "\n",
    "# Start the plotter\n",
    "STOP_PLOTTER()"
   ]
  },
  {
   "cell_type": "code",
   "execution_count": null,
   "metadata": {},
   "outputs": [],
   "source": [
    "# Reset the simulator\n",
    "RESET_SIM()\n",
    "\n",
    "# Start the plotter\n",
    "RESET_PLOTTER()"
   ]
  },
  {
   "cell_type": "markdown",
   "metadata": {},
   "source": [
    "You can also quit each process by closing their respective windows.\n",
    "\n",
    "### Make sure there is only one running instance of the simulator and plotter to prevent any confusion."
   ]
  },
  {
   "cell_type": "markdown",
   "metadata": {},
   "source": [
    "<hr>\n",
    "\n",
    "# Interactions\n",
    "\n",
    "## Using your mouse and keyboard\n",
    "\n",
    "### Simulator\n",
    "- Press the up and down arrow keys to increase and decrease the linear velocity of the virtual robot, respectively.\n",
    "- Press the left and right arrow keys to increase to increase and decrease the angular velocity of the virtual robot, respectively.\n",
    "- Hit spacebar to stop the robot.\n",
    "- Press h to display the full keyboard map.\n",
    "\n",
    "### Plotter\n",
    "- Use the GUI buttons to show/hide the various plots.\n",
    "- Use your mouse to zoom in and out of the plot.\n",
    "- Press the \"A\" button (bottom-left to the plotting box and above \"Plotted Points\") to auto-fit the plot to your window.\n"
   ]
  },
  {
   "cell_type": "markdown",
   "metadata": {},
   "source": [
    "\n",
    "## Using the Commander class\n",
    "The **Commander** class (defined in *commander.py*) allows you to interact with the simulator and the plotter programmatically. <br>\n",
    "__NOTE__: The units of measurement are meters and radians.\n",
    "\n",
    "<table align=\"left\">\n",
    "    <tr>\n",
    "        <th style=\"text-align: left; font-size: medium\">Member Functions</th>\n",
    "        <th style=\"text-align: left; font-size: medium\">Description</th style=\"text-align: left\">\n",
    "    </tr>\n",
    "    <tr>\n",
    "        <th style=\"text-align: left\"><span style=\"font-family:monospace\">Utility Functions</span></th>\n",
    "    </tr>\n",
    "    <tr>\n",
    "        <th style=\"text-align: left\"><span style=\"color:rgb(201,152,4);font-family:monospace\">sim_is_running()</span></th>\n",
    "        <th style=\"text-align: left\"><span style=\"font-weight: normal\">Get the run status of the simulator.</span></th>\n",
    "    </tr>\n",
    "    <tr>\n",
    "        <th style=\"text-align: left\"><span style=\"color:rgb(201,152,4);font-family:monospace\">plotter_is_running()</span></th>\n",
    "        <th style=\"text-align: left\"><span style=\"font-weight: normal\">Get the run status of the plotter.</span></th>\n",
    "    </tr>\n",
    "    <tr>\n",
    "        <th style=\"text-align: left\"><span style=\"font-family:monospace\">Plotter Functions</span></th>\n",
    "    </tr>\n",
    "    <tr>\n",
    "        <th style=\"text-align: left\"><span style=\"color:rgb(201,152,4);font-family:monospace\">plot_odom(x,y)</span></th>\n",
    "        <th style=\"text-align: left\"><span style=\"font-weight: normal\">Plot a point (x,y) in the plotter in red. Units are (meters, meters).</span></th style=\"text-align: left\">\n",
    "    </tr>\n",
    "    <tr>\n",
    "        <th style=\"text-align: left\"><span style=\"color:rgb(201,152,4);font-family:monospace\">plot_gt(x,y)</span></th>\n",
    "        <th style=\"text-align: left\"><span style=\"font-weight: normal\">Plot a point (x,y) in the plotter in green. Units are (meters, meters).</span></th>\n",
    "    </tr>\n",
    "    <tr>\n",
    "        <th style=\"text-align: left\"><span style=\"color:rgb(201,152,4);font-family:monospace\">plot_bel(x,y)</span></th>\n",
    "        <th style=\"text-align: left\"><span style=\"font-weight: normal\">Plot a point (x,y) in the plotter in blue. Units are (meters, meters).</span></th>\n",
    "    </tr>\n",
    "    <tr>\n",
    "        <th style=\"text-align: left\"><span style=\"color:rgb(201,152,4);font-family:monospace\">plot_map()</span></th>\n",
    "        <th style=\"text-align: left\"><span style=\"font-weight: normal\">Plot the map based on the map lines in <em>world.yaml</em>.</span></th>\n",
    "    </tr>\n",
    "    <tr>\n",
    "        <th style=\"text-align: left\"><span style=\"color:rgb(201,152,4);font-family:monospace\">reset_plotter()</span></th>\n",
    "        <th style=\"text-align: left\"><span style=\"font-weight: normal\">Reset the plots in the plotter.</span></th>\n",
    "    </tr>\n",
    "    <tr>\n",
    "        <th style=\"text-align: left\"><span style=\"font-family:monospace\">Simulator Functions</span></th>\n",
    "    </tr>\n",
    "    <tr>\n",
    "        <th style=\"text-align: left\"><span style=\"color:rgb(201,152,4);font-family:monospace\">set_vel(linear_vel, angular_vel)</span></th>\n",
    "        <th style=\"text-align: left\"><span style=\"font-weight: normal\">Set the linear velocity (m/s) and angular velocity (rad/s) of the virtual robot.</span></th style=\"text-align: left\">\n",
    "    </tr>\n",
    "    <tr>\n",
    "        <th style=\"text-align: left\"><span style=\"color:rgb(201,152,4);font-family:monospace\">get_pose()</span></th>\n",
    "        <th style=\"text-align: left\"><span style=\"font-weight: normal\">Get the odometry and ground truth poses of the virtual robot as two numpy arrays. The units of each pose are (meters, meters, radians)</span></th>\n",
    "    </tr>\n",
    "    <tr>\n",
    "        <th style=\"text-align: left\"><span style=\"color:rgb(201,152,4);font-family:monospace\">get_sensor()</span></th>\n",
    "        <th style=\"text-align: left\"><span style=\"font-weight: normal\">Get the ToF sensor data (in meters) of the virtual robot as a numpy column array.</span></th>\n",
    "    </tr>\n",
    "    <tr>\n",
    "        <th style=\"text-align: left\"><span style=\"color:rgb(201,152,4);font-family:monospace\">reset_sim()</span></th>\n",
    "        <th style=\"text-align: left\"><span style=\"font-weight: normal\">Reset the virtual robot to its initial pose.</span></th>\n",
    "    </tr>    \n",
    "   \n",
    "</table>\n"
   ]
  },
  {
   "cell_type": "code",
   "execution_count": null,
   "metadata": {},
   "outputs": [
    {
     "name": "stdout",
     "output_type": "stream",
     "text": [
      "Loading Flatland...\n",
      "Initializing pygame framework...\n",
      "SIGINT received. Delaying KeyboardInterrupt.\n",
      "SIGINT received. Delaying KeyboardInterrupt.\n",
      "SIGINT received. Delaying KeyboardInterrupt.\n",
      "SIGINT received. Delaying KeyboardInterrupt.\n",
      "SIGINT received. Delaying KeyboardInterrupt.\n",
      "SIGINT received. Delaying KeyboardInterrupt.\n",
      "SIGINT received. Delaying KeyboardInterrupt.\n",
      "SIGINT received. Delaying KeyboardInterrupt.\n"
     ]
    }
   ],
   "source": [
    "# Reset Plotter and Simulator\n",
    "cmdr.reset_plotter()\n",
    "cmdr.reset_sim()\n",
    "\n",
    "# Loop for pose\n",
    "while cmdr.sim_is_running() and cmdr.plotter_is_running():\n",
    "    pose, gt_pose = cmdr.get_pose()\n",
    "\n",
    "    cmdr.plot_odom(pose[0], pose[1])\n",
    "    cmdr.plot_gt(gt_pose[0], gt_pose[1])"
   ]
  },
  {
   "cell_type": "code",
   "execution_count": null,
   "metadata": {},
   "outputs": [],
   "source": [
    "# Loop for sensor\n",
    "while cmdr.sim_is_running() and cmdr.plotter_is_running():\n",
    "    sensor_values = cmdr.get_sensor()\n",
    "    print(sensor_values)\n",
    "    await asyncio.sleep(1)"
   ]
  },
  {
   "cell_type": "code",
   "execution_count": 27,
   "metadata": {},
   "outputs": [],
   "source": [
    "cmdr.reset_sim()\n",
    "cmdr.reset_plotter()\n",
    "\n",
    "cmdr.set_vel(0, 0)\n",
    "\n",
    "def plot():\n",
    "    pose, gt_pose = cmdr.get_pose()\n",
    "\n",
    "    cmdr.plot_odom(pose[0], pose[1])\n",
    "    cmdr.plot_gt(gt_pose[0], gt_pose[1])\n",
    "\n",
    "for i in range(4):\n",
    "    cmdr.set_vel(1, 0)\n",
    "    await asyncio.sleep(0.5)\n",
    "\n",
    "    cmdr.set_vel(0, np.pi)\n",
    "    await asyncio.sleep(0.5)\n",
    "    \n",
    "    cmdr.set_vel(0, 0)\n",
    "    \n",
    "    plot()\n",
    "\n",
    "cmdr.set_vel(0, 0)"
   ]
  },
  {
   "cell_type": "code",
   "execution_count": 21,
   "metadata": {},
   "outputs": [],
   "source": [
    "class ClosedLoopController():\n",
    "    def __init__(self, cmdr, turn_threshold=0.1, max_speed=25):\n",
    "        self.cmdr = cmdr\n",
    "        self.cmdr.reset_sim()\n",
    "        self.turn_threshold = turn_threshold\n",
    "        self.max_speed = max_speed\n",
    "    \n",
    "    def get_front_dist(self):\n",
    "        return self.cmdr.get_sensor()[0]\n",
    "    \n",
    "    async def move_forward(self, speed, duration):\n",
    "        self.cmdr.set_vel(speed, 0)\n",
    "        await asyncio.sleep(duration)\n",
    "        self.cmdr.set_vel(0, 0)\n",
    "        plot()\n",
    "    \n",
    "    async def turn(self, angle):\n",
    "        # We use half a second (1/2) for more flexibility in incremental turning\n",
    "        self.cmdr.set_vel(0, angle * np.pi / 180 * 10)\n",
    "        await asyncio.sleep(1 / 10)\n",
    "        self.cmdr.set_vel(0, 0)\n",
    "    \n",
    "    async def drive(self, duration):\n",
    "        start = time.time()\n",
    "        speed = self.max_speed\n",
    "\n",
    "        while (time.time() - start < duration):\n",
    "            if (self.get_front_dist() < self.turn_threshold):\n",
    "                await self.turn(random.random() * 360)\n",
    "            elif (self.get_front_dist() > speed * 0.1 + self.turn_threshold):\n",
    "                await self.move_forward(speed, 0.1)\n",
    "                speed = min(speed * 3, self.max_speed)\n",
    "            else:\n",
    "                speed /= 2"
   ]
  },
  {
   "cell_type": "code",
   "execution_count": 23,
   "metadata": {},
   "outputs": [
    {
     "name": "stdout",
     "output_type": "stream",
     "text": [
      "1.875\n",
      "0.3515625\n",
      "0.52734375\n",
      "1.58203125\n",
      "4.74609375\n",
      "7.119140625\n",
      "1.875\n",
      "5.625\n",
      "15\n",
      "7.5\n",
      "1.875\n",
      "5.625\n",
      "15\n",
      "3.75\n",
      "1.40625\n",
      "1.0546875\n",
      "1.58203125\n",
      "0.296630859375\n",
      "0.02780914306640625\n",
      "0.08342742919921875\n",
      "0.25028228759765625\n",
      "0.7508468627929688\n",
      "1.1262702941894531\n",
      "0.4223513603210449\n",
      "0.6335270404815674\n",
      "1.9005811214447021\n",
      "5.7017433643341064\n",
      "15\n",
      "7.5\n",
      "3.75\n",
      "1.40625\n",
      "0.52734375\n",
      "1.58203125\n",
      "4.74609375\n",
      "0.889892578125\n",
      "1.3348388671875\n",
      "2.00225830078125\n",
      "0.7508468627929688\n",
      "0.2815675735473633\n",
      "0.21117568016052246\n",
      "0.6335270404815674\n",
      "1.9005811214447021\n",
      "1.4254358410835266\n",
      "2.13815376162529\n",
      "6.41446128487587\n",
      "15\n",
      "3.75\n",
      "2.8125\n",
      "0.263671875\n",
      "0.3955078125\n",
      "1.1865234375\n",
      "3.5595703125\n",
      "5.33935546875\n",
      "7.5\n",
      "0.9375\n",
      "0.703125\n",
      "2.109375\n",
      "1.58203125\n",
      "0.59326171875\n"
     ]
    }
   ],
   "source": [
    "controller = ClosedLoopController(cmdr, turn_threshold=0.5, max_speed=15)\n",
    "controller.cmdr.reset_sim()\n",
    "\n",
    "await controller.drive(15)"
   ]
  },
  {
   "cell_type": "code",
   "execution_count": null,
   "metadata": {},
   "outputs": [],
   "source": []
  }
 ],
 "metadata": {
  "kernelspec": {
   "display_name": "Python 3 (ipykernel)",
   "language": "python",
   "name": "python3"
  },
  "language_info": {
   "codemirror_mode": {
    "name": "ipython",
    "version": 3
   },
   "file_extension": ".py",
   "mimetype": "text/x-python",
   "name": "python",
   "nbconvert_exporter": "python",
   "pygments_lexer": "ipython3",
   "version": "3.10.4"
  }
 },
 "nbformat": 4,
 "nbformat_minor": 4
}
