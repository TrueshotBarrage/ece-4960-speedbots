{
 "cells": [
  {
   "cell_type": "markdown",
   "metadata": {},
   "source": [
    "# Lab 12: Grid Localization using Bayes Filter (Real Robot)\n",
    "\n",
    "### <span style=\"color:rgb(0,150,0)\">It is recommended that you close any heavy-duty applications running on your system while working on this lab.</span>\n",
    "\n",
    "### <span style=\"color:rgb(0,150,0)\">The notebook only provides skeleton code for you to integrate the Localization class with the Real Robot.</span>\n",
    "\n",
    "<hr>"
   ]
  },
  {
   "cell_type": "code",
   "execution_count": 1,
   "metadata": {},
   "outputs": [
    {
     "name": "stdout",
     "output_type": "stream",
     "text": [
      "2022-05-15 16:35:06,382 |\u001b[32m INFO     \u001b[0m|: Logger demo_notebook.log initialized.\n"
     ]
    }
   ],
   "source": [
    "%load_ext autoreload\n",
    "%autoreload 2\n",
    "\n",
    "import traceback\n",
    "from notebook_utils import *\n",
    "from Traj import *\n",
    "import asyncio\n",
    "import pathlib\n",
    "import os\n",
    "from utils import load_config_params\n",
    "from localization_extras import Localization\n",
    "\n",
    "# The imports below will only work if you copied the required ble-related python files \n",
    "# into the notebooks directory\n",
    "from ble import get_ble_controller\n",
    "from base_ble import LOG\n",
    "from cmd_types import CMD\n",
    "import numpy as np\n",
    "\n",
    "# Setup Logger\n",
    "LOG = get_logger('demo_notebook.log')\n",
    "LOG.propagate = False\n",
    "\n",
    "# Init GUI and Commander\n",
    "gui = GET_GUI()\n",
    "cmdr = gui.launcher.commander\n",
    "\n",
    "from controller import *\n",
    "\n",
    "import nest_asyncio\n",
    "nest_asyncio.apply()"
   ]
  },
  {
   "cell_type": "code",
   "execution_count": 2,
   "metadata": {},
   "outputs": [
    {
     "name": "stderr",
     "output_type": "stream",
     "text": [
      "2022-05-15 16:35:09.199 Python[42949:1913886] ApplePersistenceIgnoreState: Existing state will not be touched. New state will be written to /var/folders/cb/bssy6wvs7yx5fqv9pd5x930w0000gn/T/org.python.python.savedState\n"
     ]
    }
   ],
   "source": [
    "# Start the plotter\n",
    "START_PLOTTER()"
   ]
  },
  {
   "cell_type": "markdown",
   "metadata": {},
   "source": [
    "# The RealRobot class\n",
    "Define the RealRobot class in the code cell below, based on the documentation and your real robot communication protocol. <br>\n",
    "This class is used by the **Localization** class to communicate with the real robot. <br>\n",
    "More specifically, the **Localization** class utilizes the **RealRobot's** member function **perform_observation_loop()** to get the 18 sensor readings and store them in its member variable **obs_range_data**, which is then utilized in the update step."
   ]
  },
  {
   "cell_type": "code",
   "execution_count": 7,
   "metadata": {},
   "outputs": [],
   "source": [
    "class RealRobot():\n",
    "    \"\"\"A class to interact with the real robot\n",
    "    \"\"\"\n",
    "    def __init__(self, commander, ble):\n",
    "        # Load world config\n",
    "        self.world_config = os.path.join(str(pathlib.Path(os.getcwd()).parent), \"config\", \"world.yaml\")\n",
    "        \n",
    "        self.config_params = load_config_params(self.world_config)\n",
    "        \n",
    "        # Commander to commuincate with the Plotter process\n",
    "        # Used by the Localization module to plot odom and belief\n",
    "        self.cmdr = commander\n",
    "\n",
    "        # ArtemisBLEController to communicate with the Robot\n",
    "        self.ble = ble\n",
    "\n",
    "    def get_pose(self):\n",
    "        \"\"\"Get robot pose based on odometry\n",
    "        \n",
    "        Returns:\n",
    "            current_odom -- Odometry Pose (meters, meters, degrees)\n",
    "        \"\"\"\n",
    "        raise NotImplementedError(\"get_pose is not implemented\")\n",
    "\n",
    "    def perform_observation_loop(self, rot_vel=120):\n",
    "        \"\"\"Perform the observation loop behavior on the real robot, where the robot does  \n",
    "        a 360 degree turn in place while collecting equidistant (in the angular space) sensor\n",
    "        readings, with the first sensor reading taken at the robot's current heading. \n",
    "        The number of sensor readings depends on \"observations_count\"(=18) defined in world.yaml.\n",
    "        \n",
    "        Keyword arguments:\n",
    "            rot_vel -- (Optional) Angular Velocity for loop (degrees/second)\n",
    "                        Do not remove this parameter from the function definition, even if you don't use it.\n",
    "        Returns:\n",
    "            sensor_ranges   -- A column numpy array of the range values (meters)\n",
    "            sensor_bearings -- A column numpy array of the bearings at which the sensor readings were taken (degrees)\n",
    "                               The bearing values are not used in the Localization module, so you may return a empty numpy array\n",
    "        \"\"\"\n",
    "        rc = RobotControl(ble)\n",
    "        \n",
    "        rc.spin_360(95)\n",
    "        \n",
    "        while rc.sensor_readings is None or len(rc.sensor_readings) <= 18:\n",
    "            asyncio.run(asyncio.sleep(0.05))\n",
    "        rc.stop_recording()\n",
    "        \n",
    "        # Collect & display the full sensor data\n",
    "        cols = [\n",
    "            \"time\", \"dist_r\", \"dist_f\", \"acc_x\", \"acc_y\", \"acc_z\", \"gyr_x\",\n",
    "            \"gyr_y\", \"gyr_z\", \"mag_x\", \"mag_y\", \"mag_z\", \"temp\"\n",
    "        ]\n",
    "        sensor_data = pd.DataFrame(rc.sensor_arr, columns=cols)\n",
    "        \n",
    "        sensor_ranges = (np.flip(sensor_data[\"dist_f\"][:18].to_numpy()))[np.newaxis].T\n",
    "        sensor_ranges /= 1000\n",
    "        print(sensor_ranges)\n",
    "        \n",
    "        return sensor_ranges, sensor_ranges\n"
   ]
  },
  {
   "cell_type": "code",
   "execution_count": 25,
   "metadata": {},
   "outputs": [
    {
     "name": "stdout",
     "output_type": "stream",
     "text": [
      "2022-05-15 16:39:53,154 |\u001b[32m INFO     \u001b[0m|: Creating New Plotter Process\n"
     ]
    },
    {
     "name": "stderr",
     "output_type": "stream",
     "text": [
      "2022-05-15 16:39:53.957 Python[43560:1919213] ApplePersistenceIgnoreState: Existing state will not be touched. New state will be written to /var/folders/cb/bssy6wvs7yx5fqv9pd5x930w0000gn/T/org.python.python.savedState\n"
     ]
    }
   ],
   "source": [
    "START_PLOTTER()"
   ]
  },
  {
   "cell_type": "code",
   "execution_count": 24,
   "metadata": {},
   "outputs": [
    {
     "name": "stdout",
     "output_type": "stream",
     "text": [
      "2022-05-15 16:39:52,364 |\u001b[32m INFO     \u001b[0m|: Plotter is stopped\n"
     ]
    }
   ],
   "source": [
    "STOP_PLOTTER()"
   ]
  },
  {
   "cell_type": "code",
   "execution_count": 26,
   "metadata": {},
   "outputs": [
    {
     "name": "stdout",
     "output_type": "stream",
     "text": [
      "2022-05-15 16:39:54,309 |\u001b[32m INFO     \u001b[0m|: Looking for Artemis Nano Peripheral Device: C0:83:A5:6D:02:3C\n",
      "2022-05-15 16:39:59,897 |\u001b[32m INFO     \u001b[0m|: Connected to C0:83:A5:6D:02:3C\n"
     ]
    }
   ],
   "source": [
    "# Get ArtemisBLEController object\n",
    "ble = get_ble_controller()\n",
    "\n",
    "# Connect to the Artemis Device\n",
    "ble.connect()"
   ]
  },
  {
   "cell_type": "code",
   "execution_count": 27,
   "metadata": {},
   "outputs": [
    {
     "name": "stdout",
     "output_type": "stream",
     "text": [
      "2022-05-15 16:40:01,276 |\u001b[32m INFO     \u001b[0m|:  | Number of observations per grid cell: 18\n",
      "2022-05-15 16:40:01,277 |\u001b[32m INFO     \u001b[0m|:  | Precaching Views...\n"
     ]
    },
    {
     "name": "stderr",
     "output_type": "stream",
     "text": [
      "/Users/trueshot/Documents/git/fast-robots/lab12/ECE4960-sim-release/localization.py:150: RuntimeWarning: All-NaN slice encountered\n",
      "  return np.nanmin(distance_intersections_tt), intersections_tt[np.nanargmin(distance_intersections_tt)]\n"
     ]
    },
    {
     "name": "stdout",
     "output_type": "stream",
     "text": [
      "2022-05-15 16:40:05,796 |\u001b[32m INFO     \u001b[0m|:  | Precaching Time: 4.519 secs\n",
      "2022-05-15 16:40:05,797 |\u001b[32m INFO     \u001b[0m|: Initializing beliefs with a Uniform Distribution\n",
      "2022-05-15 16:40:05,798 |\u001b[32m INFO     \u001b[0m|: Uniform Belief with each cell value: 0.00051440329218107\n"
     ]
    }
   ],
   "source": [
    "# Initialize RealRobot with a Commander object to communicate with the plotter process\n",
    "# and the ArtemisBLEController object to communicate with the real robot\n",
    "robot = RealRobot(cmdr, ble)\n",
    "\n",
    "# Initialize mapper\n",
    "# Requires a VirtualRobot object as a parameter\n",
    "mapper = Mapper(robot)\n",
    "\n",
    "# Initialize your BaseLocalization object\n",
    "# Requires a RealRobot object and a Mapper object as parameters\n",
    "loc = Localization(robot, mapper)\n",
    "\n",
    "## Plot Map\n",
    "cmdr.plot_map()"
   ]
  },
  {
   "cell_type": "markdown",
   "metadata": {},
   "source": [
    "# Run an update step of the Bayes Filter"
   ]
  },
  {
   "cell_type": "code",
   "execution_count": 28,
   "metadata": {},
   "outputs": [
    {
     "name": "stdout",
     "output_type": "stream",
     "text": [
      "2022-05-15 16:40:07,061 |\u001b[32m INFO     \u001b[0m|: Initializing beliefs with a Uniform Distribution\n",
      "2022-05-15 16:40:07,062 |\u001b[32m INFO     \u001b[0m|: Uniform Belief with each cell value: 0.00051440329218107\n",
      "[[0.443]\n",
      " [0.578]\n",
      " [0.462]\n",
      " [0.413]\n",
      " [0.442]\n",
      " [0.567]\n",
      " [0.825]\n",
      " [2.487]\n",
      " [2.792]\n",
      " [3.186]\n",
      " [0.576]\n",
      " [0.466]\n",
      " [2.847]\n",
      " [1.743]\n",
      " [0.649]\n",
      " [0.49 ]\n",
      " [0.414]\n",
      " [0.416]]\n",
      "2022-05-15 16:40:17,924 |\u001b[32m INFO     \u001b[0m|: Update Step\n",
      "2022-05-15 16:40:17,933 |\u001b[32m INFO     \u001b[0m|:      | Update Time: 0.003 secs\n",
      "2022-05-15 16:40:17,935 |\u001b[32m INFO     \u001b[0m|: Bel index     : (10, 7, 10) with prob = 1.0\n",
      "2022-05-15 16:40:17,936 |\u001b[32m INFO     \u001b[0m|: Bel_bar prob at index = 0.00051440329218107\n",
      "2022-05-15 16:40:17,938 |\u001b[32m INFO     \u001b[0m|: Belief        : (1.524, 0.914, 30.000)\n"
     ]
    }
   ],
   "source": [
    "# Reset Plots\n",
    "cmdr.reset_plotter()\n",
    "\n",
    "# Init Uniform Belief\n",
    "loc.init_grid_beliefs()\n",
    "\n",
    "# Get Observation Data by executing a 360 degree rotation motion\n",
    "await loc.get_observation_data()\n",
    "\n",
    "# Run Update Step\n",
    "loc.update_step()\n",
    "loc.plot_update_step_data(plot_data=True)\n",
    "\n",
    "# Plot Odom and GT\n",
    "# current_odom, current_gt = robot.get_pose()\n",
    "# cmdr.plot_gt(current_gt[0], current_gt[1])\n",
    "# cmdr.plot_odom(current_odom[0], current_odom[1])"
   ]
  },
  {
   "cell_type": "code",
   "execution_count": 29,
   "metadata": {},
   "outputs": [
    {
     "data": {
      "text/plain": [
       "array([[[3.09315034e-004, 7.58498399e-004, 1.75954552e-004, ...,\n",
       "         3.09315034e-004, 1.28834086e-004, 1.28834086e-004],\n",
       "        [3.09315034e-004, 2.99472577e-003, 4.16174906e-001, ...,\n",
       "         3.09315034e-004, 1.28834086e-004, 1.28834086e-004],\n",
       "        [3.09315034e-004, 2.99472577e-003, 4.16174906e-001, ...,\n",
       "         3.09315034e-004, 1.28834086e-004, 1.28834086e-004],\n",
       "        ...,\n",
       "        [5.56490962e-008, 5.56490962e-008, 5.56490962e-008, ...,\n",
       "         5.56490962e-008, 5.56490962e-008, 5.56490962e-008],\n",
       "        [5.56490962e-008, 5.56490962e-008, 5.56490962e-008, ...,\n",
       "         5.56490962e-008, 5.56490962e-008, 5.56490962e-008],\n",
       "        [5.56490962e-008, 5.56490962e-008, 5.56490962e-008, ...,\n",
       "         5.56490962e-008, 5.56490962e-008, 5.56490962e-008]],\n",
       "\n",
       "       [[2.39470054e-002, 7.58498399e-004, 1.75954552e-004, ...,\n",
       "         8.82183830e-001, 5.23656960e-001, 5.23656960e-001],\n",
       "        [8.82183830e-001, 9.82423686e-001, 6.58212416e-001, ...,\n",
       "         8.82183830e-001, 5.23656960e-001, 5.23656960e-001],\n",
       "        [8.82183830e-001, 4.11421496e-001, 6.63905106e-002, ...,\n",
       "         8.82183830e-001, 5.23656960e-001, 5.23656960e-001],\n",
       "        ...,\n",
       "        [5.56490962e-008, 9.82423686e-001, 6.58212416e-001, ...,\n",
       "         5.56490962e-008, 5.56490962e-008, 5.56490962e-008],\n",
       "        [5.56490962e-008, 5.56490962e-008, 6.63905106e-002, ...,\n",
       "         5.56490962e-008, 5.56490962e-008, 5.56490962e-008],\n",
       "        [5.56490962e-008, 5.56490962e-008, 1.80559491e-007, ...,\n",
       "         5.56490962e-008, 5.56490962e-008, 5.56490962e-008]],\n",
       "\n",
       "       [[2.39470054e-002, 7.58498399e-004, 1.75954552e-004, ...,\n",
       "         1.04973612e-002, 1.47194192e-001, 1.47194192e-001],\n",
       "        [1.04973612e-002, 9.82423686e-001, 6.58212416e-001, ...,\n",
       "         1.04973612e-002, 1.47194192e-001, 1.47194192e-001],\n",
       "        [1.04973612e-002, 1.69477109e-004, 6.63905106e-002, ...,\n",
       "         1.04973612e-002, 1.47194192e-001, 1.47194192e-001],\n",
       "        ...,\n",
       "        [5.56490962e-008, 9.82423686e-001, 6.58212416e-001, ...,\n",
       "         5.56490962e-008, 5.56490962e-008, 5.56490962e-008],\n",
       "        [5.56490962e-008, 1.69477109e-004, 6.63905106e-002, ...,\n",
       "         5.56490962e-008, 5.56490962e-008, 5.56490962e-008],\n",
       "        [5.56490962e-008, 5.56490962e-008, 1.80559491e-007, ...,\n",
       "         5.56490962e-008, 5.56490962e-008, 5.56490962e-008]],\n",
       "\n",
       "       ...,\n",
       "\n",
       "       [[2.39470054e-002, 7.58498399e-004, 1.75954552e-004, ...,\n",
       "         1.58269246e-102, 2.86129185e-006, 1.12306880e-002],\n",
       "        [3.48862362e-003, 9.82423686e-001, 6.58212416e-001, ...,\n",
       "         3.36352118e-064, 6.68301798e-122, 2.86129185e-006],\n",
       "        [5.21151716e-010, 1.69477109e-004, 6.63905106e-002, ...,\n",
       "         3.36352118e-064, 6.68301798e-122, 2.86129185e-006],\n",
       "        ...,\n",
       "        [2.39470054e-002, 7.58498399e-004, 1.75954552e-004, ...,\n",
       "         3.69101637e-020, 2.29902013e-045, 2.29902013e-045],\n",
       "        [8.31555063e-167, 9.82423686e-001, 6.58212416e-001, ...,\n",
       "         3.48862362e-003, 2.29902013e-045, 2.29902013e-045],\n",
       "        [8.31555063e-167, 1.83575096e-171, 6.63905106e-002, ...,\n",
       "         2.39470054e-002, 1.12306880e-002, 2.29902013e-045]],\n",
       "\n",
       "       [[2.39470054e-002, 7.58498399e-004, 1.75954552e-004, ...,\n",
       "         1.58269246e-102, 3.84646104e-015, 1.12306880e-002],\n",
       "        [3.48862362e-003, 9.82423686e-001, 6.58212416e-001, ...,\n",
       "         5.05976250e-093, 9.82738493e-156, 3.84646104e-015],\n",
       "        [3.69101637e-020, 1.69477109e-004, 6.63905106e-002, ...,\n",
       "         5.05976250e-093, 9.82738493e-156, 3.84646104e-015],\n",
       "        ...,\n",
       "        [2.39470054e-002, 2.99472577e-003, 4.16174906e-001, ...,\n",
       "         3.69101637e-020, 1.02217448e-066, 1.02217448e-066],\n",
       "        [9.08481165e-212, 9.82423686e-001, 6.58212416e-001, ...,\n",
       "         3.48862362e-003, 1.02217448e-066, 1.02217448e-066],\n",
       "        [9.08481165e-212, 1.69477109e-004, 6.63905106e-002, ...,\n",
       "         2.39470054e-002, 1.12306880e-002, 1.02217448e-066]],\n",
       "\n",
       "       [[2.39470054e-002, 7.58498399e-004, 1.75954552e-004, ...,\n",
       "         3.17562404e-127, 3.57592342e-028, 1.12306880e-002],\n",
       "        [3.48862362e-003, 9.82423686e-001, 6.58212416e-001, ...,\n",
       "         3.17562404e-127, 9.99380793e-194, 3.57592342e-028],\n",
       "        [3.69101637e-020, 1.69477109e-004, 6.63905106e-002, ...,\n",
       "         3.48862362e-003, 9.99380793e-194, 3.57592342e-028],\n",
       "        ...,\n",
       "        [8.82183830e-001, 4.11421496e-001, 1.39575602e-051, ...,\n",
       "         3.69101637e-020, 3.14293200e-092, 1.12306880e-002],\n",
       "        [3.48862362e-003, 4.11421496e-001, 2.00641757e-075, ...,\n",
       "         3.48862362e-003, 3.14293200e-092, 3.14293200e-092],\n",
       "        [4.14098662e-262, 1.69477109e-004, 3.15034980e-013, ...,\n",
       "         2.39470054e-002, 1.12306880e-002, 3.14293200e-092]]])"
      ]
     },
     "execution_count": 29,
     "metadata": {},
     "output_type": "execute_result"
    },
    {
     "name": "stdout",
     "output_type": "stream",
     "text": [
      "2022-05-15 16:41:09,155 |\u001b[32m INFO     \u001b[0m|: Disconnected from B45C71B2-3BCA-639D-7AF3-3C14C2003C3E\n"
     ]
    }
   ],
   "source": [
    "loc.gaussian(loc.mapper.obs_views[:, :, :, 1] - loc.obs_range_data[1][0], 0, loc.sensor_sigma)"
   ]
  },
  {
   "cell_type": "code",
   "execution_count": 25,
   "metadata": {},
   "outputs": [
    {
     "data": {
      "text/plain": [
       "array([[[0.17597636, 0.19894407, 0.16218069, ..., 0.17597636,\n",
       "         0.15475102, 0.15475102],\n",
       "        [0.17597636, 0.23709231, 0.44558779, ..., 0.17597636,\n",
       "         0.15475102, 0.15475102],\n",
       "        [0.17597636, 0.23709231, 0.44558779, ..., 0.17597636,\n",
       "         0.15475102, 0.15475102],\n",
       "        ...,\n",
       "        [0.        , 0.        , 0.        , ..., 0.        ,\n",
       "         0.        , 0.        ],\n",
       "        [0.        , 0.        , 0.        , ..., 0.        ,\n",
       "         0.        , 0.        ],\n",
       "        [0.        , 0.        , 0.        , ..., 0.        ,\n",
       "         0.        , 0.        ]],\n",
       "\n",
       "       [[0.3048    , 0.19894407, 0.16218069, ..., 0.52792909,\n",
       "         0.46425305, 0.46425305],\n",
       "        [0.52792909, 0.59683221, 0.48654208, ..., 0.52792909,\n",
       "         0.46425305, 0.46425305],\n",
       "        [0.52792909, 0.71127693, 0.81090346, ..., 0.52792909,\n",
       "         0.46425305, 0.46425305],\n",
       "        ...,\n",
       "        [0.        , 0.59683221, 0.48654208, ..., 0.        ,\n",
       "         0.        , 0.        ],\n",
       "        [0.        , 0.        , 0.81090346, ..., 0.        ,\n",
       "         0.        , 0.        ],\n",
       "        [0.        , 0.        , 1.13526485, ..., 0.        ,\n",
       "         0.        , 0.        ]],\n",
       "\n",
       "       [[0.3048    , 0.19894407, 0.16218069, ..., 0.87988181,\n",
       "         0.77375508, 0.77375508],\n",
       "        [0.87988181, 0.59683221, 0.48654208, ..., 0.87988181,\n",
       "         0.77375508, 0.77375508],\n",
       "        [0.87988181, 0.99472035, 0.81090346, ..., 0.87988181,\n",
       "         0.77375508, 0.77375508],\n",
       "        ...,\n",
       "        [0.        , 0.59683221, 0.48654208, ..., 0.        ,\n",
       "         0.        , 0.        ],\n",
       "        [0.        , 0.99472035, 0.81090346, ..., 0.        ,\n",
       "         0.        , 0.        ],\n",
       "        [0.        , 0.        , 1.13526485, ..., 0.        ,\n",
       "         0.        , 0.        ]],\n",
       "\n",
       "       ...,\n",
       "\n",
       "       [[0.3048    , 0.19894407, 0.16218069, ..., 2.7432    ,\n",
       "         1.08325711, 0.87763662],\n",
       "        [0.9144    , 0.59683221, 0.48654208, ..., 2.28769271,\n",
       "         2.9402693 , 1.08325711],\n",
       "        [1.23183453, 0.99472035, 0.81090346, ..., 2.28769271,\n",
       "         2.9402693 , 1.08325711],\n",
       "        ...,\n",
       "        [0.3048    , 0.19894407, 0.16218069, ..., 1.524     ,\n",
       "         2.0117632 , 2.0117632 ],\n",
       "        [3.34355088, 0.59683221, 0.48654208, ..., 0.9144    ,\n",
       "         2.0117632 , 2.0117632 ],\n",
       "        [3.34355088, 3.38204921, 0.81090346, ..., 0.3048    ,\n",
       "         0.87763662, 2.0117632 ]],\n",
       "\n",
       "       [[0.3048    , 0.19894407, 0.16218069, ..., 2.7432    ,\n",
       "         1.39275914, 0.87763662],\n",
       "        [0.9144    , 0.59683221, 0.48654208, ..., 2.63964543,\n",
       "         3.24977133, 1.39275914],\n",
       "        [1.524     , 0.99472035, 0.81090346, ..., 2.63964543,\n",
       "         3.24977133, 1.39275914],\n",
       "        ...,\n",
       "        [0.3048    , 0.23709231, 0.44558779, ..., 1.524     ,\n",
       "         2.32126523, 2.32126523],\n",
       "        [3.6955036 , 0.59683221, 0.48654208, ..., 0.9144    ,\n",
       "         2.32126523, 2.32126523],\n",
       "        [3.6955036 , 0.99472035, 0.81090346, ..., 0.3048    ,\n",
       "         0.87763662, 2.32126523]],\n",
       "\n",
       "       [[0.3048    , 0.19894407, 0.16218069, ..., 2.99159815,\n",
       "         1.70226117, 0.87763662],\n",
       "        [0.9144    , 0.59683221, 0.48654208, ..., 2.99159815,\n",
       "         3.55927336, 1.70226117],\n",
       "        [1.524     , 0.99472035, 0.81090346, ..., 0.9144    ,\n",
       "         3.55927336, 1.70226117],\n",
       "        ...,\n",
       "        [0.52792909, 0.71127693, 2.108349  , ..., 1.524     ,\n",
       "         2.63076727, 0.87763662],\n",
       "        [0.9144    , 0.71127693, 2.43271039, ..., 0.9144    ,\n",
       "         2.63076727, 2.63076727],\n",
       "        [4.04745633, 0.99472035, 1.33676337, ..., 0.3048    ,\n",
       "         0.87763662, 2.63076727]]])"
      ]
     },
     "execution_count": 25,
     "metadata": {},
     "output_type": "execute_result"
    }
   ],
   "source": [
    "loc.mapper.obs_views[:, :, :, 1]"
   ]
  },
  {
   "cell_type": "code",
   "execution_count": null,
   "metadata": {},
   "outputs": [],
   "source": []
  }
 ],
 "metadata": {
  "kernelspec": {
   "display_name": "Python 3 (ipykernel)",
   "language": "python",
   "name": "python3"
  },
  "language_info": {
   "codemirror_mode": {
    "name": "ipython",
    "version": 3
   },
   "file_extension": ".py",
   "mimetype": "text/x-python",
   "name": "python",
   "nbconvert_exporter": "python",
   "pygments_lexer": "ipython3",
   "version": "3.10.4"
  }
 },
 "nbformat": 4,
 "nbformat_minor": 4
}
