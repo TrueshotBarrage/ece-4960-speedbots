{
 "cells": [
  {
   "cell_type": "code",
   "execution_count": 1,
   "id": "8dc7c631-ec98-4e67-b4da-8db8b6e30c10",
   "metadata": {},
   "outputs": [],
   "source": [
    "%load_ext autoreload\n",
    "%autoreload 2\n",
    "\n",
    "from ble import get_ble_controller\n",
    "from base_ble import LOG\n",
    "from cmd_types import CMD\n",
    "import time\n",
    "import asyncio\n",
    "import numpy as np\n",
    "\n",
    "\n",
    "LOG.propagate = False"
   ]
  },
  {
   "cell_type": "code",
   "execution_count": 2,
   "id": "bf6504b1-8605-408a-aaf0-b91204e33609",
   "metadata": {},
   "outputs": [],
   "source": [
    "# Get ArtemisBLEController object\n",
    "ble = get_ble_controller()"
   ]
  },
  {
   "cell_type": "code",
   "execution_count": 179,
   "id": "9b773ca7-be07-472d-9327-adaa70e8bfcc",
   "metadata": {},
   "outputs": [
    {
     "name": "stdout",
     "output_type": "stream",
     "text": [
      "2022-03-17 14:53:41,236 |\u001b[32m INFO     \u001b[0m|: Looking for Artemis Nano Peripheral Device: C0:83:A5:6D:02:3C\n",
      "2022-03-17 14:53:45,683 |\u001b[32m INFO     \u001b[0m|: Connected to C0:83:A5:6D:02:3C\n"
     ]
    }
   ],
   "source": [
    "# Connect to the Artemis Device\n",
    "ble.connect()"
   ]
  },
  {
   "cell_type": "code",
   "execution_count": 17,
   "id": "633629dc-6b02-4fd0-97b2-86635dbbad65",
   "metadata": {},
   "outputs": [
    {
     "name": "stdout",
     "output_type": "stream",
     "text": [
      "{'TX_CMD_STRING': '9750f60b-9c9c-4158-b620-02ec9521cd99', 'RX_BLE_RUNTIME': '715c9b74-a522-42c6-97e1-28ecf033bc9b', 'RX_TOF_RIGHT': '2f5c6dcc-0121-4b44-90f4-4685acb8e181', 'RX_TOF_FRONT': '07565624-13ef-4780-afee-bd3b38082505', 'RX_IMU': '213290bb-fc80-4269-90b7-65ce2155dee4'}\n"
     ]
    }
   ],
   "source": [
    "print(ble.uuid)"
   ]
  },
  {
   "cell_type": "code",
   "execution_count": 94,
   "id": "42f4160d-4726-42f9-9ca3-d1befc042883",
   "metadata": {},
   "outputs": [],
   "source": [
    "# Instantiate RobotControl class\n",
    "from controller import RobotControl\n",
    "rc = RobotControl(ble)"
   ]
  },
  {
   "cell_type": "code",
   "execution_count": 5,
   "id": "0491815e-b324-4342-89ed-092fe43bc11b",
   "metadata": {},
   "outputs": [],
   "source": [
    "# Get sensor readings\n",
    "rc.get_imu()"
   ]
  },
  {
   "cell_type": "code",
   "execution_count": 16,
   "id": "7d3aa9f1-2c60-4a96-b975-86cf951b6587",
   "metadata": {},
   "outputs": [],
   "source": [
    "rc.get_tof()"
   ]
  },
  {
   "cell_type": "code",
   "execution_count": 184,
   "id": "8ac086ed-7136-4c09-b7eb-1d19cc97bacd",
   "metadata": {},
   "outputs": [],
   "source": [
    "rc.start_pid()"
   ]
  },
  {
   "cell_type": "code",
   "execution_count": 185,
   "id": "40973e84-d24b-4e79-9ced-1585db9252de",
   "metadata": {},
   "outputs": [
    {
     "name": "stdout",
     "output_type": "stream",
     "text": [
      "2022-03-17 14:55:32,473 |\u001b[32m INFO     \u001b[0m|: Disconnected from 52193D96-8201-1734-7C37-789D2C19BBD9\n"
     ]
    }
   ],
   "source": [
    "rc.stop_pid()"
   ]
  },
  {
   "cell_type": "code",
   "execution_count": 107,
   "id": "8de02b9e-da79-41a9-b3e3-8568fda504dd",
   "metadata": {},
   "outputs": [],
   "source": [
    "rc.toggle_debug()"
   ]
  },
  {
   "cell_type": "code",
   "execution_count": 15,
   "id": "7a572abc-c17c-43c8-92de-184ce9ac4366",
   "metadata": {},
   "outputs": [
    {
     "name": "stdout",
     "output_type": "stream",
     "text": [
      "2022-03-16 10:36:30,236 |\u001b[32m INFO     \u001b[0m|: IMU Reading: 0.166,0.116,0.941,0.2,0.0,0.0,1.120,1.116,1.565,0.28\n",
      "2022-03-16 10:36:31,377 |\u001b[32m INFO     \u001b[0m|: IMU Reading: 0.467,0.87,-1.492,0.71,0.44,0.64,1.58,1.251,1.559,0.28\n"
     ]
    }
   ],
   "source": [
    "# Move forward for 3 seconds and get readings\n",
    "rc.move_forward(150)\n",
    "LOG.info(\"IMU Reading: \" + str(rc.latest_imu_reading))\n",
    "time.sleep(1)\n",
    "rc.stop()\n",
    "\n",
    "rc.get_imu()\n",
    "LOG.info(\"IMU Reading: \" + str(rc.latest_imu_reading))"
   ]
  },
  {
   "cell_type": "code",
   "execution_count": 11,
   "id": "f1585099-c491-4733-8881-1dadb3c9259a",
   "metadata": {},
   "outputs": [
    {
     "data": {
      "text/plain": [
       "deque([(78.0, 1647462286.6351612),\n",
       "       (80.0, 1647462286.755145),\n",
       "       (80.0, 1647462286.8751092),\n",
       "       (79.0, 1647462286.979472),\n",
       "       (79.0, 1647462287.099526),\n",
       "       (82.0, 1647462287.220059),\n",
       "       (80.0, 1647462287.354832),\n",
       "       (80.0, 1647462287.475133),\n",
       "       (79.0, 1647462287.580132),\n",
       "       (80.0, 1647462287.684631),\n",
       "       (79.0, 1647462287.805109),\n",
       "       (80.0, 1647462287.9249768),\n",
       "       (80.0, 1647462288.045121),\n",
       "       (81.0, 1647462288.150052),\n",
       "       (79.0, 1647462288.269621),\n",
       "       (80.0, 1647462288.375223),\n",
       "       (78.0, 1647462288.5100532),\n",
       "       (78.0, 1647462288.614683),\n",
       "       (78.0, 1647462288.735094),\n",
       "       (77.0, 1647462288.840151),\n",
       "       (78.0, 1647462288.9750552),\n",
       "       (80.0, 1647462289.080066),\n",
       "       (79.0, 1647462289.184735),\n",
       "       (80.0, 1647462289.3202271),\n",
       "       (78.0, 1647462289.425144),\n",
       "       (78.0, 1647462289.5452979),\n",
       "       (81.0, 1647462289.6651971),\n",
       "       (80.0, 1647462289.7697122),\n",
       "       (80.0, 1647462289.8750951),\n",
       "       (81.0, 1647462289.995175),\n",
       "       (80.0, 1647462290.099773),\n",
       "       (80.0, 1647462290.2354019),\n",
       "       (80.0, 1647462290.3547552),\n",
       "       (79.0, 1647462290.4751518),\n",
       "       (80.0, 1647462290.6548412),\n",
       "       (80.0, 1647462290.760305),\n",
       "       (81.0, 1647462290.880239),\n",
       "       (79.0, 1647462290.9997928),\n",
       "       (78.0, 1647462291.104735),\n",
       "       (80.0, 1647462291.21013),\n",
       "       (79.0, 1647462291.3301492),\n",
       "       (80.0, 1647462291.435045),\n",
       "       (81.0, 1647462291.554889),\n",
       "       (80.0, 1647462291.6751812),\n",
       "       (80.0, 1647462291.795132),\n",
       "       (82.0, 1647462291.914548),\n",
       "       (81.0, 1647462292.035166),\n",
       "       (81.0, 1647462292.1584141),\n",
       "       (80.0, 1647462292.275189),\n",
       "       (82.0, 1647462292.395146),\n",
       "       (80.0, 1647462292.5150888),\n",
       "       (81.0, 1647462292.620188),\n",
       "       (82.0, 1647462292.739697),\n",
       "       (80.0, 1647462292.8450592),\n",
       "       (79.0, 1647462292.965108),\n",
       "       (81.0, 1647462293.0695848),\n",
       "       (79.0, 1647462293.190264),\n",
       "       (81.0, 1647462293.31016),\n",
       "       (80.0, 1647462293.415187),\n",
       "       (80.0, 1647462293.520119),\n",
       "       (77.0, 1647462293.639827),\n",
       "       (79.0, 1647462293.7452302),\n",
       "       (76.0, 1647462293.895326),\n",
       "       (79.0, 1647462293.999865),\n",
       "       (77.0, 1647462294.135366),\n",
       "       (78.0, 1647462294.254824),\n",
       "       (78.0, 1647462294.3603358),\n",
       "       (77.0, 1647462294.479774),\n",
       "       (79.0, 1647462294.584981),\n",
       "       (77.0, 1647462294.6903198),\n",
       "       (78.0, 1647462294.810345),\n",
       "       (76.0, 1647462294.915193),\n",
       "       (80.0, 1647462295.035423),\n",
       "       (78.0, 1647462295.139863),\n",
       "       (77.0, 1647462295.2603378),\n",
       "       (78.0, 1647462295.395346),\n",
       "       (79.0, 1647462295.515253),\n",
       "       (76.0, 1647462295.620367),\n",
       "       (78.0, 1647462295.739908),\n",
       "       (75.0, 1647462295.8453162),\n",
       "       (79.0, 1647462295.965329),\n",
       "       (78.0, 1647462296.084974),\n",
       "       (77.0, 1647462296.1904461),\n",
       "       (79.0, 1647462296.3103309),\n",
       "       (79.0, 1647462296.430308),\n",
       "       (77.0, 1647462296.535274),\n",
       "       (78.0, 1647462296.654887),\n",
       "       (78.0, 1647462296.7602172),\n",
       "       (79.0, 1647462296.880321),\n",
       "       (79.0, 1647462296.999858),\n",
       "       (77.0, 1647462297.105259),\n",
       "       (80.0, 1647462297.2253451),\n",
       "       (77.0, 1647462297.3302982),\n",
       "       (79.0, 1647462297.450293),\n",
       "       (78.0, 1647462297.584933),\n",
       "       (80.0, 1647462297.705269),\n",
       "       (78.0, 1647462297.810266),\n",
       "       (80.0, 1647462297.9452329),\n",
       "       (81.0, 1647462298.050215),\n",
       "       (77.0, 1647462298.1699111)])"
      ]
     },
     "execution_count": 11,
     "metadata": {},
     "output_type": "execute_result"
    },
    {
     "name": "stdout",
     "output_type": "stream",
     "text": [
      "2022-03-16 16:25:07,443 |\u001b[32m INFO     \u001b[0m|: Disconnected from 52193D96-8201-1734-7C37-789D2C19BBD9\n"
     ]
    }
   ],
   "source": [
    "rc.front_tof_readings"
   ]
  },
  {
   "cell_type": "code",
   "execution_count": 27,
   "id": "94df919f-8c9a-4330-b297-6e8ebfa0fd3f",
   "metadata": {},
   "outputs": [
    {
     "name": "stdout",
     "output_type": "stream",
     "text": [
      "82.0\n",
      "87.0\n",
      "2022-03-16 10:37:55,281 |\u001b[32m INFO     \u001b[0m|: Disconnected from 52193D96-8201-1734-7C37-789D2C19BBD9\n"
     ]
    }
   ],
   "source": [
    "rc.get_runtime()\n",
    "print(rc.runtime)\n",
    "time.sleep(5)\n",
    "rc.get_runtime()\n",
    "print(rc.runtime)"
   ]
  },
  {
   "cell_type": "code",
   "execution_count": 17,
   "id": "05fbb951-0e6d-4a96-9f43-8a2836eebc61",
   "metadata": {},
   "outputs": [
    {
     "data": {
      "text/plain": [
       "495.0"
      ]
     },
     "execution_count": 17,
     "metadata": {},
     "output_type": "execute_result"
    }
   ],
   "source": [
    "rc.ble.receive_float(rc.ble.uuid[\"RX_TOF_RIGHT\"])"
   ]
  },
  {
   "cell_type": "code",
   "execution_count": 14,
   "id": "a99dbeac-7f09-4d5d-8348-2e818652067a",
   "metadata": {},
   "outputs": [
    {
     "data": {
      "text/plain": [
       "676.0"
      ]
     },
     "execution_count": 14,
     "metadata": {},
     "output_type": "execute_result"
    }
   ],
   "source": [
    "rc.ble.receive_float(rc.ble.uuid[\"RX_TOF_FRONT\"])"
   ]
  },
  {
   "cell_type": "code",
   "execution_count": null,
   "id": "9afb17c6-ed71-4088-abca-531229d45dea",
   "metadata": {},
   "outputs": [],
   "source": [
    "while True:\n",
    "    ###### Your code ######\n",
    "    # Ex: Move the robot for 1 sec\n",
    "    rc.move_forward(50)\n",
    "    await asyncio.sleep(1)\n",
    "    rc.stop()\n",
    "    \n",
    "    # Process notify events\n",
    "    # Sleep the current execution so that the notify callback functions can run\n",
    "    # The sleep time can be much smaller, but it depends on the OS, hardware specs, number of notify events and the system load\n",
    "    await asyncio.sleep(0.1)"
   ]
  },
  {
   "cell_type": "code",
   "execution_count": null,
   "id": "847319f9-0fbc-46c9-9682-40bfbfdbb517",
   "metadata": {},
   "outputs": [
    {
     "name": "stdout",
     "output_type": "stream",
     "text": [
      "2022-03-15 22:25:17,622 |\u001b[32m INFO     \u001b[0m|: Disconnected from 52193D96-8201-1734-7C37-789D2C19BBD9\n"
     ]
    }
   ],
   "source": [
    "ble.disconnect()"
   ]
  },
  {
   "cell_type": "code",
   "execution_count": null,
   "id": "49b18489-8c3d-494f-af9d-c5ca03a0e4dc",
   "metadata": {},
   "outputs": [],
   "source": []
  }
 ],
 "metadata": {
  "kernelspec": {
   "display_name": "Python 3 (ipykernel)",
   "language": "python",
   "name": "python3"
  },
  "language_info": {
   "codemirror_mode": {
    "name": "ipython",
    "version": 3
   },
   "file_extension": ".py",
   "mimetype": "text/x-python",
   "name": "python",
   "nbconvert_exporter": "python",
   "pygments_lexer": "ipython3",
   "version": "3.9.9"
  }
 },
 "nbformat": 4,
 "nbformat_minor": 5
}
