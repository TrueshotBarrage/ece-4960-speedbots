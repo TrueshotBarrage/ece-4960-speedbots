{
 "cells": [
  {
   "cell_type": "code",
   "execution_count": 1,
   "id": "8dc7c631-ec98-4e67-b4da-8db8b6e30c10",
   "metadata": {},
   "outputs": [],
   "source": [
    "%load_ext autoreload\n",
    "%autoreload 2\n",
    "\n",
    "from ble import get_ble_controller\n",
    "from base_ble import LOG\n",
    "from cmd_types import CMD\n",
    "import time\n",
    "import asyncio\n",
    "import numpy as np\n",
    "\n",
    "\n",
    "LOG.propagate = False"
   ]
  },
  {
   "cell_type": "code",
   "execution_count": 2,
   "id": "bf6504b1-8605-408a-aaf0-b91204e33609",
   "metadata": {},
   "outputs": [],
   "source": [
    "# Get ArtemisBLEController object\n",
    "ble = get_ble_controller()"
   ]
  },
  {
   "cell_type": "code",
   "execution_count": 4,
   "id": "9b773ca7-be07-472d-9327-adaa70e8bfcc",
   "metadata": {},
   "outputs": [
    {
     "name": "stdout",
     "output_type": "stream",
     "text": [
      "2022-03-30 16:43:39,207 |\u001b[32m INFO     \u001b[0m|: Looking for Artemis Nano Peripheral Device: C0:83:A5:6D:02:3C\n"
     ]
    },
    {
     "ename": "Exception",
     "evalue": "Could not find device with address: C0:83:A5:6D:02:3C and service uuid: 4a7c2101-7d65-4814-81a2-7df8ecf23609",
     "output_type": "error",
     "traceback": [
      "\u001b[0;31m---------------------------------------------------------------------------\u001b[0m",
      "\u001b[0;31mException\u001b[0m                                 Traceback (most recent call last)",
      "Input \u001b[0;32mIn [4]\u001b[0m, in \u001b[0;36m<module>\u001b[0;34m\u001b[0m\n\u001b[1;32m      1\u001b[0m \u001b[38;5;66;03m# Connect to the Artemis Device\u001b[39;00m\n\u001b[0;32m----> 2\u001b[0m \u001b[43mble\u001b[49m\u001b[38;5;241;43m.\u001b[39;49m\u001b[43mconnect\u001b[49m\u001b[43m(\u001b[49m\u001b[43m)\u001b[49m\n",
      "File \u001b[0;32m~/Documents/git/fast-robots/lab7/robot_ctrl_python/ble.py:66\u001b[0m, in \u001b[0;36mBaseBLEController.connect\u001b[0;34m(self, max_retries)\u001b[0m\n\u001b[1;32m     63\u001b[0m retry_ctr \u001b[38;5;241m=\u001b[39m \u001b[38;5;241m0\u001b[39m\n\u001b[1;32m     65\u001b[0m \u001b[38;5;28;01mwhile\u001b[39;00m retry_ctr \u001b[38;5;241m<\u001b[39m max_retries:\n\u001b[0;32m---> 66\u001b[0m     success \u001b[38;5;241m=\u001b[39m \u001b[38;5;28;43mself\u001b[39;49m\u001b[38;5;241;43m.\u001b[39;49m\u001b[43m_wait\u001b[49m\u001b[43m(\u001b[49m\u001b[38;5;28;43mself\u001b[39;49m\u001b[38;5;241;43m.\u001b[39;49m\u001b[43mdevice\u001b[49m\u001b[38;5;241;43m.\u001b[39;49m\u001b[43m_connect\u001b[49m\u001b[43m(\u001b[49m\u001b[43m)\u001b[49m\u001b[43m)\u001b[49m\n\u001b[1;32m     67\u001b[0m     \u001b[38;5;28;01mif\u001b[39;00m success:\n\u001b[1;32m     68\u001b[0m         \u001b[38;5;28;01mbreak\u001b[39;00m\n",
      "File \u001b[0;32m~/Documents/git/fast-robots/lab7/robot_ctrl_python/base_ble.py:33\u001b[0m, in \u001b[0;36mwait_b\u001b[0;34m(coroutine)\u001b[0m\n\u001b[1;32m     32\u001b[0m \u001b[38;5;28;01mdef\u001b[39;00m \u001b[38;5;21mwait_b\u001b[39m(coroutine):\n\u001b[0;32m---> 33\u001b[0m     \u001b[38;5;28;01mreturn\u001b[39;00m \u001b[43masyncio\u001b[49m\u001b[38;5;241;43m.\u001b[39;49m\u001b[43mrun\u001b[49m\u001b[43m(\u001b[49m\u001b[43mcoroutine\u001b[49m\u001b[43m)\u001b[49m\n",
      "File \u001b[0;32m~/Documents/git/ece4960_ble/lib/python3.9/site-packages/nest_asyncio.py:38\u001b[0m, in \u001b[0;36m_patch_asyncio.<locals>.run\u001b[0;34m(main, debug)\u001b[0m\n\u001b[1;32m     36\u001b[0m task \u001b[38;5;241m=\u001b[39m asyncio\u001b[38;5;241m.\u001b[39mensure_future(main)\n\u001b[1;32m     37\u001b[0m \u001b[38;5;28;01mtry\u001b[39;00m:\n\u001b[0;32m---> 38\u001b[0m     \u001b[38;5;28;01mreturn\u001b[39;00m \u001b[43mloop\u001b[49m\u001b[38;5;241;43m.\u001b[39;49m\u001b[43mrun_until_complete\u001b[49m\u001b[43m(\u001b[49m\u001b[43mtask\u001b[49m\u001b[43m)\u001b[49m\n\u001b[1;32m     39\u001b[0m \u001b[38;5;28;01mfinally\u001b[39;00m:\n\u001b[1;32m     40\u001b[0m     \u001b[38;5;28;01mif\u001b[39;00m \u001b[38;5;129;01mnot\u001b[39;00m task\u001b[38;5;241m.\u001b[39mdone():\n",
      "File \u001b[0;32m~/Documents/git/ece4960_ble/lib/python3.9/site-packages/nest_asyncio.py:81\u001b[0m, in \u001b[0;36m_patch_loop.<locals>.run_until_complete\u001b[0;34m(self, future)\u001b[0m\n\u001b[1;32m     78\u001b[0m \u001b[38;5;28;01mif\u001b[39;00m \u001b[38;5;129;01mnot\u001b[39;00m f\u001b[38;5;241m.\u001b[39mdone():\n\u001b[1;32m     79\u001b[0m     \u001b[38;5;28;01mraise\u001b[39;00m \u001b[38;5;167;01mRuntimeError\u001b[39;00m(\n\u001b[1;32m     80\u001b[0m         \u001b[38;5;124m'\u001b[39m\u001b[38;5;124mEvent loop stopped before Future completed.\u001b[39m\u001b[38;5;124m'\u001b[39m)\n\u001b[0;32m---> 81\u001b[0m \u001b[38;5;28;01mreturn\u001b[39;00m \u001b[43mf\u001b[49m\u001b[38;5;241;43m.\u001b[39;49m\u001b[43mresult\u001b[49m\u001b[43m(\u001b[49m\u001b[43m)\u001b[49m\n",
      "File \u001b[0;32m/usr/local/Cellar/python@3.9/3.9.9/Frameworks/Python.framework/Versions/3.9/lib/python3.9/asyncio/futures.py:201\u001b[0m, in \u001b[0;36mFuture.result\u001b[0;34m(self)\u001b[0m\n\u001b[1;32m    199\u001b[0m \u001b[38;5;28mself\u001b[39m\u001b[38;5;241m.\u001b[39m__log_traceback \u001b[38;5;241m=\u001b[39m \u001b[38;5;28;01mFalse\u001b[39;00m\n\u001b[1;32m    200\u001b[0m \u001b[38;5;28;01mif\u001b[39;00m \u001b[38;5;28mself\u001b[39m\u001b[38;5;241m.\u001b[39m_exception \u001b[38;5;129;01mis\u001b[39;00m \u001b[38;5;129;01mnot\u001b[39;00m \u001b[38;5;28;01mNone\u001b[39;00m:\n\u001b[0;32m--> 201\u001b[0m     \u001b[38;5;28;01mraise\u001b[39;00m \u001b[38;5;28mself\u001b[39m\u001b[38;5;241m.\u001b[39m_exception\n\u001b[1;32m    202\u001b[0m \u001b[38;5;28;01mreturn\u001b[39;00m \u001b[38;5;28mself\u001b[39m\u001b[38;5;241m.\u001b[39m_result\n",
      "File \u001b[0;32m/usr/local/Cellar/python@3.9/3.9.9/Frameworks/Python.framework/Versions/3.9/lib/python3.9/asyncio/tasks.py:256\u001b[0m, in \u001b[0;36mTask.__step\u001b[0;34m(***failed resolving arguments***)\u001b[0m\n\u001b[1;32m    252\u001b[0m \u001b[38;5;28;01mtry\u001b[39;00m:\n\u001b[1;32m    253\u001b[0m     \u001b[38;5;28;01mif\u001b[39;00m exc \u001b[38;5;129;01mis\u001b[39;00m \u001b[38;5;28;01mNone\u001b[39;00m:\n\u001b[1;32m    254\u001b[0m         \u001b[38;5;66;03m# We use the `send` method directly, because coroutines\u001b[39;00m\n\u001b[1;32m    255\u001b[0m         \u001b[38;5;66;03m# don't have `__iter__` and `__next__` methods.\u001b[39;00m\n\u001b[0;32m--> 256\u001b[0m         result \u001b[38;5;241m=\u001b[39m \u001b[43mcoro\u001b[49m\u001b[38;5;241;43m.\u001b[39;49m\u001b[43msend\u001b[49m\u001b[43m(\u001b[49m\u001b[38;5;28;43;01mNone\u001b[39;49;00m\u001b[43m)\u001b[49m\n\u001b[1;32m    257\u001b[0m     \u001b[38;5;28;01melse\u001b[39;00m:\n\u001b[1;32m    258\u001b[0m         result \u001b[38;5;241m=\u001b[39m coro\u001b[38;5;241m.\u001b[39mthrow(exc)\n",
      "File \u001b[0;32m~/Documents/git/fast-robots/lab7/robot_ctrl_python/base_ble.py:88\u001b[0m, in \u001b[0;36mBLEAsyncDevice._connect\u001b[0;34m(self)\u001b[0m\n\u001b[1;32m     85\u001b[0m LOG\u001b[38;5;241m.\u001b[39minfo(\u001b[38;5;124m'\u001b[39m\u001b[38;5;124mLooking for Artemis Nano Peripheral Device: \u001b[39m\u001b[38;5;132;01m{}\u001b[39;00m\u001b[38;5;124m'\u001b[39m\u001b[38;5;241m.\u001b[39mformat(\n\u001b[1;32m     86\u001b[0m     \u001b[38;5;28mself\u001b[39m\u001b[38;5;241m.\u001b[39maddress))\n\u001b[1;32m     87\u001b[0m success \u001b[38;5;241m=\u001b[39m \u001b[38;5;28;01mFalse\u001b[39;00m\n\u001b[0;32m---> 88\u001b[0m device \u001b[38;5;241m=\u001b[39m \u001b[38;5;28;01mawait\u001b[39;00m \u001b[38;5;28mself\u001b[39m\u001b[38;5;241m.\u001b[39m_get_ble_device()\n\u001b[1;32m     89\u001b[0m \u001b[38;5;28mself\u001b[39m\u001b[38;5;241m.\u001b[39mclient \u001b[38;5;241m=\u001b[39m BleakClient(device)\n\u001b[1;32m     90\u001b[0m \u001b[38;5;28;01mtry\u001b[39;00m:\n",
      "File \u001b[0;32m~/Documents/git/fast-robots/lab7/robot_ctrl_python/base_ble.py:72\u001b[0m, in \u001b[0;36mBLEAsyncDevice._get_ble_device\u001b[0;34m(self, timeout)\u001b[0m\n\u001b[1;32m     69\u001b[0m             \u001b[38;5;28;01mbreak\u001b[39;00m\n\u001b[1;32m     71\u001b[0m \u001b[38;5;28;01mif\u001b[39;00m device \u001b[38;5;241m==\u001b[39m \u001b[38;5;28;01mNone\u001b[39;00m:\n\u001b[0;32m---> 72\u001b[0m     \u001b[38;5;28;01mraise\u001b[39;00m \u001b[38;5;167;01mException\u001b[39;00m(\n\u001b[1;32m     73\u001b[0m         \u001b[38;5;124m'\u001b[39m\u001b[38;5;124mCould not find device with address: \u001b[39m\u001b[38;5;132;01m{}\u001b[39;00m\u001b[38;5;124m and service uuid: \u001b[39m\u001b[38;5;132;01m{}\u001b[39;00m\u001b[38;5;124m'\u001b[39m\n\u001b[1;32m     74\u001b[0m         \u001b[38;5;241m.\u001b[39mformat(\u001b[38;5;28mself\u001b[39m\u001b[38;5;241m.\u001b[39maddress, \u001b[38;5;28mself\u001b[39m\u001b[38;5;241m.\u001b[39mservice_uuid))\n\u001b[1;32m     75\u001b[0m \u001b[38;5;28;01melse\u001b[39;00m:\n\u001b[1;32m     76\u001b[0m     \u001b[38;5;28;01mreturn\u001b[39;00m device\n",
      "\u001b[0;31mException\u001b[0m: Could not find device with address: C0:83:A5:6D:02:3C and service uuid: 4a7c2101-7d65-4814-81a2-7df8ecf23609"
     ]
    }
   ],
   "source": [
    "# Connect to the Artemis Device\n",
    "ble.connect()"
   ]
  },
  {
   "cell_type": "code",
   "execution_count": 27,
   "id": "42f4160d-4726-42f9-9ca3-d1befc042883",
   "metadata": {},
   "outputs": [],
   "source": [
    "# Instantiate RobotControl class\n",
    "from controller import *\n",
    "rc = RobotControl(ble)"
   ]
  },
  {
   "cell_type": "code",
   "execution_count": 17,
   "id": "0491815e-b324-4342-89ed-092fe43bc11b",
   "metadata": {},
   "outputs": [],
   "source": [
    "# Get sensor readings\n",
    "rc.get_imu()"
   ]
  },
  {
   "cell_type": "code",
   "execution_count": 5,
   "id": "7d3aa9f1-2c60-4a96-b975-86cf951b6587",
   "metadata": {},
   "outputs": [],
   "source": [
    "rc.get_tof()"
   ]
  },
  {
   "cell_type": "code",
   "execution_count": 28,
   "id": "8ac086ed-7136-4c09-b7eb-1d19cc97bacd",
   "metadata": {},
   "outputs": [],
   "source": [
    "rc.start_pid()"
   ]
  },
  {
   "cell_type": "code",
   "execution_count": 29,
   "id": "40973e84-d24b-4e79-9ced-1585db9252de",
   "metadata": {},
   "outputs": [],
   "source": [
    "rc.stop_pid()"
   ]
  },
  {
   "cell_type": "code",
   "execution_count": 7,
   "id": "8de02b9e-da79-41a9-b3e3-8568fda504dd",
   "metadata": {},
   "outputs": [],
   "source": [
    "rc.toggle_debug()"
   ]
  },
  {
   "cell_type": "code",
   "execution_count": 13,
   "id": "7a572abc-c17c-43c8-92de-184ce9ac4366",
   "metadata": {},
   "outputs": [
    {
     "name": "stdout",
     "output_type": "stream",
     "text": [
      "2022-03-30 16:04:35,510 |\u001b[32m INFO     \u001b[0m|: IMU Reading: 0.161,0.347,0.897,0.0,0.1,0.2,0.246,0.980,1.154,0.27\n",
      "2022-03-30 16:04:36,261 |\u001b[32m INFO     \u001b[0m|: IMU Reading: 0.270,-1.343,0.444,0.186,0.87,0.5,0.309,0.989,1.67,0.26\n"
     ]
    }
   ],
   "source": [
    "# Move forward for 3 seconds and get readings\n",
    "rc.move_forward(150)\n",
    "LOG.info(\"IMU Reading: \" + str(rc.latest_imu_reading))\n",
    "time.sleep(0.5)\n",
    "rc.stop()\n",
    "\n",
    "rc.get_imu()\n",
    "LOG.info(\"IMU Reading: \" + str(rc.latest_imu_reading))"
   ]
  },
  {
   "cell_type": "code",
   "execution_count": 17,
   "id": "f1585099-c491-4733-8881-1dadb3c9259a",
   "metadata": {
    "collapsed": true,
    "jupyter": {
     "outputs_hidden": true
    },
    "tags": []
   },
   "outputs": [
    {
     "data": {
      "text/plain": [
       "deque([(374.0, '0.3'),\n",
       "       (384.0, '0.5'),\n",
       "       (378.0, '0.7'),\n",
       "       (384.0, '0.8'),\n",
       "       (375.0, '0.9'),\n",
       "       (379.0, '1.0'),\n",
       "       (382.0, '1.1'),\n",
       "       (370.0, '1.3'),\n",
       "       (368.0, '1.4'),\n",
       "       (360.0, '1.5'),\n",
       "       (386.0, '1.6'),\n",
       "       (377.0, '1.7'),\n",
       "       (372.0, '1.8'),\n",
       "       (377.0, '2.0'),\n",
       "       (371.0, '2.1'),\n",
       "       (380.0, '2.2'),\n",
       "       (389.0, '2.3'),\n",
       "       (367.0, '2.5'),\n",
       "       (368.0, '2.6'),\n",
       "       (377.0, '2.7'),\n",
       "       (365.0, '2.8'),\n",
       "       (382.0, '3.0'),\n",
       "       (379.0, '3.9'),\n",
       "       (377.0, '4.1'),\n",
       "       (369.0, '4.3'),\n",
       "       (370.0, '4.5'),\n",
       "       (369.0, '4.7'),\n",
       "       (379.0, '4.9'),\n",
       "       (362.0, '5.0'),\n",
       "       (363.0, '5.2'),\n",
       "       (386.0, '5.4'),\n",
       "       (382.0, '5.6'),\n",
       "       (379.0, '5.7'),\n",
       "       (365.0, '5.9'),\n",
       "       (385.0, '6.1'),\n",
       "       (367.0, '6.2'),\n",
       "       (373.0, '6.4'),\n",
       "       (379.0, '6.6'),\n",
       "       (377.0, '6.8'),\n",
       "       (363.0, '6.9'),\n",
       "       (373.0, '7.0'),\n",
       "       (363.0, '7.2'),\n",
       "       (375.0, '7.4'),\n",
       "       (360.0, '7.6'),\n",
       "       (364.0, '7.8'),\n",
       "       (375.0, '8.0'),\n",
       "       (358.0, '8.2'),\n",
       "       (365.0, '8.3'),\n",
       "       (367.0, '8.5'),\n",
       "       (380.0, '8.7'),\n",
       "       (365.0, '8.9'),\n",
       "       (375.0, '9.0'),\n",
       "       (375.0, '9.1'),\n",
       "       (365.0, '9.3'),\n",
       "       (375.0, '9.4'),\n",
       "       (377.0, '9.5'),\n",
       "       (364.0, '9.6'),\n",
       "       (368.0, '9.8'),\n",
       "       (370.0, '9.9'),\n",
       "       (378.0, '10.0'),\n",
       "       (382.0, '10.1'),\n",
       "       (366.0, '10.3'),\n",
       "       (381.0, '10.4'),\n",
       "       (363.0, '10.5'),\n",
       "       (384.0, '10.6'),\n",
       "       (367.0, '10.7'),\n",
       "       (382.0, '10.9'),\n",
       "       (384.0, '11.0'),\n",
       "       (406.0, '11.1'),\n",
       "       (367.0, '11.3'),\n",
       "       (371.0, '11.4'),\n",
       "       (375.0, '11.5'),\n",
       "       (394.0, '11.6'),\n",
       "       (371.0, '11.7'),\n",
       "       (367.0, '11.8'),\n",
       "       (373.0, '12.0'),\n",
       "       (372.0, '12.1'),\n",
       "       (378.0, '12.2'),\n",
       "       (366.0, '12.3'),\n",
       "       (374.0, '12.4'),\n",
       "       (377.0, '12.5'),\n",
       "       (380.0, '12.7'),\n",
       "       (378.0, '12.8'),\n",
       "       (377.0, '12.9'),\n",
       "       (375.0, '13.0'),\n",
       "       (378.0, '13.2'),\n",
       "       (380.0, '13.3'),\n",
       "       (376.0, '13.4'),\n",
       "       (360.0, '13.5'),\n",
       "       (371.0, '13.7'),\n",
       "       (372.0, '13.8'),\n",
       "       (383.0, '13.9'),\n",
       "       (396.0, '14.0'),\n",
       "       (380.0, '14.2'),\n",
       "       (384.0, '14.3'),\n",
       "       (373.0, '14.4'),\n",
       "       (365.0, '14.5'),\n",
       "       (378.0, '14.7'),\n",
       "       (367.0, '14.8'),\n",
       "       (360.0, '14.9'),\n",
       "       (399.0, '15.0'),\n",
       "       (367.0, '15.1'),\n",
       "       (376.0, '15.3'),\n",
       "       (384.0, '15.4'),\n",
       "       (385.0, '15.6'),\n",
       "       (396.0, '15.7'),\n",
       "       (390.0, '15.8'),\n",
       "       (374.0, '16.0'),\n",
       "       (384.0, '16.1'),\n",
       "       (365.0, '16.2'),\n",
       "       (370.0, '16.4'),\n",
       "       (4170.0, '16.5'),\n",
       "       (4401.0, '16.6'),\n",
       "       (3972.0, '16.8'),\n",
       "       (3421.0, '17.0'),\n",
       "       (3215.0, '17.2'),\n",
       "       (3394.0, '17.3'),\n",
       "       (3041.0, '17.5'),\n",
       "       (3123.0, '17.8'),\n",
       "       (2337.0, '17.9'),\n",
       "       (501.0, '18.0'),\n",
       "       (1581.0, '18.1'),\n",
       "       (241.0, '18.2'),\n",
       "       (770.0, '18.4'),\n",
       "       (2156.0, '18.5'),\n",
       "       (498.0, '18.6'),\n",
       "       (364.0, '18.7'),\n",
       "       (363.0, '18.9'),\n",
       "       (316.0, '19.0'),\n",
       "       (322.0, '19.1'),\n",
       "       (1.0, '19.2'),\n",
       "       (3.0, '19.4'),\n",
       "       (1.0, '19.5'),\n",
       "       (2.0, '19.6'),\n",
       "       (1.0, '19.7'),\n",
       "       (1.0, '19.9'),\n",
       "       (0.0, '20.0'),\n",
       "       (1.0, '20.1'),\n",
       "       (2.0, '20.2'),\n",
       "       (1.0, '20.4'),\n",
       "       (2.0, '20.5'),\n",
       "       (2.0, '20.6'),\n",
       "       (3.0, '20.7'),\n",
       "       (3.0, '20.8'),\n",
       "       (1.0, '21.0'),\n",
       "       (83.0, '21.1'),\n",
       "       (374.0, '21.2'),\n",
       "       (357.0, '21.4'),\n",
       "       (657.0, '21.5'),\n",
       "       (2398.0, '21.6'),\n",
       "       (2401.0, '21.8'),\n",
       "       (2347.0, '21.9'),\n",
       "       (2013.0, '22.0'),\n",
       "       (389.0, '22.1'),\n",
       "       (324.0, '22.3'),\n",
       "       (303.0, '22.4'),\n",
       "       (311.0, '22.5'),\n",
       "       (320.0, '22.7'),\n",
       "       (346.0, '22.8'),\n",
       "       (346.0, '22.9'),\n",
       "       (342.0, '23.0'),\n",
       "       (306.0, '23.2'),\n",
       "       (294.0, '23.3'),\n",
       "       (313.0, '23.4'),\n",
       "       (340.0, '23.5'),\n",
       "       (345.0, '23.7'),\n",
       "       (339.0, '23.8'),\n",
       "       (334.0, '23.9'),\n",
       "       (363.0, '24.1'),\n",
       "       (430.0, '24.2'),\n",
       "       (432.0, '24.4'),\n",
       "       (569.0, '24.5'),\n",
       "       (2116.0, '24.6'),\n",
       "       (1060.0, '24.7'),\n",
       "       (395.0, '24.8'),\n",
       "       (360.0, '25.0'),\n",
       "       (315.0, '25.1'),\n",
       "       (300.0, '25.2'),\n",
       "       (300.0, '25.3'),\n",
       "       (294.0, '25.4'),\n",
       "       (275.0, '25.6'),\n",
       "       (301.0, '25.7'),\n",
       "       (287.0, '25.8'),\n",
       "       (292.0, '25.9'),\n",
       "       (305.0, '26.0'),\n",
       "       (301.0, '26.2'),\n",
       "       (286.0, '26.3'),\n",
       "       (230.0, '26.4'),\n",
       "       (181.0, '26.5'),\n",
       "       (297.0, '26.7'),\n",
       "       (311.0, '26.8'),\n",
       "       (305.0, '27.0'),\n",
       "       (7.0, '27.2'),\n",
       "       (2.0, '27.3'),\n",
       "       (4.0, '27.5'),\n",
       "       (8.0, '27.6'),\n",
       "       (12.0, '27.7'),\n",
       "       (17.0, '27.9'),\n",
       "       (22.0, '28.0'),\n",
       "       (26.0, '28.1'),\n",
       "       (114.0, '28.3'),\n",
       "       (2387.0, '28.4'),\n",
       "       (2240.0, '28.6'),\n",
       "       (1890.0, '28.7'),\n",
       "       (376.0, '28.8'),\n",
       "       (359.0, '29.0'),\n",
       "       (314.0, '29.1'),\n",
       "       (193.0, '29.2'),\n",
       "       (3.0, '29.3'),\n",
       "       (308.0, '29.5'),\n",
       "       (311.0, '29.6'),\n",
       "       (324.0, '29.7'),\n",
       "       (350.0, '29.8'),\n",
       "       (573.0, '30.0'),\n",
       "       (2368.0, '30.1'),\n",
       "       (2459.0, '30.2'),\n",
       "       (2443.0, '30.3'),\n",
       "       (2548.0, '30.4'),\n",
       "       (2959.0, '30.5'),\n",
       "       (3887.0, '30.7'),\n",
       "       (3950.0, '30.8'),\n",
       "       (4251.0, '30.9'),\n",
       "       (4246.0, '31.1'),\n",
       "       (4125.0, '31.3'),\n",
       "       (4113.0, '31.5'),\n",
       "       (4002.0, '31.7'),\n",
       "       (4061.0, '31.9'),\n",
       "       (4086.0, '32.0'),\n",
       "       (4012.0, '32.1'),\n",
       "       (4052.0, '32.3'),\n",
       "       (3968.0, '32.5'),\n",
       "       (4120.0, '32.6'),\n",
       "       (3970.0, '32.8'),\n",
       "       (4041.0, '33.0'),\n",
       "       (4021.0, '33.2'),\n",
       "       (4072.0, '33.3'),\n",
       "       (4037.0, '33.5'),\n",
       "       (3888.0, '33.7'),\n",
       "       (4111.0, '33.9'),\n",
       "       (4064.0, '34.1')])"
      ]
     },
     "execution_count": 17,
     "metadata": {},
     "output_type": "execute_result"
    }
   ],
   "source": [
    "rc.front_tof_readings"
   ]
  },
  {
   "cell_type": "code",
   "execution_count": 16,
   "id": "8863f95d-c897-4faf-80e0-69ff923ed852",
   "metadata": {},
   "outputs": [],
   "source": [
    "rc.sensor_arr = None"
   ]
  },
  {
   "cell_type": "code",
   "execution_count": 38,
   "id": "026f3628-a9d5-4f1a-9c2d-d483e2b2ff58",
   "metadata": {
    "tags": []
   },
   "outputs": [
    {
     "data": {
      "text/plain": [
       "array([[3.400e+00, 7.100e+01,       nan, ...,       nan,       nan,\n",
       "              nan],\n",
       "       [3.600e+00, 6.800e+01,       nan, ...,       nan,       nan,\n",
       "              nan],\n",
       "       [3.800e+00, 6.500e+01,       nan, ...,       nan,       nan,\n",
       "              nan],\n",
       "       ...,\n",
       "       [1.039e+02,       nan, 1.687e+03, ..., 9.000e-01, 9.910e-01,\n",
       "        2.600e-01],\n",
       "       [1.040e+02,       nan, 1.684e+03, ...,       nan,       nan,\n",
       "              nan],\n",
       "       [1.041e+02,       nan, 1.688e+03, ..., 8.990e-01, 9.910e-01,\n",
       "        2.600e-01]])"
      ]
     },
     "execution_count": 38,
     "metadata": {},
     "output_type": "execute_result"
    }
   ],
   "source": [
    "rc.log_data()"
   ]
  },
  {
   "cell_type": "code",
   "execution_count": 39,
   "id": "3c3c54ca-7ea1-4ace-bb89-1f9957cba8c2",
   "metadata": {},
   "outputs": [
    {
     "data": {
      "image/png": "[encoded data removed]",
      "text/plain": [
       "<Figure size 432x288 with 1 Axes>"
      ]
     },
     "metadata": {
      "needs_background": "light"
     },
     "output_type": "display_data"
    },
    {
     "name": "stdout",
     "output_type": "stream",
     "text": [
      "2022-03-30 16:40:35,362 |\u001b[32m INFO     \u001b[0m|: Disconnected from 52193D96-8201-1734-7C37-789D2C19BBD9\n"
     ]
    }
   ],
   "source": [
    "plot_time_series_data(rc.sensor_arr)"
   ]
  },
  {
   "cell_type": "code",
   "execution_count": 17,
   "id": "05fbb951-0e6d-4a96-9f43-8a2836eebc61",
   "metadata": {},
   "outputs": [
    {
     "data": {
      "text/plain": [
       "495.0"
      ]
     },
     "execution_count": 17,
     "metadata": {},
     "output_type": "execute_result"
    }
   ],
   "source": [
    "rc.ble.receive_float(rc.ble.uuid[\"RX_TOF_RIGHT\"])"
   ]
  },
  {
   "cell_type": "code",
   "execution_count": 14,
   "id": "a99dbeac-7f09-4d5d-8348-2e818652067a",
   "metadata": {},
   "outputs": [
    {
     "data": {
      "text/plain": [
       "676.0"
      ]
     },
     "execution_count": 14,
     "metadata": {},
     "output_type": "execute_result"
    }
   ],
   "source": [
    "rc.ble.receive_float(rc.ble.uuid[\"RX_TOF_FRONT\"])"
   ]
  },
  {
   "cell_type": "code",
   "execution_count": null,
   "id": "9afb17c6-ed71-4088-abca-531229d45dea",
   "metadata": {},
   "outputs": [],
   "source": [
    "while True:\n",
    "    ###### Your code ######\n",
    "    # Ex: Move the robot for 1 sec\n",
    "    rc.move_forward(50)\n",
    "    await asyncio.sleep(1)\n",
    "    rc.stop()\n",
    "    \n",
    "    # Process notify events\n",
    "    # Sleep the current execution so that the notify callback functions can run\n",
    "    # The sleep time can be much smaller, but it depends on the OS, hardware specs, number of notify events and the system load\n",
    "    await asyncio.sleep(0.1)"
   ]
  },
  {
   "cell_type": "code",
   "execution_count": 26,
   "id": "847319f9-0fbc-46c9-9682-40bfbfdbb517",
   "metadata": {},
   "outputs": [
    {
     "name": "stdout",
     "output_type": "stream",
     "text": [
      "2022-03-23 15:06:07,951 |\u001b[32m INFO     \u001b[0m|: Disconnected from 52193D96-8201-1734-7C37-789D2C19BBD9\n"
     ]
    }
   ],
   "source": [
    "ble.disconnect()"
   ]
  },
  {
   "cell_type": "code",
   "execution_count": null,
   "id": "49b18489-8c3d-494f-af9d-c5ca03a0e4dc",
   "metadata": {},
   "outputs": [],
   "source": []
  }
 ],
 "metadata": {
  "kernelspec": {
   "display_name": "Python 3 (ipykernel)",
   "language": "python",
   "name": "python3"
  },
  "language_info": {
   "codemirror_mode": {
    "name": "ipython",
    "version": 3
   },
   "file_extension": ".py",
   "mimetype": "text/x-python",
   "name": "python",
   "nbconvert_exporter": "python",
   "pygments_lexer": "ipython3",
   "version": "3.9.9"
  }
 },
 "nbformat": 4,
 "nbformat_minor": 5
}
